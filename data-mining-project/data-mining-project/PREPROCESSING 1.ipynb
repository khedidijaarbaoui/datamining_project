{
 "cells": [
  {
   "cell_type": "markdown",
   "id": "b129c56a",
   "metadata": {},
   "source": [
    "# Step 1: Understand the Dataset"
   ]
  },
  {
   "cell_type": "markdown",
   "id": "aff20fda",
   "metadata": {},
   "source": [
    "### 1.Import the required libraries "
   ]
  },
  {
   "cell_type": "code",
   "execution_count": 1,
   "id": "a8799cd4",
   "metadata": {},
   "outputs": [],
   "source": [
    "import pandas as pd\n",
    "import matplotlib.pyplot as plt\n",
    "import numpy as np\n",
    "import seaborn as sns\n",
    "import datetime as dt\n",
    "import datetime as dt\n",
    "import re\n",
    "from fuzzywuzzy import fuzz\n"
   ]
  },
  {
   "cell_type": "markdown",
   "id": "823b6fae",
   "metadata": {},
   "source": [
    "### 2.Load the dataset."
   ]
  },
  {
   "cell_type": "code",
   "execution_count": 2,
   "id": "6fc9f45e",
   "metadata": {},
   "outputs": [],
   "source": [
    "# Load the dataset\n",
    "file_path = './Data/Project_datamining_final_data_03_12_an1.csv'\n",
    "complete_data = pd.read_csv(file_path)\n"
   ]
  },
  {
   "cell_type": "code",
   "execution_count": 3,
   "id": "dc30dc6b",
   "metadata": {},
   "outputs": [
    {
     "data": {
      "text/html": [
       "<div>\n",
       "<style scoped>\n",
       "    .dataframe tbody tr th:only-of-type {\n",
       "        vertical-align: middle;\n",
       "    }\n",
       "\n",
       "    .dataframe tbody tr th {\n",
       "        vertical-align: top;\n",
       "    }\n",
       "\n",
       "    .dataframe thead th {\n",
       "        text-align: right;\n",
       "    }\n",
       "</style>\n",
       "<table border=\"1\" class=\"dataframe\">\n",
       "  <thead>\n",
       "    <tr style=\"text-align: right;\">\n",
       "      <th></th>\n",
       "      <th>CleEffet</th>\n",
       "      <th>Date</th>\n",
       "      <th>TypeEffet</th>\n",
       "      <th>FamilleArticle</th>\n",
       "      <th>Code Produit</th>\n",
       "      <th>Reference Produit</th>\n",
       "      <th>NLot</th>\n",
       "      <th>Produit_Designation</th>\n",
       "      <th>DetailEffet_Designation</th>\n",
       "      <th>Quantite</th>\n",
       "      <th>PrixAchat</th>\n",
       "      <th>PrixUnitaireTTC</th>\n",
       "      <th>DetailEffet_Marge</th>\n",
       "      <th>Effet_Marge</th>\n",
       "      <th>MontantHT</th>\n",
       "      <th>Payement</th>\n",
       "    </tr>\n",
       "  </thead>\n",
       "  <tbody>\n",
       "    <tr>\n",
       "      <th>0</th>\n",
       "      <td>1</td>\n",
       "      <td>8/14/2012</td>\n",
       "      <td>Bon d'entrée</td>\n",
       "      <td>Produit Insecticides</td>\n",
       "      <td>0305-004</td>\n",
       "      <td>0305</td>\n",
       "      <td>CHA110501</td>\n",
       "      <td>Produit_Anon_0</td>\n",
       "      <td>Detail_Anon_0</td>\n",
       "      <td>65.0</td>\n",
       "      <td>1,650.00</td>\n",
       "      <td>9,999.00</td>\n",
       "      <td>0.00</td>\n",
       "      <td>216,310,866.75</td>\n",
       "      <td>216,310,866.75</td>\n",
       "      <td>0.00</td>\n",
       "    </tr>\n",
       "    <tr>\n",
       "      <th>1</th>\n",
       "      <td>1</td>\n",
       "      <td>8/14/2012</td>\n",
       "      <td>Bon d'entrée</td>\n",
       "      <td>Matériel bovin</td>\n",
       "      <td>11250</td>\n",
       "      <td>0305</td>\n",
       "      <td>10.274.1.09</td>\n",
       "      <td>Produit_Anon_1</td>\n",
       "      <td>Detail_Anon_1</td>\n",
       "      <td>120.0</td>\n",
       "      <td>550.00</td>\n",
       "      <td>9,999.00</td>\n",
       "      <td>0.00</td>\n",
       "      <td>216,310,866.75</td>\n",
       "      <td>216,310,866.75</td>\n",
       "      <td>0.00</td>\n",
       "    </tr>\n",
       "    <tr>\n",
       "      <th>2</th>\n",
       "      <td>1</td>\n",
       "      <td>8/14/2012</td>\n",
       "      <td>Bon d'entrée</td>\n",
       "      <td>Produit Insecticides</td>\n",
       "      <td>0305-039</td>\n",
       "      <td>0305</td>\n",
       "      <td>L110703</td>\n",
       "      <td>Produit_Anon_2</td>\n",
       "      <td>Detail_Anon_2</td>\n",
       "      <td>137.0</td>\n",
       "      <td>1,034.00</td>\n",
       "      <td>9,999.00</td>\n",
       "      <td>0.00</td>\n",
       "      <td>216,310,866.75</td>\n",
       "      <td>216,310,866.75</td>\n",
       "      <td>0.00</td>\n",
       "    </tr>\n",
       "    <tr>\n",
       "      <th>3</th>\n",
       "      <td>1</td>\n",
       "      <td>8/14/2012</td>\n",
       "      <td>Bon d'entrée</td>\n",
       "      <td>Produit Insecticides</td>\n",
       "      <td>2F18272093</td>\n",
       "      <td>2F18272093</td>\n",
       "      <td>2F18272093</td>\n",
       "      <td>Produit_Anon_3</td>\n",
       "      <td>Detail_Anon_3</td>\n",
       "      <td>2000.0</td>\n",
       "      <td>2,800.00</td>\n",
       "      <td>9,999.00</td>\n",
       "      <td>0.00</td>\n",
       "      <td>216,310,866.75</td>\n",
       "      <td>216,310,866.75</td>\n",
       "      <td>0.00</td>\n",
       "    </tr>\n",
       "    <tr>\n",
       "      <th>4</th>\n",
       "      <td>1</td>\n",
       "      <td>8/14/2012</td>\n",
       "      <td>Bon d'entrée</td>\n",
       "      <td>Produit Insecticides</td>\n",
       "      <td>0305-054</td>\n",
       "      <td>0305</td>\n",
       "      <td>20101102</td>\n",
       "      <td>Produit_Anon_4</td>\n",
       "      <td>Detail_Anon_4</td>\n",
       "      <td>3500.0</td>\n",
       "      <td>1,550.00</td>\n",
       "      <td>9,999.00</td>\n",
       "      <td>0.00</td>\n",
       "      <td>216,310,866.75</td>\n",
       "      <td>216,310,866.75</td>\n",
       "      <td>0.00</td>\n",
       "    </tr>\n",
       "  </tbody>\n",
       "</table>\n",
       "</div>"
      ],
      "text/plain": [
       "   CleEffet       Date     TypeEffet        FamilleArticle Code Produit  \\\n",
       "0         1  8/14/2012  Bon d'entrée  Produit Insecticides     0305-004   \n",
       "1         1  8/14/2012  Bon d'entrée        Matériel bovin        11250   \n",
       "2         1  8/14/2012  Bon d'entrée  Produit Insecticides     0305-039   \n",
       "3         1  8/14/2012  Bon d'entrée  Produit Insecticides   2F18272093   \n",
       "4         1  8/14/2012  Bon d'entrée  Produit Insecticides     0305-054   \n",
       "\n",
       "  Reference Produit         NLot Produit_Designation DetailEffet_Designation  \\\n",
       "0              0305    CHA110501      Produit_Anon_0           Detail_Anon_0   \n",
       "1              0305  10.274.1.09      Produit_Anon_1           Detail_Anon_1   \n",
       "2              0305      L110703      Produit_Anon_2           Detail_Anon_2   \n",
       "3        2F18272093   2F18272093      Produit_Anon_3           Detail_Anon_3   \n",
       "4              0305     20101102      Produit_Anon_4           Detail_Anon_4   \n",
       "\n",
       "   Quantite PrixAchat PrixUnitaireTTC DetailEffet_Marge     Effet_Marge  \\\n",
       "0      65.0  1,650.00        9,999.00              0.00  216,310,866.75   \n",
       "1     120.0    550.00        9,999.00              0.00  216,310,866.75   \n",
       "2     137.0  1,034.00        9,999.00              0.00  216,310,866.75   \n",
       "3    2000.0  2,800.00        9,999.00              0.00  216,310,866.75   \n",
       "4    3500.0  1,550.00        9,999.00              0.00  216,310,866.75   \n",
       "\n",
       "        MontantHT Payement  \n",
       "0  216,310,866.75     0.00  \n",
       "1  216,310,866.75     0.00  \n",
       "2  216,310,866.75     0.00  \n",
       "3  216,310,866.75     0.00  \n",
       "4  216,310,866.75     0.00  "
      ]
     },
     "execution_count": 3,
     "metadata": {},
     "output_type": "execute_result"
    }
   ],
   "source": [
    "# Inspect the first few rows\n",
    "complete_data.head()"
   ]
  },
  {
   "cell_type": "code",
   "execution_count": 4,
   "id": "fc93cb68",
   "metadata": {},
   "outputs": [
    {
     "data": {
      "text/plain": [
       "CleEffet                     int64\n",
       "Date                        object\n",
       "TypeEffet                   object\n",
       "FamilleArticle              object\n",
       "Code Produit                object\n",
       "Reference Produit           object\n",
       "NLot                        object\n",
       "Produit_Designation         object\n",
       "DetailEffet_Designation     object\n",
       "Quantite                   float64\n",
       "PrixAchat                   object\n",
       "PrixUnitaireTTC             object\n",
       "DetailEffet_Marge           object\n",
       "Effet_Marge                 object\n",
       "MontantHT                   object\n",
       "Payement                    object\n",
       "dtype: object"
      ]
     },
     "execution_count": 4,
     "metadata": {},
     "output_type": "execute_result"
    }
   ],
   "source": [
    "# Check data types\n",
    "complete_data.dtypes"
   ]
  },
  {
   "cell_type": "code",
   "execution_count": 5,
   "id": "60c44aac",
   "metadata": {
    "scrolled": true
   },
   "outputs": [
    {
     "name": "stdout",
     "output_type": "stream",
     "text": [
      "<class 'pandas.core.frame.DataFrame'>\n",
      "RangeIndex: 261001 entries, 0 to 261000\n",
      "Data columns (total 16 columns):\n",
      " #   Column                   Non-Null Count   Dtype  \n",
      "---  ------                   --------------   -----  \n",
      " 0   CleEffet                 261001 non-null  int64  \n",
      " 1   Date                     261001 non-null  object \n",
      " 2   TypeEffet                261001 non-null  object \n",
      " 3   FamilleArticle           261001 non-null  object \n",
      " 4   Code Produit             160237 non-null  object \n",
      " 5   Reference Produit        135717 non-null  object \n",
      " 6   NLot                     228637 non-null  object \n",
      " 7   Produit_Designation      261001 non-null  object \n",
      " 8   DetailEffet_Designation  261001 non-null  object \n",
      " 9   Quantite                 261001 non-null  float64\n",
      " 10  PrixAchat                261001 non-null  object \n",
      " 11  PrixUnitaireTTC          261001 non-null  object \n",
      " 12  DetailEffet_Marge        261001 non-null  object \n",
      " 13  Effet_Marge              261001 non-null  object \n",
      " 14  MontantHT                261001 non-null  object \n",
      " 15  Payement                 261001 non-null  object \n",
      "dtypes: float64(1), int64(1), object(14)\n",
      "memory usage: 31.9+ MB\n"
     ]
    }
   ],
   "source": [
    "complete_data.info()"
   ]
  },
  {
   "cell_type": "markdown",
   "id": "89713e41",
   "metadata": {},
   "source": [
    "###### This output tells us:\n",
    "the whole dataset has 261001 entries\n",
    "\n",
    "Columns like CleEffet, Date, TypeEffet, etc., have 261,001 non-null values, meaning they have no missing values.\n",
    "\n",
    "Columns like Code Produit, Reference Produit, and NLot have fewer non-null values, meaning they have missing value"
   ]
  },
  {
   "cell_type": "markdown",
   "id": "fc5e7ee2",
   "metadata": {},
   "source": [
    "# Step 2: Handle Missing Values"
   ]
  },
  {
   "cell_type": "markdown",
   "id": "4402e547",
   "metadata": {},
   "source": [
    "### Print the count of non-null values for each column"
   ]
  },
  {
   "cell_type": "markdown",
   "id": "21653b5c",
   "metadata": {},
   "source": [
    "lets see which columns have missing values and how many."
   ]
  },
  {
   "cell_type": "code",
   "execution_count": 6,
   "id": "243e4ec0",
   "metadata": {
    "scrolled": true
   },
   "outputs": [
    {
     "name": "stdout",
     "output_type": "stream",
     "text": [
      "CleEffet                        0\n",
      "Date                            0\n",
      "TypeEffet                       0\n",
      "FamilleArticle                  0\n",
      "Code Produit               100764\n",
      "Reference Produit          125284\n",
      "NLot                        32364\n",
      "Produit_Designation             0\n",
      "DetailEffet_Designation         0\n",
      "Quantite                        0\n",
      "PrixAchat                       0\n",
      "PrixUnitaireTTC                 0\n",
      "DetailEffet_Marge               0\n",
      "Effet_Marge                     0\n",
      "MontantHT                       0\n",
      "Payement                        0\n",
      "dtype: int64\n"
     ]
    }
   ],
   "source": [
    "# Check for missing values in each column\n",
    "print(complete_data.isnull().sum())"
   ]
  },
  {
   "cell_type": "markdown",
   "id": "35576332",
   "metadata": {},
   "source": [
    "###### This output tells us:\n",
    "\n",
    "Code Produit has 100,764 missing values.\n",
    "\n",
    "Reference Produit has 125,284 missing values.\n",
    "\n",
    "NLot has 32,364 missing values.\n",
    "\n",
    "All other columns have no missing values."
   ]
  },
  {
   "cell_type": "markdown",
   "id": "6e21b36b",
   "metadata": {},
   "source": [
    "### 1.handling missing values in Code Produit"
   ]
  },
  {
   "cell_type": "code",
   "execution_count": 7,
   "id": "8a242d8b",
   "metadata": {},
   "outputs": [
    {
     "name": "stdout",
     "output_type": "stream",
     "text": [
      "CleEffet                   261001\n",
      "Date                       261001\n",
      "TypeEffet                  261001\n",
      "FamilleArticle             261001\n",
      "Code Produit               160237\n",
      "Reference Produit          135717\n",
      "NLot                       228637\n",
      "Produit_Designation        261001\n",
      "DetailEffet_Designation    261001\n",
      "Quantite                   261001\n",
      "PrixAchat                  261001\n",
      "PrixUnitaireTTC            261001\n",
      "DetailEffet_Marge          261001\n",
      "Effet_Marge                261001\n",
      "MontantHT                  261001\n",
      "Payement                   261001\n",
      "dtype: int64\n"
     ]
    }
   ],
   "source": [
    "# Drop rows where 'Code Produit' is missing\n",
    "#complete_data.dropna(subset=['Code Produit'], inplace=True)\n",
    "\n",
    "# Check the count of non-null values again\n",
    "print(complete_data.count())"
   ]
  },
  {
   "cell_type": "markdown",
   "id": "b85ca32b",
   "metadata": {},
   "source": [
    "### 2.Handle missing values in Reference Produit"
   ]
  },
  {
   "cell_type": "code",
   "execution_count": 8,
   "id": "1ce5c276",
   "metadata": {
    "scrolled": true
   },
   "outputs": [
    {
     "name": "stdout",
     "output_type": "stream",
     "text": [
      "CleEffet                   261001\n",
      "Date                       261001\n",
      "TypeEffet                  261001\n",
      "FamilleArticle             261001\n",
      "Code Produit               160237\n",
      "Reference Produit          261001\n",
      "NLot                       228637\n",
      "Produit_Designation        261001\n",
      "DetailEffet_Designation    261001\n",
      "Quantite                   261001\n",
      "PrixAchat                  261001\n",
      "PrixUnitaireTTC            261001\n",
      "DetailEffet_Marge          261001\n",
      "Effet_Marge                261001\n",
      "MontantHT                  261001\n",
      "Payement                   261001\n",
      "dtype: int64\n"
     ]
    }
   ],
   "source": [
    "# Fill missing values in 'Reference Produit' with 'Unknown'\n",
    "complete_data['Reference Produit'] = complete_data['Reference Produit'].fillna('Unknown')\n",
    "\n",
    "# Check the count of non-null values again\n",
    "print(complete_data.count())"
   ]
  },
  {
   "cell_type": "markdown",
   "id": "03049219",
   "metadata": {},
   "source": [
    "### 3.Handle Missing Values in NLot"
   ]
  },
  {
   "cell_type": "code",
   "execution_count": 9,
   "id": "4eb5f9ba",
   "metadata": {},
   "outputs": [
    {
     "name": "stdout",
     "output_type": "stream",
     "text": [
      "CleEffet                   261001\n",
      "Date                       261001\n",
      "TypeEffet                  261001\n",
      "FamilleArticle             261001\n",
      "Code Produit               160237\n",
      "Reference Produit          261001\n",
      "NLot                       261001\n",
      "Produit_Designation        261001\n",
      "DetailEffet_Designation    261001\n",
      "Quantite                   261001\n",
      "PrixAchat                  261001\n",
      "PrixUnitaireTTC            261001\n",
      "DetailEffet_Marge          261001\n",
      "Effet_Marge                261001\n",
      "MontantHT                  261001\n",
      "Payement                   261001\n",
      "dtype: int64\n"
     ]
    }
   ],
   "source": [
    "# Fill missing values in 'NLot' with 'Unknown'\n",
    "complete_data['NLot'] = complete_data['NLot'].fillna('Unknown')\n",
    "\n",
    "# Check the count of non-null values again\n",
    "print(complete_data.count())"
   ]
  },
  {
   "cell_type": "markdown",
   "id": "78979786",
   "metadata": {},
   "source": [
    "# Step 3: Data Type Conversion"
   ]
  },
  {
   "cell_type": "markdown",
   "id": "38a8b814",
   "metadata": {},
   "source": [
    "This step is crucial because it ensures that each column has the correct data type, which is essential for accurate analysis and modeling,Columns like Date should be in datetime format, and numerical columns like PrixAchat, PrixUnitaireTTC, etc., should be in float or int format."
   ]
  },
  {
   "cell_type": "markdown",
   "id": "29580a79",
   "metadata": {},
   "source": [
    "### 1: Convert 'Date' to datetime"
   ]
  },
  {
   "cell_type": "code",
   "execution_count": 10,
   "id": "e025105a",
   "metadata": {},
   "outputs": [
    {
     "name": "stdout",
     "output_type": "stream",
     "text": [
      "datetime64[ns]\n"
     ]
    }
   ],
   "source": [
    "# Convert 'Date' to datetime\n",
    "complete_data['Date'] = pd.to_datetime(complete_data['Date'])\n",
    "\n",
    "# Check the data type of 'Date'\n",
    "print(complete_data['Date'].dtype)"
   ]
  },
  {
   "cell_type": "markdown",
   "id": "7a890064",
   "metadata": {},
   "source": [
    "### 2.Convert numerical columns to float"
   ]
  },
  {
   "cell_type": "code",
   "execution_count": 11,
   "id": "b1fe9ce1",
   "metadata": {},
   "outputs": [
    {
     "name": "stdout",
     "output_type": "stream",
     "text": [
      "PrixAchat            float64\n",
      "PrixUnitaireTTC      float64\n",
      "DetailEffet_Marge    float64\n",
      "Effet_Marge          float64\n",
      "MontantHT            float64\n",
      "Payement             float64\n",
      "dtype: object\n"
     ]
    }
   ],
   "source": [
    "# List of numerical columns to convert\n",
    "numerical_columns = ['PrixAchat', 'PrixUnitaireTTC', 'DetailEffet_Marge', 'Effet_Marge', 'MontantHT', 'Payement']\n",
    "\n",
    "# Remove commas and convert to float\n",
    "for col in numerical_columns:\n",
    "    complete_data[col] = complete_data[col].str.replace(',', '').astype(float)\n",
    "\n",
    "# Check the data types of numerical columns\n",
    "print(complete_data[numerical_columns].dtypes)"
   ]
  },
  {
   "cell_type": "markdown",
   "id": "bd915cdc",
   "metadata": {},
   "source": [
    "### 3.Verify the changes"
   ]
  },
  {
   "cell_type": "code",
   "execution_count": 12,
   "id": "e21b8db2",
   "metadata": {},
   "outputs": [
    {
     "name": "stdout",
     "output_type": "stream",
     "text": [
      "CleEffet                            int64\n",
      "Date                       datetime64[ns]\n",
      "TypeEffet                          object\n",
      "FamilleArticle                     object\n",
      "Code Produit                       object\n",
      "Reference Produit                  object\n",
      "NLot                               object\n",
      "Produit_Designation                object\n",
      "DetailEffet_Designation            object\n",
      "Quantite                          float64\n",
      "PrixAchat                         float64\n",
      "PrixUnitaireTTC                   float64\n",
      "DetailEffet_Marge                 float64\n",
      "Effet_Marge                       float64\n",
      "MontantHT                         float64\n",
      "Payement                          float64\n",
      "dtype: object\n"
     ]
    }
   ],
   "source": [
    "# Check the data types of all columns\n",
    "print(complete_data.dtypes)"
   ]
  },
  {
   "cell_type": "markdown",
   "id": "1496f319",
   "metadata": {},
   "source": [
    "# Step 4: Handle Categorical Data"
   ]
  },
  {
   "cell_type": "markdown",
   "id": "65c4bcdf",
   "metadata": {},
   "source": [
    "### 1.Standardize FamilleArticle"
   ]
  },
  {
   "cell_type": "code",
   "execution_count": 13,
   "id": "2591c91c",
   "metadata": {},
   "outputs": [
    {
     "name": "stdout",
     "output_type": "stream",
     "text": [
      "Unique values in 'FamilleArticle':\n",
      "['produit insecticides' 'matériel bovin' 'produit acaricides'\n",
      " 'prouduits raticide + anti insect' 'produit engrais'\n",
      " 'matériel de pompe 400 l' 'matériel apiculture' 'produit herbicides'\n",
      " 'produit fongicides' 'semences courgette' 'courgette_hybride'\n",
      " 'semences laitue' 'semences haricot' 'semences oignon' 'semences navet'\n",
      " 'semences fenouil' 'semences petit pois' 'semences persil'\n",
      " 'semences coriandre' 'semences celeri' 'semences artichaut'\n",
      " 'semences poirée verte' 'semences concombre' 'detail'\n",
      " \"materiels de l'arboriculture\" 'matériel divers' 'pastèque_hybride'\n",
      " 'matériels tronceneuses' 'matériel des moteur' 'poivron_hybride'\n",
      " 'matériels joints membrane' 'matériels joints spi ou ressort'\n",
      " 'matériel goûte à goûte' 'matériels du labour' \"matériels d'irrigation\"\n",
      " 'matériel pulvérisation' 'matériel jardinage'\n",
      " 'matériel outils de préparation de la terre' 'matériel avicole'\n",
      " 'matériels de taille' 'semences tomate' 'chou-fleur_hybride'\n",
      " 'semences pastèque' 'tomates_hybride' 'laitue_hybride' 'semences avoine'\n",
      " 'semences aubergine' 'semences piment' 'semences carottes'\n",
      " 'semences feve' 'semences mais' 'semences bettrave rouge'\n",
      " 'semences trefle' 'semences avesse( guerfala)' 'divers de hsen'\n",
      " 'grands sachets de ghazioui' 'semences sec' 'semences gazon' 'tourbe'\n",
      " 'produit molluscicides' 'melon_hybride' 'semences  lisèrne'\n",
      " 'semences sorgho' 'semences pomme de tèrre' 'semences poivron'\n",
      " 'piment_hybride' 'semences cardan' 'semences radis' 'plantes olives'\n",
      " 'semences melon' 'semencs choux' 'semences potagère' 'homs'\n",
      " 'concombre _hybride' 'aubergine_hybride' 'semences kosbar'\n",
      " 'plants prunier' 'plante fruité divers' 'plants pommier' 'fleur'\n",
      " 'semences braka' 'semences potiron' 'produit biostimulant'\n",
      " 'sachet potageur' 'engrais soluble' 'aliment de betail' 'des arbres'\n",
      " 'semences basilic' 'semmence orge' 'produit apiculture'\n",
      " 'semence fourrage' 'semmence poureau']\n"
     ]
    },
    {
     "data": {
      "text/plain": [
       "92"
      ]
     },
     "execution_count": 13,
     "metadata": {},
     "output_type": "execute_result"
    }
   ],
   "source": [
    "# Convert 'FamilleArticle' to lowercase and strip whitespace\n",
    "complete_data['FamilleArticle'] = complete_data['FamilleArticle'].str.lower().str.strip()\n",
    "\n",
    "# Store unique values\n",
    "unique_famille_articles = complete_data['FamilleArticle'].unique()\n",
    "\n",
    "# Print the unique values\n",
    "print(\"Unique values in 'FamilleArticle':\")\n",
    "print(unique_famille_articles)\n",
    "len(unique_famille_articles)"
   ]
  },
  {
   "cell_type": "markdown",
   "id": "7c9f7a17",
   "metadata": {},
   "source": [
    "### we can noice that there are inconsistencies in the unique 82 values that should be handled ex :\n",
    "\"prouduits\" vs. \"produits\" \n",
    "\"semences\" vs. \"semencs\"   \n",
    "\"matériel\" vs. \"matériels\"\n",
    "\n"
   ]
  },
  {
   "cell_type": "code",
   "execution_count": 14,
   "id": "33ac4195",
   "metadata": {},
   "outputs": [
    {
     "name": "stdout",
     "output_type": "stream",
     "text": [
      "Counts of each unique value in 'FamilleArticle':\n",
      "FamilleArticle\n",
      "detail                  40243\n",
      "produit engrais         24648\n",
      "produit insecticides    20771\n",
      "matériel apiculture     19080\n",
      "produit fongicides      17612\n",
      "                        ...  \n",
      "semences artichaut         15\n",
      "semmence poureau           12\n",
      "plants pommier              3\n",
      "semences braka              2\n",
      "plants prunier              2\n",
      "Name: count, Length: 92, dtype: int64\n"
     ]
    }
   ],
   "source": [
    "# Count the occurrences of each unique value in 'FamilleArticle'\n",
    "famille_counts = complete_data['FamilleArticle'].value_counts()\n",
    "\n",
    "# Print the counts\n",
    "print(\"Counts of each unique value in 'FamilleArticle':\")\n",
    "print(famille_counts)"
   ]
  },
  {
   "cell_type": "markdown",
   "id": "3a675d34",
   "metadata": {},
   "source": [
    "### We’ll identify families that start with similar prefixes (e.g., semence, matériel, produit) and standardize them. This will ensure consistency across the dataset."
   ]
  },
  {
   "cell_type": "markdown",
   "id": "036f0e8c",
   "metadata": {},
   "source": [
    "### Standardize Families with \"semence\" Prefix\n",
    "turning them all to semance"
   ]
  },
  {
   "cell_type": "code",
   "execution_count": 15,
   "id": "a6e1ee89",
   "metadata": {
    "scrolled": true
   },
   "outputs": [
    {
     "name": "stdout",
     "output_type": "stream",
     "text": [
      "Updated unique values after standardizing 'semence':\n",
      "['produit insecticides' 'matériel bovin' 'produit acaricides'\n",
      " 'prouduits raticide + anti insect' 'produit engrais'\n",
      " 'matériel de pompe 400 l' 'matériel apiculture' 'produit herbicides'\n",
      " 'produit fongicides' 'semence courgette' 'courgette_hybride'\n",
      " 'semence laitue' 'semence haricot' 'semence oignon' 'semence navet'\n",
      " 'semence fenouil' 'semence petit pois' 'semence persil'\n",
      " 'semence coriandre' 'semence celeri' 'semence artichaut'\n",
      " 'semence poirée verte' 'semence concombre' 'detail'\n",
      " \"materiels de l'arboriculture\" 'matériel divers' 'pastèque_hybride'\n",
      " 'matériels tronceneuses' 'matériel des moteur' 'poivron_hybride'\n",
      " 'matériels joints membrane' 'matériels joints spi ou ressort'\n",
      " 'matériel goûte à goûte' 'matériels du labour' \"matériels d'irrigation\"\n",
      " 'matériel pulvérisation' 'matériel jardinage'\n",
      " 'matériel outils de préparation de la terre' 'matériel avicole'\n",
      " 'matériels de taille' 'semence tomate' 'chou-fleur_hybride'\n",
      " 'semence pastèque' 'tomates_hybride' 'laitue_hybride' 'semence avoine'\n",
      " 'semence aubergine' 'semence piment' 'semence carottes' 'semence feve'\n",
      " 'semence mais' 'semence bettrave rouge' 'semence trefle'\n",
      " 'semence avesse( guerfala)' 'divers de hsen' 'grands sachets de ghazioui'\n",
      " 'semence sec' 'semence gazon' 'tourbe' 'produit molluscicides'\n",
      " 'melon_hybride' 'semence lisèrne' 'semence sorgho'\n",
      " 'semence pomme de tèrre' 'semence poivron' 'piment_hybride'\n",
      " 'semence cardan' 'semence radis' 'plantes olives' 'semence melon'\n",
      " 'semence choux' 'semence potagère' 'homs' 'concombre _hybride'\n",
      " 'aubergine_hybride' 'semence kosbar' 'plants prunier'\n",
      " 'plante fruité divers' 'plants pommier' 'fleur' 'semence braka'\n",
      " 'semence potiron' 'produit biostimulant' 'sachet potageur'\n",
      " 'engrais soluble' 'aliment de betail' 'des arbres' 'semence basilic'\n",
      " 'semence orge' 'produit apiculture' 'semence fourrage' 'semence poureau']\n"
     ]
    }
   ],
   "source": [
    "from rapidfuzz import fuzz\n",
    "\n",
    "# Define a threshold for fuzzy matching\n",
    "threshold = 80\n",
    "\n",
    "# Function to standardize families with \"semence\" prefix\n",
    "def standardize_semence(family):\n",
    "    words = family.split()  # Split the family name into words\n",
    "    # Check if the first or second word is similar to \"semence\"\n",
    "    if len(words) > 0 and fuzz.ratio(\"semence\", words[0]) >= threshold:\n",
    "        words[0] = \"semence\"\n",
    "    if len(words) > 1 and fuzz.ratio(\"semence\", words[1]) >= threshold:\n",
    "        words[1] = \"semence\"\n",
    "    return ' '.join(words)\n",
    "\n",
    "# Apply the function to the 'FamilleArticle' column\n",
    "complete_data['FamilleArticle'] = complete_data['FamilleArticle'].apply(standardize_semence)\n",
    "\n",
    "# Check the updated unique values\n",
    "updated_unique_famille_articles = complete_data['FamilleArticle'].unique()\n",
    "print(\"Updated unique values after standardizing 'semence':\")\n",
    "print(updated_unique_famille_articles)"
   ]
  },
  {
   "cell_type": "markdown",
   "id": "5b7e953b",
   "metadata": {},
   "source": [
    "### Standardize Families with \"matériel\" Prefix\n",
    "Turning them all to matériel "
   ]
  },
  {
   "cell_type": "code",
   "execution_count": 16,
   "id": "fce312f8",
   "metadata": {},
   "outputs": [
    {
     "name": "stdout",
     "output_type": "stream",
     "text": [
      "Updated unique values after standardizing 'matériel':\n",
      "['produit insecticides' 'matériel bovin' 'produit acaricides'\n",
      " 'prouduits raticide + anti insect' 'produit engrais'\n",
      " 'matériel de pompe 400 l' 'matériel apiculture' 'produit herbicides'\n",
      " 'produit fongicides' 'semence courgette' 'courgette_hybride'\n",
      " 'semence laitue' 'semence haricot' 'semence oignon' 'semence navet'\n",
      " 'semence fenouil' 'semence petit pois' 'semence persil'\n",
      " 'semence coriandre' 'semence celeri' 'semence artichaut'\n",
      " 'semence poirée verte' 'semence concombre' 'detail'\n",
      " \"matériel de l'arboriculture\" 'matériel divers' 'pastèque_hybride'\n",
      " 'matériel tronceneuses' 'matériel des moteur' 'poivron_hybride'\n",
      " 'matériel joints membrane' 'matériel joints spi ou ressort'\n",
      " 'matériel goûte à goûte' 'matériel du labour' \"matériel d'irrigation\"\n",
      " 'matériel pulvérisation' 'matériel jardinage'\n",
      " 'matériel outils de préparation de la terre' 'matériel avicole'\n",
      " 'matériel de taille' 'semence tomate' 'chou-fleur_hybride'\n",
      " 'semence pastèque' 'tomates_hybride' 'laitue_hybride' 'semence avoine'\n",
      " 'semence aubergine' 'semence piment' 'semence carottes' 'semence feve'\n",
      " 'semence mais' 'semence bettrave rouge' 'semence trefle'\n",
      " 'semence avesse( guerfala)' 'divers de hsen' 'grands sachets de ghazioui'\n",
      " 'semence sec' 'semence gazon' 'tourbe' 'produit molluscicides'\n",
      " 'melon_hybride' 'semence lisèrne' 'semence sorgho'\n",
      " 'semence pomme de tèrre' 'semence poivron' 'piment_hybride'\n",
      " 'semence cardan' 'semence radis' 'plantes olives' 'semence melon'\n",
      " 'semence choux' 'semence potagère' 'homs' 'concombre _hybride'\n",
      " 'aubergine_hybride' 'semence kosbar' 'plants prunier'\n",
      " 'plante fruité divers' 'plants pommier' 'fleur' 'semence braka'\n",
      " 'semence potiron' 'produit biostimulant' 'sachet potageur'\n",
      " 'engrais soluble' 'aliment de betail' 'des arbres' 'semence basilic'\n",
      " 'semence orge' 'produit apiculture' 'semence fourrage' 'semence poureau']\n"
     ]
    }
   ],
   "source": [
    "# Function to standardize families with \"matériel\" prefix\n",
    "def standardize_materiel(family):\n",
    "    words = family.split()  # Split the family name into words\n",
    "    # Check if the first or second word is similar to \"matériel\"\n",
    "    if len(words) > 0 and fuzz.ratio(\"matériel\", words[0]) >= threshold:\n",
    "        words[0] = \"matériel\"\n",
    "    if len(words) > 1 and fuzz.ratio(\"matériel\", words[1]) >= threshold:\n",
    "        words[1] = \"matériel\"\n",
    "    return ' '.join(words)\n",
    "\n",
    "# Apply the function to the 'FamilleArticle' column\n",
    "complete_data['FamilleArticle'] = complete_data['FamilleArticle'].apply(standardize_materiel)\n",
    "\n",
    "# Check the updated unique values\n",
    "updated_unique_famille_articles = complete_data['FamilleArticle'].unique()\n",
    "print(\"Updated unique values after standardizing 'matériel':\")\n",
    "print(updated_unique_famille_articles)"
   ]
  },
  {
   "cell_type": "markdown",
   "id": "c46d5dd5",
   "metadata": {},
   "source": [
    "### Standardize Families with \"produit\" Prefix"
   ]
  },
  {
   "cell_type": "code",
   "execution_count": 17,
   "id": "2fb598ff",
   "metadata": {},
   "outputs": [
    {
     "name": "stdout",
     "output_type": "stream",
     "text": [
      "Updated unique values after standardizing 'produit':\n",
      "['produit insecticides' 'matériel bovin' 'produit acaricides'\n",
      " 'produit raticide + anti insect' 'produit engrais'\n",
      " 'matériel de pompe 400 l' 'matériel apiculture' 'produit herbicides'\n",
      " 'produit fongicides' 'semence courgette' 'courgette_hybride'\n",
      " 'semence laitue' 'semence haricot' 'semence oignon' 'semence navet'\n",
      " 'semence fenouil' 'semence petit pois' 'semence persil'\n",
      " 'semence coriandre' 'semence celeri' 'semence artichaut'\n",
      " 'semence poirée verte' 'semence concombre' 'detail'\n",
      " \"matériel de l'arboriculture\" 'matériel divers' 'pastèque_hybride'\n",
      " 'matériel tronceneuses' 'matériel des moteur' 'poivron_hybride'\n",
      " 'matériel joints membrane' 'matériel joints spi ou ressort'\n",
      " 'matériel goûte à goûte' 'matériel du labour' \"matériel d'irrigation\"\n",
      " 'matériel pulvérisation' 'matériel jardinage'\n",
      " 'matériel outils de préparation de la terre' 'matériel avicole'\n",
      " 'matériel de taille' 'semence tomate' 'chou-fleur_hybride'\n",
      " 'semence pastèque' 'tomates_hybride' 'laitue_hybride' 'semence avoine'\n",
      " 'semence aubergine' 'semence piment' 'semence carottes' 'semence feve'\n",
      " 'semence mais' 'semence bettrave rouge' 'semence trefle'\n",
      " 'semence avesse( guerfala)' 'divers de hsen' 'grands sachets de ghazioui'\n",
      " 'semence sec' 'semence gazon' 'tourbe' 'produit molluscicides'\n",
      " 'melon_hybride' 'semence lisèrne' 'semence sorgho'\n",
      " 'semence pomme de tèrre' 'semence poivron' 'piment_hybride'\n",
      " 'semence cardan' 'semence radis' 'plantes olives' 'semence melon'\n",
      " 'semence choux' 'semence potagère' 'homs' 'concombre _hybride'\n",
      " 'aubergine_hybride' 'semence kosbar' 'plants prunier'\n",
      " 'plante fruité divers' 'plants pommier' 'fleur' 'semence braka'\n",
      " 'semence potiron' 'produit biostimulant' 'sachet potageur'\n",
      " 'engrais soluble' 'aliment de betail' 'des arbres' 'semence basilic'\n",
      " 'semence orge' 'produit apiculture' 'semence fourrage' 'semence poureau']\n"
     ]
    }
   ],
   "source": [
    "# Function to standardize families with \"produit\" prefix\n",
    "def standardize_produit(family):\n",
    "    words = family.split()  # Split the family name into words\n",
    "    # Check if the first or second word is similar to \"produit\"\n",
    "    if len(words) > 0 and fuzz.ratio(\"produit\", words[0]) >= threshold:\n",
    "        words[0] = \"produit\"\n",
    "    if len(words) > 1 and fuzz.ratio(\"produit\", words[1]) >= threshold:\n",
    "        words[1] = \"produit\"\n",
    "    return ' '.join(words)\n",
    "\n",
    "# Apply the function to the 'FamilleArticle' column\n",
    "complete_data['FamilleArticle'] = complete_data['FamilleArticle'].apply(standardize_produit)\n",
    "\n",
    "# Check the updated unique values\n",
    "updated_unique_famille_articles = complete_data['FamilleArticle'].unique()\n",
    "print(\"Updated unique values after standardizing 'produit':\")\n",
    "print(updated_unique_famille_articles)"
   ]
  },
  {
   "cell_type": "markdown",
   "id": "76dd1749",
   "metadata": {},
   "source": [
    "### After standardizing all prefixes, let’s verify the final unique values and their counts."
   ]
  },
  {
   "cell_type": "code",
   "execution_count": 18,
   "id": "4d8bd437",
   "metadata": {},
   "outputs": [
    {
     "name": "stdout",
     "output_type": "stream",
     "text": [
      "Final unique values in 'FamilleArticle':\n",
      "['produit insecticides' 'matériel bovin' 'produit acaricides'\n",
      " 'produit raticide + anti insect' 'produit engrais'\n",
      " 'matériel de pompe 400 l' 'matériel apiculture' 'produit herbicides'\n",
      " 'produit fongicides' 'semence courgette' 'courgette_hybride'\n",
      " 'semence laitue' 'semence haricot' 'semence oignon' 'semence navet'\n",
      " 'semence fenouil' 'semence petit pois' 'semence persil'\n",
      " 'semence coriandre' 'semence celeri' 'semence artichaut'\n",
      " 'semence poirée verte' 'semence concombre' 'detail'\n",
      " \"matériel de l'arboriculture\" 'matériel divers' 'pastèque_hybride'\n",
      " 'matériel tronceneuses' 'matériel des moteur' 'poivron_hybride'\n",
      " 'matériel joints membrane' 'matériel joints spi ou ressort'\n",
      " 'matériel goûte à goûte' 'matériel du labour' \"matériel d'irrigation\"\n",
      " 'matériel pulvérisation' 'matériel jardinage'\n",
      " 'matériel outils de préparation de la terre' 'matériel avicole'\n",
      " 'matériel de taille' 'semence tomate' 'chou-fleur_hybride'\n",
      " 'semence pastèque' 'tomates_hybride' 'laitue_hybride' 'semence avoine'\n",
      " 'semence aubergine' 'semence piment' 'semence carottes' 'semence feve'\n",
      " 'semence mais' 'semence bettrave rouge' 'semence trefle'\n",
      " 'semence avesse( guerfala)' 'divers de hsen' 'grands sachets de ghazioui'\n",
      " 'semence sec' 'semence gazon' 'tourbe' 'produit molluscicides'\n",
      " 'melon_hybride' 'semence lisèrne' 'semence sorgho'\n",
      " 'semence pomme de tèrre' 'semence poivron' 'piment_hybride'\n",
      " 'semence cardan' 'semence radis' 'plantes olives' 'semence melon'\n",
      " 'semence choux' 'semence potagère' 'homs' 'concombre _hybride'\n",
      " 'aubergine_hybride' 'semence kosbar' 'plants prunier'\n",
      " 'plante fruité divers' 'plants pommier' 'fleur' 'semence braka'\n",
      " 'semence potiron' 'produit biostimulant' 'sachet potageur'\n",
      " 'engrais soluble' 'aliment de betail' 'des arbres' 'semence basilic'\n",
      " 'semence orge' 'produit apiculture' 'semence fourrage' 'semence poureau']\n",
      "\n",
      "Final counts of each unique value in 'FamilleArticle':\n",
      "FamilleArticle\n",
      "detail                  40243\n",
      "produit engrais         24648\n",
      "produit insecticides    20771\n",
      "matériel apiculture     19080\n",
      "produit fongicides      17612\n",
      "                        ...  \n",
      "semence artichaut          15\n",
      "semence poureau            12\n",
      "plants pommier              3\n",
      "semence braka               2\n",
      "plants prunier              2\n",
      "Name: count, Length: 92, dtype: int64\n"
     ]
    }
   ],
   "source": [
    "# Store the final unique values and counts\n",
    "final_unique_famille_articles = complete_data['FamilleArticle'].unique()\n",
    "final_famille_counts = complete_data['FamilleArticle'].value_counts()\n",
    "\n",
    "# Print the final unique values\n",
    "print(\"Final unique values in 'FamilleArticle':\")\n",
    "print(final_unique_famille_articles)\n",
    "\n",
    "# Print the final counts\n",
    "print(\"\\nFinal counts of each unique value in 'FamilleArticle':\")\n",
    "print(final_famille_counts)"
   ]
  },
  {
   "cell_type": "code",
   "execution_count": 19,
   "id": "45c6d0a7",
   "metadata": {
    "scrolled": true
   },
   "outputs": [
    {
     "name": "stdout",
     "output_type": "stream",
     "text": [
      "Final unique values in 'FamilleArticle' (sorted alphabetically):\n",
      "aliment de betail\n",
      "aubergine_hybride\n",
      "chou-fleur_hybride\n",
      "concombre _hybride\n",
      "courgette_hybride\n",
      "des arbres\n",
      "detail\n",
      "divers de hsen\n",
      "engrais soluble\n",
      "fleur\n",
      "grands sachets de ghazioui\n",
      "homs\n",
      "laitue_hybride\n",
      "matériel apiculture\n",
      "matériel avicole\n",
      "matériel bovin\n",
      "matériel d'irrigation\n",
      "matériel de l'arboriculture\n",
      "matériel de pompe 400 l\n",
      "matériel de taille\n",
      "matériel des moteur\n",
      "matériel divers\n",
      "matériel du labour\n",
      "matériel goûte à goûte\n",
      "matériel jardinage\n",
      "matériel joints membrane\n",
      "matériel joints spi ou ressort\n",
      "matériel outils de préparation de la terre\n",
      "matériel pulvérisation\n",
      "matériel tronceneuses\n",
      "melon_hybride\n",
      "pastèque_hybride\n",
      "piment_hybride\n",
      "plante fruité divers\n",
      "plantes olives\n",
      "plants pommier\n",
      "plants prunier\n",
      "poivron_hybride\n",
      "produit acaricides\n",
      "produit apiculture\n",
      "produit biostimulant\n",
      "produit engrais\n",
      "produit fongicides\n",
      "produit herbicides\n",
      "produit insecticides\n",
      "produit molluscicides\n",
      "produit raticide + anti insect\n",
      "sachet potageur\n",
      "semence artichaut\n",
      "semence aubergine\n",
      "semence avesse( guerfala)\n",
      "semence avoine\n",
      "semence basilic\n",
      "semence bettrave rouge\n",
      "semence braka\n",
      "semence cardan\n",
      "semence carottes\n",
      "semence celeri\n",
      "semence choux\n",
      "semence concombre\n",
      "semence coriandre\n",
      "semence courgette\n",
      "semence fenouil\n",
      "semence feve\n",
      "semence fourrage\n",
      "semence gazon\n",
      "semence haricot\n",
      "semence kosbar\n",
      "semence laitue\n",
      "semence lisèrne\n",
      "semence mais\n",
      "semence melon\n",
      "semence navet\n",
      "semence oignon\n",
      "semence orge\n",
      "semence pastèque\n",
      "semence persil\n",
      "semence petit pois\n",
      "semence piment\n",
      "semence poirée verte\n",
      "semence poivron\n",
      "semence pomme de tèrre\n",
      "semence potagère\n",
      "semence potiron\n",
      "semence poureau\n",
      "semence radis\n",
      "semence sec\n",
      "semence sorgho\n",
      "semence tomate\n",
      "semence trefle\n",
      "tomates_hybride\n",
      "tourbe\n"
     ]
    }
   ],
   "source": [
    "# Sort the unique values alphabetically\n",
    "sorted_unique_famille_articles = sorted(final_unique_famille_articles)\n",
    "\n",
    "# Print the sorted unique values\n",
    "print(\"Final unique values in 'FamilleArticle' (sorted alphabetically):\")\n",
    "for famille in sorted_unique_famille_articles:\n",
    "    print(famille)"
   ]
  },
  {
   "cell_type": "markdown",
   "id": "16bcff0e",
   "metadata": {},
   "source": [
    "### we still can notice other inconsistencies \n",
    "1.plantes olives vs. plante (plural and singular form)\n",
    "\n",
    "2.The parentheses and spacing in avesse( guerfala) are inconsistent. It should likely be avesse guerfala\n",
    "\n",
    "3.The word tèrre has an incorrect accent. It should be pomme de terre.\n",
    "\n",
    "4.The naming convention for hybrid products is inconsistent. Some use underscores (tomates_hybride), while others use spaces (courgette hybride). These should be standardized."
   ]
  },
  {
   "cell_type": "markdown",
   "id": "824444e4",
   "metadata": {},
   "source": [
    "### Fix plantes or plant → plante"
   ]
  },
  {
   "cell_type": "code",
   "execution_count": 20,
   "id": "688e21f4",
   "metadata": {},
   "outputs": [
    {
     "name": "stdout",
     "output_type": "stream",
     "text": [
      "Final standardized unique values for 'plante':\n",
      "plante fruité diver\n",
      "plante olive\n",
      "plante pommier\n",
      "plante prunier\n"
     ]
    }
   ],
   "source": [
    "# Function to standardize \"plante\"-related families\n",
    "def standardize_plante(family):\n",
    "    words = family.split()  \n",
    "    if len(words) > 0 and fuzz.ratio(\"plante\", words[0]) >= 80:  \n",
    "        words[0] = \"plante\"  \n",
    "        # Singularize all words after \"plante\" that end with 's'\n",
    "        for i in range(1, len(words)):\n",
    "            if words[i].endswith('s'):\n",
    "                words[i] = words[i][:-1]  # Remove the trailing 's'\n",
    "    return ' '.join(words)\n",
    "\n",
    "# Apply the function to the 'FamilleArticle' column\n",
    "complete_data['FamilleArticle'] = complete_data['FamilleArticle'].apply(standardize_plante)\n",
    "\n",
    "updated_unique_famille_articles = complete_data['FamilleArticle'].unique()\n",
    "plant_related_values = [famille for famille in updated_unique_famille_articles if \"plante\" in famille]\n",
    "\n",
    "print(\"Final standardized unique values for 'plante':\")\n",
    "for famille in sorted(plant_related_values):\n",
    "    print(famille)\n"
   ]
  },
  {
   "cell_type": "markdown",
   "id": "5b199b22",
   "metadata": {},
   "source": [
    "### Fix  parentheses ex:semence avesse( guerfala) → semence avesse guerfala"
   ]
  },
  {
   "cell_type": "code",
   "execution_count": 21,
   "id": "cbe39c71",
   "metadata": {},
   "outputs": [
    {
     "name": "stdout",
     "output_type": "stream",
     "text": [
      "Final standardized unique values (after removing parentheses):\n",
      "aliment de betail\n",
      "aubergine_hybride\n",
      "chou-fleur_hybride\n",
      "concombre _hybride\n",
      "courgette_hybride\n",
      "des arbres\n",
      "detail\n",
      "divers de hsen\n",
      "engrais soluble\n",
      "fleur\n",
      "grands sachets de ghazioui\n",
      "homs\n",
      "laitue_hybride\n",
      "matériel apiculture\n",
      "matériel avicole\n",
      "matériel bovin\n",
      "matériel d'irrigation\n",
      "matériel de l'arboriculture\n",
      "matériel de pompe 400 l\n",
      "matériel de taille\n",
      "matériel des moteur\n",
      "matériel divers\n",
      "matériel du labour\n",
      "matériel goûte à goûte\n",
      "matériel jardinage\n",
      "matériel joints membrane\n",
      "matériel joints spi ou ressort\n",
      "matériel outils de préparation de la terre\n",
      "matériel pulvérisation\n",
      "matériel tronceneuses\n",
      "melon_hybride\n",
      "pastèque_hybride\n",
      "piment_hybride\n",
      "plante fruité diver\n",
      "plante olive\n",
      "plante pommier\n",
      "plante prunier\n",
      "poivron_hybride\n",
      "produit acaricides\n",
      "produit apiculture\n",
      "produit biostimulant\n",
      "produit engrais\n",
      "produit fongicides\n",
      "produit herbicides\n",
      "produit insecticides\n",
      "produit molluscicides\n",
      "produit raticide + anti insect\n",
      "sachet potageur\n",
      "semence artichaut\n",
      "semence aubergine\n",
      "semence avesse\n",
      "semence avoine\n",
      "semence basilic\n",
      "semence bettrave rouge\n",
      "semence braka\n",
      "semence cardan\n",
      "semence carottes\n",
      "semence celeri\n",
      "semence choux\n",
      "semence concombre\n",
      "semence coriandre\n",
      "semence courgette\n",
      "semence fenouil\n",
      "semence feve\n",
      "semence fourrage\n",
      "semence gazon\n",
      "semence haricot\n",
      "semence kosbar\n",
      "semence laitue\n",
      "semence lisèrne\n",
      "semence mais\n",
      "semence melon\n",
      "semence navet\n",
      "semence oignon\n",
      "semence orge\n",
      "semence pastèque\n",
      "semence persil\n",
      "semence petit pois\n",
      "semence piment\n",
      "semence poirée verte\n",
      "semence poivron\n",
      "semence pomme de tèrre\n",
      "semence potagère\n",
      "semence potiron\n",
      "semence poureau\n",
      "semence radis\n",
      "semence sec\n",
      "semence sorgho\n",
      "semence tomate\n",
      "semence trefle\n",
      "tomates_hybride\n",
      "tourbe\n"
     ]
    }
   ],
   "source": [
    "# Function to remove parentheses and standardize names\n",
    "def standardize_parentheses(family):\n",
    "    family = re.sub(r'\\s*\\(.*?\\)\\s*', ' ', family)\n",
    "    family = ' '.join(family.split())\n",
    "    return family\n",
    "\n",
    "complete_data['FamilleArticle'] = complete_data['FamilleArticle'].apply(standardize_parentheses)\n",
    "\n",
    "updated_unique_famille_articles = complete_data['FamilleArticle'].unique()\n",
    "\n",
    "# Print sorted unique values\n",
    "sorted_unique_famille_articles = sorted(updated_unique_famille_articles)\n",
    "print(\"Final standardized unique values (after removing parentheses):\")\n",
    "for famille in sorted_unique_famille_articles:\n",
    "    print(famille)"
   ]
  },
  {
   "cell_type": "markdown",
   "id": "254be0ed",
   "metadata": {},
   "source": [
    "### Fix semence pomme de tèrre → semence pomme de terre"
   ]
  },
  {
   "cell_type": "code",
   "execution_count": 22,
   "id": "bd3e3fc9",
   "metadata": {},
   "outputs": [],
   "source": [
    "complete_data['FamilleArticle'] = complete_data['FamilleArticle'].replace('semence pomme de tèrre', 'semence pomme de terre')"
   ]
  },
  {
   "cell_type": "markdown",
   "id": "75080a98",
   "metadata": {},
   "source": [
    "### Fix Hybrid Naming Convention"
   ]
  },
  {
   "cell_type": "code",
   "execution_count": 23,
   "id": "76462c7a",
   "metadata": {},
   "outputs": [],
   "source": [
    "# Replace spaces with underscores in hybrid names\n",
    "complete_data['FamilleArticle'] = complete_data['FamilleArticle'].str.replace('_', ' ')"
   ]
  },
  {
   "cell_type": "markdown",
   "id": "89ee4eab",
   "metadata": {},
   "source": [
    "### Verify the Changes"
   ]
  },
  {
   "cell_type": "code",
   "execution_count": 24,
   "id": "a4274b4e",
   "metadata": {
    "scrolled": true
   },
   "outputs": [
    {
     "name": "stdout",
     "output_type": "stream",
     "text": [
      "Final unique values in 'FamilleArticle' (sorted alphabetically):\n",
      "aliment de betail\n",
      "aubergine hybride\n",
      "chou-fleur hybride\n",
      "concombre  hybride\n",
      "courgette hybride\n",
      "des arbres\n",
      "detail\n",
      "divers de hsen\n",
      "engrais soluble\n",
      "fleur\n",
      "grands sachets de ghazioui\n",
      "homs\n",
      "laitue hybride\n",
      "matériel apiculture\n",
      "matériel avicole\n",
      "matériel bovin\n",
      "matériel d'irrigation\n",
      "matériel de l'arboriculture\n",
      "matériel de pompe 400 l\n",
      "matériel de taille\n",
      "matériel des moteur\n",
      "matériel divers\n",
      "matériel du labour\n",
      "matériel goûte à goûte\n",
      "matériel jardinage\n",
      "matériel joints membrane\n",
      "matériel joints spi ou ressort\n",
      "matériel outils de préparation de la terre\n",
      "matériel pulvérisation\n",
      "matériel tronceneuses\n",
      "melon hybride\n",
      "pastèque hybride\n",
      "piment hybride\n",
      "plante fruité diver\n",
      "plante olive\n",
      "plante pommier\n",
      "plante prunier\n",
      "poivron hybride\n",
      "produit acaricides\n",
      "produit apiculture\n",
      "produit biostimulant\n",
      "produit engrais\n",
      "produit fongicides\n",
      "produit herbicides\n",
      "produit insecticides\n",
      "produit molluscicides\n",
      "produit raticide + anti insect\n",
      "sachet potageur\n",
      "semence artichaut\n",
      "semence aubergine\n",
      "semence avesse\n",
      "semence avoine\n",
      "semence basilic\n",
      "semence bettrave rouge\n",
      "semence braka\n",
      "semence cardan\n",
      "semence carottes\n",
      "semence celeri\n",
      "semence choux\n",
      "semence concombre\n",
      "semence coriandre\n",
      "semence courgette\n",
      "semence fenouil\n",
      "semence feve\n",
      "semence fourrage\n",
      "semence gazon\n",
      "semence haricot\n",
      "semence kosbar\n",
      "semence laitue\n",
      "semence lisèrne\n",
      "semence mais\n",
      "semence melon\n",
      "semence navet\n",
      "semence oignon\n",
      "semence orge\n",
      "semence pastèque\n",
      "semence persil\n",
      "semence petit pois\n",
      "semence piment\n",
      "semence poirée verte\n",
      "semence poivron\n",
      "semence pomme de terre\n",
      "semence potagère\n",
      "semence potiron\n",
      "semence poureau\n",
      "semence radis\n",
      "semence sec\n",
      "semence sorgho\n",
      "semence tomate\n",
      "semence trefle\n",
      "tomates hybride\n",
      "tourbe\n"
     ]
    }
   ],
   "source": [
    "# Get the updated unique values\n",
    "updated_unique_famille_articles = complete_data['FamilleArticle'].unique()\n",
    "\n",
    "# Sort the unique values alphabetically\n",
    "sorted_unique_famille_articles = sorted(updated_unique_famille_articles)\n",
    "\n",
    "# Print the sorted unique values\n",
    "print(\"Final unique values in 'FamilleArticle' (sorted alphabetically):\")\n",
    "for famille in sorted_unique_famille_articles:\n",
    "    print(famille)"
   ]
  },
  {
   "cell_type": "markdown",
   "id": "ae247c6e",
   "metadata": {},
   "source": [
    "### We notice that the produit families still have inconsistencies in singular and plural forms (e.g., produit acaricides vs. produit engrais) "
   ]
  },
  {
   "cell_type": "markdown",
   "id": "57189c8d",
   "metadata": {},
   "source": [
    "### fixing produit"
   ]
  },
  {
   "cell_type": "code",
   "execution_count": 25,
   "id": "c53173bc",
   "metadata": {},
   "outputs": [
    {
     "name": "stdout",
     "output_type": "stream",
     "text": [
      "Final unique values in 'FamilleArticle' (sorted alphabetically):\n",
      "aliment de betail\n",
      "aubergine hybride\n",
      "chou-fleur hybride\n",
      "concombre hybride\n",
      "courgette hybride\n",
      "des arbres\n",
      "detail\n",
      "divers de hsen\n",
      "engrais soluble\n",
      "fleur\n",
      "grands sachets de ghazioui\n",
      "homs\n",
      "laitue hybride\n",
      "matériel apiculture\n",
      "matériel avicole\n",
      "matériel bovin\n",
      "matériel d'irrigation\n",
      "matériel de l'arboriculture\n",
      "matériel de pompe 400 l\n",
      "matériel de taille\n",
      "matériel des moteur\n",
      "matériel divers\n",
      "matériel du labour\n",
      "matériel goûte à goûte\n",
      "matériel jardinage\n",
      "matériel joints membrane\n",
      "matériel joints spi ou ressort\n",
      "matériel outils de préparation de la terre\n",
      "matériel pulvérisation\n",
      "matériel tronceneuses\n",
      "melon hybride\n",
      "pastèque hybride\n",
      "piment hybride\n",
      "plante fruité diver\n",
      "plante olive\n",
      "plante pommier\n",
      "plante prunier\n",
      "poivron hybride\n",
      "produit acaricide\n",
      "produit apiculture\n",
      "produit biostimulant\n",
      "produit engrai\n",
      "produit fongicide\n",
      "produit herbicide\n",
      "produit insecticide\n",
      "produit molluscicide\n",
      "produit raticide + anti insect\n",
      "sachet potageur\n",
      "semence artichaut\n",
      "semence aubergine\n",
      "semence avesse\n",
      "semence avoine\n",
      "semence basilic\n",
      "semence bettrave rouge\n",
      "semence braka\n",
      "semence cardan\n",
      "semence carottes\n",
      "semence celeri\n",
      "semence choux\n",
      "semence concombre\n",
      "semence coriandre\n",
      "semence courgette\n",
      "semence fenouil\n",
      "semence feve\n",
      "semence fourrage\n",
      "semence gazon\n",
      "semence haricot\n",
      "semence kosbar\n",
      "semence laitue\n",
      "semence lisèrne\n",
      "semence mais\n",
      "semence melon\n",
      "semence navet\n",
      "semence oignon\n",
      "semence orge\n",
      "semence pastèque\n",
      "semence persil\n",
      "semence petit pois\n",
      "semence piment\n",
      "semence poirée verte\n",
      "semence poivron\n",
      "semence pomme de terre\n",
      "semence potagère\n",
      "semence potiron\n",
      "semence poureau\n",
      "semence radis\n",
      "semence sec\n",
      "semence sorgho\n",
      "semence tomate\n",
      "semence trefle\n",
      "tomates hybride\n",
      "tourbe\n"
     ]
    }
   ],
   "source": [
    "# Function to standardize \"produit\" families\n",
    "def standardize_produit(family):\n",
    "    words = family.split()  # Split the family name into words\n",
    "    if len(words) > 1 and words[0] == \"produit\" and words[1].endswith('s'):\n",
    "        words[1] = words[1][:-1]  # Remove the trailing 's'\n",
    "    return ' '.join(words)\n",
    "\n",
    "# Apply the function to the 'FamilleArticle' column\n",
    "complete_data['FamilleArticle'] = complete_data['FamilleArticle'].apply(standardize_produit)\n",
    "\n",
    "# Check the updated unique values\n",
    "updated_unique_famille_articles = complete_data['FamilleArticle'].unique()\n",
    "\n",
    "# Sort the unique values alphabetically\n",
    "sorted_unique_famille_articles = sorted(updated_unique_famille_articles)\n",
    "\n",
    "# Print the sorted unique values\n",
    "print(\"Final unique values in 'FamilleArticle' (sorted alphabetically):\")\n",
    "for famille in sorted_unique_famille_articles:\n",
    "    print(famille)"
   ]
  },
  {
   "cell_type": "markdown",
   "id": "61db02a4",
   "metadata": {},
   "source": [
    "### The unique values for FamilleArticle seem to be consistent"
   ]
  },
  {
   "cell_type": "markdown",
   "id": "9709d1c5",
   "metadata": {},
   "source": [
    "### Now lets move to the other categorical varibale TypeEffet"
   ]
  },
  {
   "cell_type": "markdown",
   "id": "24e3436f",
   "metadata": {},
   "source": [
    "### 1.Inspect the Unique Values"
   ]
  },
  {
   "cell_type": "code",
   "execution_count": 26,
   "id": "fd53801e",
   "metadata": {},
   "outputs": [
    {
     "name": "stdout",
     "output_type": "stream",
     "text": [
      "[\"Bon d'entrée\" 'Bon de sortie' 'Bon de livraison' 'Bon de réception']\n"
     ]
    }
   ],
   "source": [
    "# Check unique values in 'TypeEffet'\n",
    "print(complete_data['TypeEffet'].unique())"
   ]
  },
  {
   "cell_type": "markdown",
   "id": "f553ab9c",
   "metadata": {},
   "source": [
    "### TypeEffet has consistent values ( no typos, consistent capitalization)"
   ]
  },
  {
   "cell_type": "markdown",
   "id": "e80ca5cf",
   "metadata": {},
   "source": [
    "# Step 5:Analysis of Column Importance"
   ]
  },
  {
   "cell_type": "markdown",
   "id": "b0b1d195",
   "metadata": {},
   "source": [
    "### we will start by Code Produit"
   ]
  },
  {
   "cell_type": "markdown",
   "id": "d0d3f48e",
   "metadata": {},
   "source": [
    "we’ll analyze the missing data again in the other columns. This will help us decide if this columns should be dropped or handled differently."
   ]
  },
  {
   "cell_type": "code",
   "execution_count": 27,
   "id": "3ad885fb",
   "metadata": {},
   "outputs": [
    {
     "name": "stdout",
     "output_type": "stream",
     "text": [
      "CleEffet                        0\n",
      "Date                            0\n",
      "TypeEffet                       0\n",
      "FamilleArticle                  0\n",
      "Code Produit               100764\n",
      "Reference Produit               0\n",
      "NLot                            0\n",
      "Produit_Designation             0\n",
      "DetailEffet_Designation         0\n",
      "Quantite                        0\n",
      "PrixAchat                       0\n",
      "PrixUnitaireTTC                 0\n",
      "DetailEffet_Marge               0\n",
      "Effet_Marge                     0\n",
      "MontantHT                       0\n",
      "Payement                        0\n",
      "dtype: int64\n"
     ]
    }
   ],
   "source": [
    "# Check for missing values in all columns\n",
    "missing_data = complete_data.isnull().sum()\n",
    "\n",
    "# Display the number of missing values per column\n",
    "print(missing_data)\n"
   ]
  },
  {
   "cell_type": "markdown",
   "id": "40c4fdad",
   "metadata": {},
   "source": [
    "we need to decide what to do with Code Produit since it has alot of missing values.\n",
    "1.Drop the column\n",
    "2.Impute missing values"
   ]
  },
  {
   "cell_type": "markdown",
   "id": "cd3cde9b",
   "metadata": {},
   "source": [
    "### Investigating the relationship between missing Code Produit and other columns"
   ]
  },
  {
   "cell_type": "code",
   "execution_count": 28,
   "id": "1b0cf102",
   "metadata": {
    "scrolled": true
   },
   "outputs": [
    {
     "data": {
      "text/plain": [
       "CleEffet                        0\n",
       "Date                            0\n",
       "TypeEffet                       0\n",
       "FamilleArticle                  0\n",
       "Code Produit               100764\n",
       "Reference Produit               0\n",
       "NLot                            0\n",
       "Produit_Designation             0\n",
       "DetailEffet_Designation         0\n",
       "Quantite                        0\n",
       "PrixAchat                       0\n",
       "PrixUnitaireTTC                 0\n",
       "DetailEffet_Marge               0\n",
       "Effet_Marge                     0\n",
       "MontantHT                       0\n",
       "Payement                        0\n",
       "dtype: int64"
      ]
     },
     "execution_count": 28,
     "metadata": {},
     "output_type": "execute_result"
    }
   ],
   "source": [
    "# Check rows where 'Code Produit' is missing and see correlations with other columns\n",
    "missing_code_produit_data = complete_data[complete_data['Code Produit'].isnull()]\n",
    "\n",
    "# Check if other columns have missing values in rows where 'Code Produit' is missing\n",
    "missing_code_produit_data.isnull().sum()\n"
   ]
  },
  {
   "cell_type": "markdown",
   "id": "d2e6667a",
   "metadata": {},
   "source": [
    "### Check Uniqueness Between Code Produit and Produit_Designation"
   ]
  },
  {
   "cell_type": "code",
   "execution_count": 29,
   "id": "56a36b14",
   "metadata": {},
   "outputs": [
    {
     "name": "stdout",
     "output_type": "stream",
     "text": [
      "Produit_Designation\n",
      "Produit_Anon_1015      2\n",
      "Produit_Anon_1043      3\n",
      "Produit_Anon_1056      3\n",
      "Produit_Anon_1061      2\n",
      "Produit_Anon_1063      5\n",
      "Produit_Anon_1102      3\n",
      "Produit_Anon_1206      2\n",
      "Produit_Anon_1238      2\n",
      "Produit_Anon_1265      2\n",
      "Produit_Anon_1301      2\n",
      "Produit_Anon_1307      2\n",
      "Produit_Anon_1312      2\n",
      "Produit_Anon_1325      2\n",
      "Produit_Anon_1345      2\n",
      "Produit_Anon_1394      2\n",
      "Produit_Anon_1424      2\n",
      "Produit_Anon_1514      4\n",
      "Produit_Anon_1537      2\n",
      "Produit_Anon_1876      3\n",
      "Produit_Anon_1896      3\n",
      "Produit_Anon_1942      2\n",
      "Produit_Anon_2117      2\n",
      "Produit_Anon_2561      2\n",
      "Produit_Anon_2653      2\n",
      "Produit_Anon_2664      2\n",
      "Produit_Anon_2693      2\n",
      "Produit_Anon_3219      2\n",
      "Produit_Anon_326       2\n",
      "Produit_Anon_3344      2\n",
      "Produit_Anon_3734      2\n",
      "Produit_Anon_4097      2\n",
      "Produit_Anon_4098      5\n",
      "Produit_Anon_425       2\n",
      "Produit_Anon_4324      2\n",
      "Produit_Anon_4379      2\n",
      "Produit_Anon_468     127\n",
      "Produit_Anon_480       3\n",
      "Produit_Anon_536       2\n",
      "Produit_Anon_549       2\n",
      "Produit_Anon_5637      2\n",
      "Produit_Anon_564       2\n",
      "Produit_Anon_583       3\n",
      "Produit_Anon_639       2\n",
      "Produit_Anon_699       2\n",
      "Produit_Anon_714       2\n",
      "Produit_Anon_722       2\n",
      "Produit_Anon_846       2\n",
      "Produit_Anon_852       2\n",
      "Produit_Anon_866       2\n",
      "Produit_Anon_909       2\n",
      "Produit_Anon_933       4\n",
      "Produit_Anon_962       5\n",
      "Produit_Anon_968       2\n",
      "Name: Code Produit, dtype: int64\n"
     ]
    }
   ],
   "source": [
    "# Group by 'Produit_Designation' and count unique 'Code Produit'\n",
    "unique_code_per_produit = complete_data.groupby('Produit_Designation')['Code Produit'].nunique()\n",
    "\n",
    "# Check if each 'Produit_Designation' has exactly one unique 'Code Produit'\n",
    "print(unique_code_per_produit[unique_code_per_produit > 1])\n"
   ]
  },
  {
   "cell_type": "markdown",
   "id": "6b5dd4c2",
   "metadata": {},
   "source": [
    "Produit_Designation values are associated with multiple Code Produit values."
   ]
  },
  {
   "cell_type": "markdown",
   "id": "be71269a",
   "metadata": {},
   "source": [
    "### Check Uniqueness Between Code Produit and DetailEffet_Designation:"
   ]
  },
  {
   "cell_type": "code",
   "execution_count": 30,
   "id": "9e2c04f1",
   "metadata": {
    "scrolled": true
   },
   "outputs": [
    {
     "name": "stdout",
     "output_type": "stream",
     "text": [
      "DetailEffet_Designation\n",
      "Detail_Anon_1010     5\n",
      "Detail_Anon_1015     2\n",
      "Detail_Anon_10205    2\n",
      "Detail_Anon_1037     2\n",
      "Detail_Anon_1039     6\n",
      "                    ..\n",
      "Detail_Anon_949      2\n",
      "Detail_Anon_9550     2\n",
      "Detail_Anon_976      5\n",
      "Detail_Anon_995      2\n",
      "Detail_Anon_9982     2\n",
      "Name: Code Produit, Length: 172, dtype: int64\n"
     ]
    }
   ],
   "source": [
    "# Group by 'DetailEffet_Designation' and count unique 'Code Produit'\n",
    "unique_code_per_detaileffet = complete_data.groupby('DetailEffet_Designation')['Code Produit'].nunique()\n",
    "\n",
    "# Check if each 'DetailEffet_Designation' has exactly one unique 'Code Produit'\n",
    "print(unique_code_per_detaileffet[unique_code_per_detaileffet > 1])\n"
   ]
  },
  {
   "cell_type": "markdown",
   "id": "67fec27c",
   "metadata": {},
   "source": [
    "DetailEffet_Designation values are associated with multiple Code Produit values."
   ]
  },
  {
   "cell_type": "markdown",
   "id": "938d806c",
   "metadata": {},
   "source": [
    "Code Produit doesnt seem to be as an identifier for the row so we better drop the colum than droping the  the significat null rows\n",
    ",it does not offer significant value for analysis due to its missing data and lack of uniqueness"
   ]
  },
  {
   "cell_type": "code",
   "execution_count": 31,
   "id": "a8e06ae9",
   "metadata": {},
   "outputs": [],
   "source": [
    "complete_data = complete_data.drop(columns=['Code Produit'])"
   ]
  },
  {
   "cell_type": "code",
   "execution_count": 32,
   "id": "bd18e7bf",
   "metadata": {},
   "outputs": [
    {
     "name": "stdout",
     "output_type": "stream",
     "text": [
      "Index(['CleEffet', 'Date', 'TypeEffet', 'FamilleArticle', 'Reference Produit',\n",
      "       'NLot', 'Produit_Designation', 'DetailEffet_Designation', 'Quantite',\n",
      "       'PrixAchat', 'PrixUnitaireTTC', 'DetailEffet_Marge', 'Effet_Marge',\n",
      "       'MontantHT', 'Payement'],\n",
      "      dtype='object')\n"
     ]
    }
   ],
   "source": [
    "print(complete_data.columns)"
   ]
  },
  {
   "cell_type": "markdown",
   "id": "8458b7af",
   "metadata": {},
   "source": [
    "### Now lets move to Produit_Designation and DetailEffet_Designation"
   ]
  },
  {
   "cell_type": "markdown",
   "id": "fc194016",
   "metadata": {},
   "source": [
    "to analyze whether the columns Produit_Designation and DetailEffet_Designation serve the same purpose and can be merged or one dropped"
   ]
  },
  {
   "cell_type": "markdown",
   "id": "b2ba98fa",
   "metadata": {},
   "source": [
    "1.we check if all values in the Produit_Designation and DetailEffet_Designation columns have the prefixes Produit_Anon_ and Detail_Anon_ respectively"
   ]
  },
  {
   "cell_type": "code",
   "execution_count": 33,
   "id": "6cfe940f",
   "metadata": {},
   "outputs": [
    {
     "name": "stdout",
     "output_type": "stream",
     "text": [
      "Do all 'Produit_Designation' values start with 'Produit_Anon_'? True\n",
      "Do all 'DetailEffet_Designation' values start with 'Detail_Anon_'? True\n"
     ]
    }
   ],
   "source": [
    "\n",
    "all_produit_have_prefix = complete_data['Produit_Designation'].str.startswith('Produit_Anon_').all()\n",
    "all_detaileffet_have_prefix = complete_data['DetailEffet_Designation'].str.startswith('Detail_Anon_').all()\n",
    "\n",
    "print(f\"Do all 'Produit_Designation' values start with 'Produit_Anon_'? {all_produit_have_prefix}\")\n",
    "print(f\"Do all 'DetailEffet_Designation' values start with 'Detail_Anon_'? {all_detaileffet_have_prefix}\")"
   ]
  },
  {
   "cell_type": "markdown",
   "id": "39c15b12",
   "metadata": {},
   "source": [
    "2.we remove the prefixes and then check if the cleaned columns are identical."
   ]
  },
  {
   "cell_type": "code",
   "execution_count": 34,
   "id": "ddef26bd",
   "metadata": {},
   "outputs": [
    {
     "name": "stdout",
     "output_type": "stream",
     "text": [
      "Are the columns identical after cleaning? False\n"
     ]
    }
   ],
   "source": [
    "complete_data['Produit_Designation'] = complete_data['Produit_Designation'].str.replace('Produit_Anon_', '')\n",
    "complete_data['DetailEffet_Designation'] = complete_data['DetailEffet_Designation'].str.replace('Detail_Anon_', '')\n",
    "\n",
    "are_columns_identical = complete_data['Produit_Designation'].equals(complete_data['DetailEffet_Designation'])\n",
    "\n",
    "print(f\"Are the columns identical after cleaning? {are_columns_identical}\")"
   ]
  },
  {
   "cell_type": "markdown",
   "id": "ff04e5a1",
   "metadata": {},
   "source": [
    "Since the columns are not identical after cleaning, we can quantify how similar they are by calculating the percentage of uniqueness' ."
   ]
  },
  {
   "cell_type": "code",
   "execution_count": 35,
   "id": "04db50a9",
   "metadata": {
    "scrolled": true
   },
   "outputs": [
    {
     "name": "stdout",
     "output_type": "stream",
     "text": [
      "Percentage of unique mappings (Produit_Designation -> DetailEffet_Designation): 70.6574024585783%\n",
      "Percentage of not unique mappings (Produit_Designation -> DetailEffet_Designation): 29.3425975414217%\n"
     ]
    }
   ],
   "source": [
    "# Get unique values of 'Produit_Designation'\n",
    "unique_produit_designations = complete_data['Produit_Designation'].unique()\n",
    "\n",
    "# Initialize counters\n",
    "uniqueSum = 0\n",
    "totalSum = 0\n",
    "notUniqueSum = 0\n",
    "\n",
    "# Iterate through each unique 'Produit_Designation'\n",
    "for designation in unique_produit_designations:\n",
    "    totalSum += 1\n",
    "    subset_data = complete_data[complete_data['Produit_Designation'] == designation]\n",
    "    \n",
    "    # Count unique 'DetailEffet_Designation' values for the current 'Produit_Designation'\n",
    "    unique_values_count = subset_data['DetailEffet_Designation'].nunique()\n",
    "    \n",
    "    if unique_values_count == 1:\n",
    "        uniqueSum += 1\n",
    "    else:\n",
    "        notUniqueSum += 1\n",
    "\n",
    "# Calculate percentages\n",
    "print(f\"Percentage of unique mappings (Produit_Designation -> DetailEffet_Designation): {uniqueSum/totalSum*100}%\")\n",
    "print(f\"Percentage of not unique mappings (Produit_Designation -> DetailEffet_Designation): {notUniqueSum/totalSum*100}%\")"
   ]
  },
  {
   "cell_type": "markdown",
   "id": "49e25190",
   "metadata": {},
   "source": [
    "This suggests that in most cases (70.66%), Produit_Designation can uniquely determine DetailEffet_Designation. and 29.34% of the time, Produit_Designation maps to multiple DetailEffet_Designation values.\n",
    "\n",
    "\n"
   ]
  },
  {
   "cell_type": "markdown",
   "id": "afbfa4cc",
   "metadata": {},
   "source": [
    " thus we will proceed by droping DetailEffet_Designation"
   ]
  },
  {
   "cell_type": "code",
   "execution_count": 36,
   "id": "a7da1a5e",
   "metadata": {
    "scrolled": true
   },
   "outputs": [
    {
     "data": {
      "text/plain": [
       "Index(['CleEffet', 'Date', 'TypeEffet', 'FamilleArticle', 'Reference Produit',\n",
       "       'NLot', 'Produit_Designation', 'Quantite', 'PrixAchat',\n",
       "       'PrixUnitaireTTC', 'DetailEffet_Marge', 'Effet_Marge', 'MontantHT',\n",
       "       'Payement'],\n",
       "      dtype='object')"
      ]
     },
     "execution_count": 36,
     "metadata": {},
     "output_type": "execute_result"
    }
   ],
   "source": [
    "complete_data = complete_data.drop(columns=['DetailEffet_Designation'])\n",
    "\n",
    "complete_data.columns"
   ]
  },
  {
   "cell_type": "code",
   "execution_count": 37,
   "id": "98aa1f1d",
   "metadata": {
    "scrolled": true
   },
   "outputs": [
    {
     "data": {
      "text/html": [
       "<div>\n",
       "<style scoped>\n",
       "    .dataframe tbody tr th:only-of-type {\n",
       "        vertical-align: middle;\n",
       "    }\n",
       "\n",
       "    .dataframe tbody tr th {\n",
       "        vertical-align: top;\n",
       "    }\n",
       "\n",
       "    .dataframe thead th {\n",
       "        text-align: right;\n",
       "    }\n",
       "</style>\n",
       "<table border=\"1\" class=\"dataframe\">\n",
       "  <thead>\n",
       "    <tr style=\"text-align: right;\">\n",
       "      <th></th>\n",
       "      <th>CleEffet</th>\n",
       "      <th>Date</th>\n",
       "      <th>TypeEffet</th>\n",
       "      <th>FamilleArticle</th>\n",
       "      <th>Reference Produit</th>\n",
       "      <th>NLot</th>\n",
       "      <th>Produit_Designation</th>\n",
       "      <th>Quantite</th>\n",
       "      <th>PrixAchat</th>\n",
       "      <th>PrixUnitaireTTC</th>\n",
       "      <th>DetailEffet_Marge</th>\n",
       "      <th>Effet_Marge</th>\n",
       "      <th>MontantHT</th>\n",
       "      <th>Payement</th>\n",
       "    </tr>\n",
       "  </thead>\n",
       "  <tbody>\n",
       "    <tr>\n",
       "      <th>0</th>\n",
       "      <td>1</td>\n",
       "      <td>2012-08-14</td>\n",
       "      <td>Bon d'entrée</td>\n",
       "      <td>produit insecticide</td>\n",
       "      <td>0305</td>\n",
       "      <td>CHA110501</td>\n",
       "      <td>0</td>\n",
       "      <td>65.0</td>\n",
       "      <td>1650.0</td>\n",
       "      <td>9999.0</td>\n",
       "      <td>0.0</td>\n",
       "      <td>2.163109e+08</td>\n",
       "      <td>2.163109e+08</td>\n",
       "      <td>0.0</td>\n",
       "    </tr>\n",
       "    <tr>\n",
       "      <th>1</th>\n",
       "      <td>1</td>\n",
       "      <td>2012-08-14</td>\n",
       "      <td>Bon d'entrée</td>\n",
       "      <td>matériel bovin</td>\n",
       "      <td>0305</td>\n",
       "      <td>10.274.1.09</td>\n",
       "      <td>1</td>\n",
       "      <td>120.0</td>\n",
       "      <td>550.0</td>\n",
       "      <td>9999.0</td>\n",
       "      <td>0.0</td>\n",
       "      <td>2.163109e+08</td>\n",
       "      <td>2.163109e+08</td>\n",
       "      <td>0.0</td>\n",
       "    </tr>\n",
       "    <tr>\n",
       "      <th>2</th>\n",
       "      <td>1</td>\n",
       "      <td>2012-08-14</td>\n",
       "      <td>Bon d'entrée</td>\n",
       "      <td>produit insecticide</td>\n",
       "      <td>0305</td>\n",
       "      <td>L110703</td>\n",
       "      <td>2</td>\n",
       "      <td>137.0</td>\n",
       "      <td>1034.0</td>\n",
       "      <td>9999.0</td>\n",
       "      <td>0.0</td>\n",
       "      <td>2.163109e+08</td>\n",
       "      <td>2.163109e+08</td>\n",
       "      <td>0.0</td>\n",
       "    </tr>\n",
       "    <tr>\n",
       "      <th>3</th>\n",
       "      <td>1</td>\n",
       "      <td>2012-08-14</td>\n",
       "      <td>Bon d'entrée</td>\n",
       "      <td>produit insecticide</td>\n",
       "      <td>2F18272093</td>\n",
       "      <td>2F18272093</td>\n",
       "      <td>3</td>\n",
       "      <td>2000.0</td>\n",
       "      <td>2800.0</td>\n",
       "      <td>9999.0</td>\n",
       "      <td>0.0</td>\n",
       "      <td>2.163109e+08</td>\n",
       "      <td>2.163109e+08</td>\n",
       "      <td>0.0</td>\n",
       "    </tr>\n",
       "    <tr>\n",
       "      <th>4</th>\n",
       "      <td>1</td>\n",
       "      <td>2012-08-14</td>\n",
       "      <td>Bon d'entrée</td>\n",
       "      <td>produit insecticide</td>\n",
       "      <td>0305</td>\n",
       "      <td>20101102</td>\n",
       "      <td>4</td>\n",
       "      <td>3500.0</td>\n",
       "      <td>1550.0</td>\n",
       "      <td>9999.0</td>\n",
       "      <td>0.0</td>\n",
       "      <td>2.163109e+08</td>\n",
       "      <td>2.163109e+08</td>\n",
       "      <td>0.0</td>\n",
       "    </tr>\n",
       "  </tbody>\n",
       "</table>\n",
       "</div>"
      ],
      "text/plain": [
       "   CleEffet       Date     TypeEffet       FamilleArticle Reference Produit  \\\n",
       "0         1 2012-08-14  Bon d'entrée  produit insecticide              0305   \n",
       "1         1 2012-08-14  Bon d'entrée       matériel bovin              0305   \n",
       "2         1 2012-08-14  Bon d'entrée  produit insecticide              0305   \n",
       "3         1 2012-08-14  Bon d'entrée  produit insecticide        2F18272093   \n",
       "4         1 2012-08-14  Bon d'entrée  produit insecticide              0305   \n",
       "\n",
       "          NLot Produit_Designation  Quantite  PrixAchat  PrixUnitaireTTC  \\\n",
       "0    CHA110501                   0      65.0     1650.0           9999.0   \n",
       "1  10.274.1.09                   1     120.0      550.0           9999.0   \n",
       "2      L110703                   2     137.0     1034.0           9999.0   \n",
       "3   2F18272093                   3    2000.0     2800.0           9999.0   \n",
       "4     20101102                   4    3500.0     1550.0           9999.0   \n",
       "\n",
       "   DetailEffet_Marge   Effet_Marge     MontantHT  Payement  \n",
       "0                0.0  2.163109e+08  2.163109e+08       0.0  \n",
       "1                0.0  2.163109e+08  2.163109e+08       0.0  \n",
       "2                0.0  2.163109e+08  2.163109e+08       0.0  \n",
       "3                0.0  2.163109e+08  2.163109e+08       0.0  \n",
       "4                0.0  2.163109e+08  2.163109e+08       0.0  "
      ]
     },
     "execution_count": 37,
     "metadata": {},
     "output_type": "execute_result"
    }
   ],
   "source": [
    "complete_data.head()"
   ]
  },
  {
   "cell_type": "code",
   "execution_count": 38,
   "id": "e437fdfd",
   "metadata": {
    "scrolled": false
   },
   "outputs": [
    {
     "data": {
      "text/plain": [
       "CleEffet                        int64\n",
       "Date                   datetime64[ns]\n",
       "TypeEffet                      object\n",
       "FamilleArticle                 object\n",
       "Reference Produit              object\n",
       "NLot                           object\n",
       "Produit_Designation            object\n",
       "Quantite                      float64\n",
       "PrixAchat                     float64\n",
       "PrixUnitaireTTC               float64\n",
       "DetailEffet_Marge             float64\n",
       "Effet_Marge                   float64\n",
       "MontantHT                     float64\n",
       "Payement                      float64\n",
       "dtype: object"
      ]
     },
     "execution_count": 38,
     "metadata": {},
     "output_type": "execute_result"
    }
   ],
   "source": [
    "complete_data.dtypes"
   ]
  },
  {
   "cell_type": "code",
   "execution_count": 39,
   "id": "ea61fcb1",
   "metadata": {},
   "outputs": [
    {
     "name": "stdout",
     "output_type": "stream",
     "text": [
      "DataFrame has been successfully written to ./Data/Prepocessing1_data.csv\n"
     ]
    }
   ],
   "source": [
    "csv_file_path = './Data/Prepocessing1_data.csv'\n",
    "\n",
    "complete_data.to_csv(csv_file_path, index=False)\n",
    "\n",
    "print(f'DataFrame has been successfully written to {csv_file_path}')"
   ]
  }
 ],
 "metadata": {
  "kernelspec": {
   "display_name": "Python 3 (ipykernel)",
   "language": "python",
   "name": "python3"
  },
  "language_info": {
   "codemirror_mode": {
    "name": "ipython",
    "version": 3
   },
   "file_extension": ".py",
   "mimetype": "text/x-python",
   "name": "python",
   "nbconvert_exporter": "python",
   "pygments_lexer": "ipython3",
   "version": "3.11.5"
  }
 },
 "nbformat": 4,
 "nbformat_minor": 5
}
