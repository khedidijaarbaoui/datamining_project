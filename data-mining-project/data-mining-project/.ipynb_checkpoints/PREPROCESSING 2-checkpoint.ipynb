{
 "cells": [
  {
   "cell_type": "markdown",
   "id": "c58b9c19",
   "metadata": {},
   "source": [
    "# PREPROCESSING THE PRICE AND PROFIT ATTRIBUTES "
   ]
  },
  {
   "cell_type": "markdown",
   "id": "372e1be6",
   "metadata": {},
   "source": [
    "### 1.lest start by the \"PrixUnitaireTTC\""
   ]
  },
  {
   "cell_type": "markdown",
   "id": "2d245c08",
   "metadata": {},
   "source": [
    "Analyzing the reliability of the \"PrixUnitaireTTC\" column by focusing on potential outliers (values under 10).\n",
    "\n",
    "Replacing the corrupted values (i.e., those under 10) with the mean of each \"FamilleArticle\" for each year."
   ]
  },
  {
   "cell_type": "code",
   "execution_count": 1,
   "id": "52cbf075",
   "metadata": {},
   "outputs": [],
   "source": [
    "import numpy as np\n",
    "import matplotlib.pyplot as plt\n",
    "import pandas as pd\n",
    "import seaborn as sns\n"
   ]
  },
  {
   "cell_type": "code",
   "execution_count": 2,
   "id": "ceb726fe",
   "metadata": {
    "scrolled": true
   },
   "outputs": [
    {
     "data": {
      "text/html": [
       "<div>\n",
       "<style scoped>\n",
       "    .dataframe tbody tr th:only-of-type {\n",
       "        vertical-align: middle;\n",
       "    }\n",
       "\n",
       "    .dataframe tbody tr th {\n",
       "        vertical-align: top;\n",
       "    }\n",
       "\n",
       "    .dataframe thead th {\n",
       "        text-align: right;\n",
       "    }\n",
       "</style>\n",
       "<table border=\"1\" class=\"dataframe\">\n",
       "  <thead>\n",
       "    <tr style=\"text-align: right;\">\n",
       "      <th></th>\n",
       "      <th>CleEffet</th>\n",
       "      <th>Date</th>\n",
       "      <th>TypeEffet</th>\n",
       "      <th>FamilleArticle</th>\n",
       "      <th>Reference Produit</th>\n",
       "      <th>NLot</th>\n",
       "      <th>Produit_Designation</th>\n",
       "      <th>Quantite</th>\n",
       "      <th>PrixAchat</th>\n",
       "      <th>PrixUnitaireTTC</th>\n",
       "      <th>DetailEffet_Marge</th>\n",
       "      <th>Effet_Marge</th>\n",
       "      <th>MontantHT</th>\n",
       "      <th>Payement</th>\n",
       "    </tr>\n",
       "  </thead>\n",
       "  <tbody>\n",
       "    <tr>\n",
       "      <th>0</th>\n",
       "      <td>1</td>\n",
       "      <td>2012-08-14</td>\n",
       "      <td>Bon d'entrée</td>\n",
       "      <td>produit insecticide</td>\n",
       "      <td>0305</td>\n",
       "      <td>CHA110501</td>\n",
       "      <td>0</td>\n",
       "      <td>65.0</td>\n",
       "      <td>1650.0</td>\n",
       "      <td>9999.0</td>\n",
       "      <td>0.0</td>\n",
       "      <td>2.163109e+08</td>\n",
       "      <td>2.163109e+08</td>\n",
       "      <td>0.0</td>\n",
       "    </tr>\n",
       "    <tr>\n",
       "      <th>1</th>\n",
       "      <td>1</td>\n",
       "      <td>2012-08-14</td>\n",
       "      <td>Bon d'entrée</td>\n",
       "      <td>matériel bovin</td>\n",
       "      <td>0305</td>\n",
       "      <td>10.274.1.09</td>\n",
       "      <td>1</td>\n",
       "      <td>120.0</td>\n",
       "      <td>550.0</td>\n",
       "      <td>9999.0</td>\n",
       "      <td>0.0</td>\n",
       "      <td>2.163109e+08</td>\n",
       "      <td>2.163109e+08</td>\n",
       "      <td>0.0</td>\n",
       "    </tr>\n",
       "    <tr>\n",
       "      <th>2</th>\n",
       "      <td>1</td>\n",
       "      <td>2012-08-14</td>\n",
       "      <td>Bon d'entrée</td>\n",
       "      <td>produit insecticide</td>\n",
       "      <td>0305</td>\n",
       "      <td>L110703</td>\n",
       "      <td>2</td>\n",
       "      <td>137.0</td>\n",
       "      <td>1034.0</td>\n",
       "      <td>9999.0</td>\n",
       "      <td>0.0</td>\n",
       "      <td>2.163109e+08</td>\n",
       "      <td>2.163109e+08</td>\n",
       "      <td>0.0</td>\n",
       "    </tr>\n",
       "    <tr>\n",
       "      <th>3</th>\n",
       "      <td>1</td>\n",
       "      <td>2012-08-14</td>\n",
       "      <td>Bon d'entrée</td>\n",
       "      <td>produit insecticide</td>\n",
       "      <td>2F18272093</td>\n",
       "      <td>2F18272093</td>\n",
       "      <td>3</td>\n",
       "      <td>2000.0</td>\n",
       "      <td>2800.0</td>\n",
       "      <td>9999.0</td>\n",
       "      <td>0.0</td>\n",
       "      <td>2.163109e+08</td>\n",
       "      <td>2.163109e+08</td>\n",
       "      <td>0.0</td>\n",
       "    </tr>\n",
       "    <tr>\n",
       "      <th>4</th>\n",
       "      <td>1</td>\n",
       "      <td>2012-08-14</td>\n",
       "      <td>Bon d'entrée</td>\n",
       "      <td>produit insecticide</td>\n",
       "      <td>0305</td>\n",
       "      <td>20101102</td>\n",
       "      <td>4</td>\n",
       "      <td>3500.0</td>\n",
       "      <td>1550.0</td>\n",
       "      <td>9999.0</td>\n",
       "      <td>0.0</td>\n",
       "      <td>2.163109e+08</td>\n",
       "      <td>2.163109e+08</td>\n",
       "      <td>0.0</td>\n",
       "    </tr>\n",
       "  </tbody>\n",
       "</table>\n",
       "</div>"
      ],
      "text/plain": [
       "   CleEffet        Date     TypeEffet       FamilleArticle Reference Produit  \\\n",
       "0         1  2012-08-14  Bon d'entrée  produit insecticide              0305   \n",
       "1         1  2012-08-14  Bon d'entrée       matériel bovin              0305   \n",
       "2         1  2012-08-14  Bon d'entrée  produit insecticide              0305   \n",
       "3         1  2012-08-14  Bon d'entrée  produit insecticide        2F18272093   \n",
       "4         1  2012-08-14  Bon d'entrée  produit insecticide              0305   \n",
       "\n",
       "          NLot  Produit_Designation  Quantite  PrixAchat  PrixUnitaireTTC  \\\n",
       "0    CHA110501                    0      65.0     1650.0           9999.0   \n",
       "1  10.274.1.09                    1     120.0      550.0           9999.0   \n",
       "2      L110703                    2     137.0     1034.0           9999.0   \n",
       "3   2F18272093                    3    2000.0     2800.0           9999.0   \n",
       "4     20101102                    4    3500.0     1550.0           9999.0   \n",
       "\n",
       "   DetailEffet_Marge   Effet_Marge     MontantHT  Payement  \n",
       "0                0.0  2.163109e+08  2.163109e+08       0.0  \n",
       "1                0.0  2.163109e+08  2.163109e+08       0.0  \n",
       "2                0.0  2.163109e+08  2.163109e+08       0.0  \n",
       "3                0.0  2.163109e+08  2.163109e+08       0.0  \n",
       "4                0.0  2.163109e+08  2.163109e+08       0.0  "
      ]
     },
     "execution_count": 2,
     "metadata": {},
     "output_type": "execute_result"
    }
   ],
   "source": [
    "# Load the dataset\n",
    "df = pd.read_csv(\"./DATA/Prepocessingg1_data.csv\")\n",
    "df.head()"
   ]
  },
  {
   "cell_type": "code",
   "execution_count": 3,
   "id": "f073a08f",
   "metadata": {
    "scrolled": true
   },
   "outputs": [
    {
     "name": "stdout",
     "output_type": "stream",
     "text": [
      "<class 'pandas.core.frame.DataFrame'>\n",
      "RangeIndex: 261001 entries, 0 to 261000\n",
      "Data columns (total 14 columns):\n",
      " #   Column               Non-Null Count   Dtype  \n",
      "---  ------               --------------   -----  \n",
      " 0   CleEffet             261001 non-null  int64  \n",
      " 1   Date                 261001 non-null  object \n",
      " 2   TypeEffet            261001 non-null  object \n",
      " 3   FamilleArticle       261001 non-null  object \n",
      " 4   Reference Produit    261001 non-null  object \n",
      " 5   NLot                 261001 non-null  object \n",
      " 6   Produit_Designation  261001 non-null  int64  \n",
      " 7   Quantite             261001 non-null  float64\n",
      " 8   PrixAchat            261001 non-null  float64\n",
      " 9   PrixUnitaireTTC      261001 non-null  float64\n",
      " 10  DetailEffet_Marge    261001 non-null  float64\n",
      " 11  Effet_Marge          261001 non-null  float64\n",
      " 12  MontantHT            261001 non-null  float64\n",
      " 13  Payement             261001 non-null  float64\n",
      "dtypes: float64(7), int64(2), object(5)\n",
      "memory usage: 27.9+ MB\n"
     ]
    }
   ],
   "source": [
    "df.info()"
   ]
  },
  {
   "cell_type": "code",
   "execution_count": 4,
   "id": "9e77156a",
   "metadata": {},
   "outputs": [],
   "source": [
    "df['Date'] = pd.to_datetime(df['Date'])\n"
   ]
  },
  {
   "cell_type": "code",
   "execution_count": 5,
   "id": "21495eaa",
   "metadata": {
    "scrolled": true
   },
   "outputs": [
    {
     "name": "stdout",
     "output_type": "stream",
     "text": [
      "<class 'pandas.core.frame.DataFrame'>\n",
      "RangeIndex: 261001 entries, 0 to 261000\n",
      "Data columns (total 14 columns):\n",
      " #   Column               Non-Null Count   Dtype         \n",
      "---  ------               --------------   -----         \n",
      " 0   CleEffet             261001 non-null  int64         \n",
      " 1   Date                 261001 non-null  datetime64[ns]\n",
      " 2   TypeEffet            261001 non-null  object        \n",
      " 3   FamilleArticle       261001 non-null  object        \n",
      " 4   Reference Produit    261001 non-null  object        \n",
      " 5   NLot                 261001 non-null  object        \n",
      " 6   Produit_Designation  261001 non-null  int64         \n",
      " 7   Quantite             261001 non-null  float64       \n",
      " 8   PrixAchat            261001 non-null  float64       \n",
      " 9   PrixUnitaireTTC      261001 non-null  float64       \n",
      " 10  DetailEffet_Marge    261001 non-null  float64       \n",
      " 11  Effet_Marge          261001 non-null  float64       \n",
      " 12  MontantHT            261001 non-null  float64       \n",
      " 13  Payement             261001 non-null  float64       \n",
      "dtypes: datetime64[ns](1), float64(7), int64(2), object(4)\n",
      "memory usage: 27.9+ MB\n"
     ]
    }
   ],
   "source": [
    "df.info()"
   ]
  },
  {
   "cell_type": "code",
   "execution_count": 6,
   "id": "dd6380ff",
   "metadata": {},
   "outputs": [
    {
     "data": {
      "text/plain": [
       "count    2.610010e+05\n",
       "mean     9.224041e+05\n",
       "std      4.697753e+08\n",
       "min      0.000000e+00\n",
       "25%      2.500000e+02\n",
       "50%      9.000000e+02\n",
       "75%      3.000000e+03\n",
       "max      2.400000e+11\n",
       "Name: PrixUnitaireTTC, dtype: float64"
      ]
     },
     "execution_count": 6,
     "metadata": {},
     "output_type": "execute_result"
    }
   ],
   "source": [
    "# Check the distribution of PrixUnitaireTTC\n",
    "df['PrixUnitaireTTC'].describe() "
   ]
  },
  {
   "cell_type": "markdown",
   "id": "f2f8c3d7",
   "metadata": {},
   "source": [
    "LETS IDENTIFY THE OUTLIERS WE WILL CONSIDER THE VALUSE 1-9.99 AS OUTLIERS+"
   ]
  },
  {
   "cell_type": "markdown",
   "id": "ff4eb980",
   "metadata": {},
   "source": [
    "1.THE VALUES BETWEEN 1 AND 9.99"
   ]
  },
  {
   "cell_type": "code",
   "execution_count": 7,
   "id": "72043858",
   "metadata": {},
   "outputs": [
    {
     "name": "stdout",
     "output_type": "stream",
     "text": [
      "(4082, 14)\n"
     ]
    }
   ],
   "source": [
    "# Select rows where PrixUnitaireTTC less than 10 \n",
    "prixUnitaireFalse = df[(df['PrixUnitaireTTC'] <10) ]\n",
    "\n",
    "# Display the resulting DataFrame\n",
    "print(prixUnitaireFalse.shape)"
   ]
  },
  {
   "cell_type": "markdown",
   "id": "e415b636",
   "metadata": {},
   "source": [
    "4082 ROWS HAVE PRIX UNITAIRE LESS THAN 10."
   ]
  },
  {
   "cell_type": "markdown",
   "id": "9a49a60a",
   "metadata": {},
   "source": [
    "we check the families that are more affected "
   ]
  },
  {
   "cell_type": "code",
   "execution_count": 8,
   "id": "7318bc21",
   "metadata": {},
   "outputs": [
    {
     "data": {
      "image/png": "[encoded data removed]",
      "text/plain": [
       "<Figure size 1200x600 with 1 Axes>"
      ]
     },
     "metadata": {},
     "output_type": "display_data"
    }
   ],
   "source": [
    "\n",
    "\n",
    "# Count occurrences of each FamilleArticle in the affected dataset\n",
    "famille_counts = prixUnitaireFalse['FamilleArticle'].value_counts()\n",
    "\n",
    "# Plot\n",
    "plt.figure(figsize=(12, 6))\n",
    "sns.barplot(x=famille_counts.index, y=famille_counts.values, palette='viridis')\n",
    "\n",
    "# Labels and title\n",
    "plt.xticks(rotation=90)\n",
    "plt.xlabel('FamilleArticle')\n",
    "plt.ylabel('Number of Affected Entries')\n",
    "plt.title('Number of Outliers (PrixUnitaireTTC < 10) per FamilleArticle')\n",
    "\n",
    "# Show plot\n",
    "plt.show()\n"
   ]
  },
  {
   "cell_type": "markdown",
   "id": "f33223f2",
   "metadata": {},
   "source": [
    "we calculate the percentage of affected rows for each TypeEffet"
   ]
  },
  {
   "cell_type": "code",
   "execution_count": 9,
   "id": "4aebe845",
   "metadata": {},
   "outputs": [
    {
     "name": "stdout",
     "output_type": "stream",
     "text": [
      "                  Total Rows  Affected Rows  Percentage (%)\n",
      "TypeEffet                                                  \n",
      "Bon d'entrée            8309           2633           31.69\n",
      "Bon de livraison      223143            518            0.23\n",
      "Bon de réception       18098            214            1.18\n",
      "Bon de sortie          11451            717            6.26\n"
     ]
    }
   ],
   "source": [
    "# Count total rows for each TypeEffet\n",
    "total_counts = df['TypeEffet'].value_counts()\n",
    "\n",
    "# Count affected rows where PrixUnitaireTTC < 10 for each TypeEffet\n",
    "affected_counts = prixUnitaireFalse['TypeEffet'].value_counts()\n",
    "\n",
    "# Calculate percentage of affected rows\n",
    "percentage_affected = (affected_counts / total_counts * 100).round(2)\n",
    "\n",
    "# Convert to DataFrame for better visualization\n",
    "percentage_df = pd.DataFrame({'Total Rows': total_counts, 'Affected Rows': affected_counts, 'Percentage (%)': percentage_affected})\n",
    "\n",
    "# Display result\n",
    "print(percentage_df)\n"
   ]
  },
  {
   "cell_type": "code",
   "execution_count": 10,
   "id": "bbd9359e",
   "metadata": {
    "scrolled": true
   },
   "outputs": [
    {
     "data": {
      "image/png": "[encoded data removed]",
      "text/plain": [
       "<Figure size 800x500 with 1 Axes>"
      ]
     },
     "metadata": {},
     "output_type": "display_data"
    }
   ],
   "source": [
    "plt.figure(figsize=(8, 5))\n",
    "sns.barplot(x=percentage_affected.index, y=percentage_affected.values, palette='coolwarm')\n",
    "\n",
    "plt.xlabel('TypeEffet')\n",
    "plt.ylabel('Percentage of Affected Rows (%)')\n",
    "plt.title('Percentage of Rows Affected by PrixUnitaireTTC < 10 for Each TypeEffet')\n",
    "plt.ylim(0, 100)  # Keep y-axis in percentage range\n",
    "\n",
    "plt.show()\n"
   ]
  },
  {
   "cell_type": "markdown",
   "id": "0ebc0428",
   "metadata": {},
   "source": [
    "type bon de livraison seem to have less affected rows"
   ]
  },
  {
   "cell_type": "markdown",
   "id": "b258bbea",
   "metadata": {},
   "source": [
    "### we replace the affected rows where PrixUnitaireTTC is less than 10 with the mean PrixUnitaireTTC for each FamilleArticle over the years"
   ]
  },
  {
   "cell_type": "code",
   "execution_count": 11,
   "id": "a4afbb3b",
   "metadata": {
    "scrolled": false
   },
   "outputs": [
    {
     "data": {
      "text/html": [
       "<div>\n",
       "<style scoped>\n",
       "    .dataframe tbody tr th:only-of-type {\n",
       "        vertical-align: middle;\n",
       "    }\n",
       "\n",
       "    .dataframe tbody tr th {\n",
       "        vertical-align: top;\n",
       "    }\n",
       "\n",
       "    .dataframe thead th {\n",
       "        text-align: right;\n",
       "    }\n",
       "</style>\n",
       "<table border=\"1\" class=\"dataframe\">\n",
       "  <thead>\n",
       "    <tr style=\"text-align: right;\">\n",
       "      <th></th>\n",
       "      <th>CleEffet</th>\n",
       "      <th>Date</th>\n",
       "      <th>TypeEffet</th>\n",
       "      <th>FamilleArticle</th>\n",
       "      <th>Reference Produit</th>\n",
       "      <th>NLot</th>\n",
       "      <th>Produit_Designation</th>\n",
       "      <th>Quantite</th>\n",
       "      <th>PrixAchat</th>\n",
       "      <th>PrixUnitaireTTC</th>\n",
       "      <th>DetailEffet_Marge</th>\n",
       "      <th>Effet_Marge</th>\n",
       "      <th>MontantHT</th>\n",
       "      <th>Payement</th>\n",
       "      <th>Year</th>\n",
       "    </tr>\n",
       "  </thead>\n",
       "  <tbody>\n",
       "    <tr>\n",
       "      <th>0</th>\n",
       "      <td>1</td>\n",
       "      <td>2012-08-14</td>\n",
       "      <td>Bon d'entrée</td>\n",
       "      <td>produit insecticide</td>\n",
       "      <td>0305</td>\n",
       "      <td>CHA110501</td>\n",
       "      <td>0</td>\n",
       "      <td>65.0</td>\n",
       "      <td>1650.0</td>\n",
       "      <td>9999.0</td>\n",
       "      <td>0.0</td>\n",
       "      <td>2.163109e+08</td>\n",
       "      <td>2.163109e+08</td>\n",
       "      <td>0.0</td>\n",
       "      <td>2012</td>\n",
       "    </tr>\n",
       "    <tr>\n",
       "      <th>1</th>\n",
       "      <td>1</td>\n",
       "      <td>2012-08-14</td>\n",
       "      <td>Bon d'entrée</td>\n",
       "      <td>matériel bovin</td>\n",
       "      <td>0305</td>\n",
       "      <td>10.274.1.09</td>\n",
       "      <td>1</td>\n",
       "      <td>120.0</td>\n",
       "      <td>550.0</td>\n",
       "      <td>9999.0</td>\n",
       "      <td>0.0</td>\n",
       "      <td>2.163109e+08</td>\n",
       "      <td>2.163109e+08</td>\n",
       "      <td>0.0</td>\n",
       "      <td>2012</td>\n",
       "    </tr>\n",
       "    <tr>\n",
       "      <th>2</th>\n",
       "      <td>1</td>\n",
       "      <td>2012-08-14</td>\n",
       "      <td>Bon d'entrée</td>\n",
       "      <td>produit insecticide</td>\n",
       "      <td>0305</td>\n",
       "      <td>L110703</td>\n",
       "      <td>2</td>\n",
       "      <td>137.0</td>\n",
       "      <td>1034.0</td>\n",
       "      <td>9999.0</td>\n",
       "      <td>0.0</td>\n",
       "      <td>2.163109e+08</td>\n",
       "      <td>2.163109e+08</td>\n",
       "      <td>0.0</td>\n",
       "      <td>2012</td>\n",
       "    </tr>\n",
       "    <tr>\n",
       "      <th>3</th>\n",
       "      <td>1</td>\n",
       "      <td>2012-08-14</td>\n",
       "      <td>Bon d'entrée</td>\n",
       "      <td>produit insecticide</td>\n",
       "      <td>2F18272093</td>\n",
       "      <td>2F18272093</td>\n",
       "      <td>3</td>\n",
       "      <td>2000.0</td>\n",
       "      <td>2800.0</td>\n",
       "      <td>9999.0</td>\n",
       "      <td>0.0</td>\n",
       "      <td>2.163109e+08</td>\n",
       "      <td>2.163109e+08</td>\n",
       "      <td>0.0</td>\n",
       "      <td>2012</td>\n",
       "    </tr>\n",
       "    <tr>\n",
       "      <th>4</th>\n",
       "      <td>1</td>\n",
       "      <td>2012-08-14</td>\n",
       "      <td>Bon d'entrée</td>\n",
       "      <td>produit insecticide</td>\n",
       "      <td>0305</td>\n",
       "      <td>20101102</td>\n",
       "      <td>4</td>\n",
       "      <td>3500.0</td>\n",
       "      <td>1550.0</td>\n",
       "      <td>9999.0</td>\n",
       "      <td>0.0</td>\n",
       "      <td>2.163109e+08</td>\n",
       "      <td>2.163109e+08</td>\n",
       "      <td>0.0</td>\n",
       "      <td>2012</td>\n",
       "    </tr>\n",
       "  </tbody>\n",
       "</table>\n",
       "</div>"
      ],
      "text/plain": [
       "   CleEffet       Date     TypeEffet       FamilleArticle Reference Produit  \\\n",
       "0         1 2012-08-14  Bon d'entrée  produit insecticide              0305   \n",
       "1         1 2012-08-14  Bon d'entrée       matériel bovin              0305   \n",
       "2         1 2012-08-14  Bon d'entrée  produit insecticide              0305   \n",
       "3         1 2012-08-14  Bon d'entrée  produit insecticide        2F18272093   \n",
       "4         1 2012-08-14  Bon d'entrée  produit insecticide              0305   \n",
       "\n",
       "          NLot  Produit_Designation  Quantite  PrixAchat  PrixUnitaireTTC  \\\n",
       "0    CHA110501                    0      65.0     1650.0           9999.0   \n",
       "1  10.274.1.09                    1     120.0      550.0           9999.0   \n",
       "2      L110703                    2     137.0     1034.0           9999.0   \n",
       "3   2F18272093                    3    2000.0     2800.0           9999.0   \n",
       "4     20101102                    4    3500.0     1550.0           9999.0   \n",
       "\n",
       "   DetailEffet_Marge   Effet_Marge     MontantHT  Payement  Year  \n",
       "0                0.0  2.163109e+08  2.163109e+08       0.0  2012  \n",
       "1                0.0  2.163109e+08  2.163109e+08       0.0  2012  \n",
       "2                0.0  2.163109e+08  2.163109e+08       0.0  2012  \n",
       "3                0.0  2.163109e+08  2.163109e+08       0.0  2012  \n",
       "4                0.0  2.163109e+08  2.163109e+08       0.0  2012  "
      ]
     },
     "execution_count": 11,
     "metadata": {},
     "output_type": "execute_result"
    }
   ],
   "source": [
    "# Extract the year from the 'Date' column\n",
    "df['Year'] = df['Date'].dt.year\n",
    "\n",
    "# Iterate over the years from 2012 to 2022\n",
    "for year in range(2012, 2023):\n",
    "    # Iterate through unique famille_article values\n",
    "    for famille_article in df['FamilleArticle'].unique():\n",
    "        # Filter rows for the specified family, year, and PrixUnitaireTTC less than 9.9\n",
    "        rows_to_update = df[(df['FamilleArticle'] == famille_article) & (df['Year'] == year) & (df['PrixUnitaireTTC'] < 10)]\n",
    "\n",
    "        if not rows_to_update.empty:\n",
    "            # Calculate the mean for the specific year for rows with PrixUnitaireTTC >= 9\n",
    "            mean_prix_unitaire = df[(df['FamilleArticle'] == famille_article) & (df['Year'] == year) & (df['PrixUnitaireTTC'] > 10)]['PrixUnitaireTTC'].mean()\n",
    "\n",
    "            # Round the mean to keep zeros after the decimal point\n",
    "            mean_prix_unitaire_rounded = round(mean_prix_unitaire, 1)\n",
    "\n",
    "            # Update the 'PrixUnitaireTTC' values directly using boolean indexing\n",
    "            df.loc[rows_to_update.index, 'PrixUnitaireTTC'] = mean_prix_unitaire_rounded\n",
    "# Display the result\n",
    "df.head()\n"
   ]
  },
  {
   "cell_type": "markdown",
   "id": "ffa1b833",
   "metadata": {},
   "source": [
    "WE CHECK IF THE AFFECTED WERE successfully REPLACED "
   ]
  },
  {
   "cell_type": "code",
   "execution_count": 12,
   "id": "12c3b1d6",
   "metadata": {
    "scrolled": true
   },
   "outputs": [
    {
     "name": "stdout",
     "output_type": "stream",
     "text": [
      "Empty DataFrame\n",
      "Columns: [CleEffet, Date, TypeEffet, FamilleArticle, Reference Produit, NLot, Produit_Designation, Quantite, PrixAchat, PrixUnitaireTTC, DetailEffet_Marge, Effet_Marge, MontantHT, Payement, Year]\n",
      "Index: []\n"
     ]
    }
   ],
   "source": [
    "print(df[df['PrixUnitaireTTC']<10])"
   ]
  },
  {
   "cell_type": "markdown",
   "id": "bda2ea87",
   "metadata": {},
   "source": [
    "NOW THE COLUMN PrixUnitaireTTC IS RELIABLE "
   ]
  },
  {
   "cell_type": "markdown",
   "id": "924d1d29",
   "metadata": {},
   "source": [
    "### 2. NOW WE TREAT THE COLUMN MontantHT"
   ]
  },
  {
   "cell_type": "markdown",
   "id": "915727f6",
   "metadata": {},
   "source": [
    "Calculate Correct MontantHT USING CalculatedAmount=PrixUnitaireTTC*Quantite AND THEN WE COMPARE IT TO THE ACTUAL VALUES IN MontantHT to identify discrepancies (violations)."
   ]
  },
  {
   "cell_type": "code",
   "execution_count": 13,
   "id": "d3a40cab",
   "metadata": {
    "scrolled": false
   },
   "outputs": [
    {
     "name": "stdout",
     "output_type": "stream",
     "text": [
      "Number of mismatched transactions: 5345\n",
      "       CleEffet  CalculatedAmount  Amount_Match\n",
      "0             1      2.163109e+08          True\n",
      "1             2      3.999600e+04          True\n",
      "2             3      8.999100e+04          True\n",
      "3             4      5.464635e+09          True\n",
      "4             5      2.144338e+08          True\n",
      "...         ...               ...           ...\n",
      "63732     68349      2.000000e+03          True\n",
      "63733     68350      4.900000e+03          True\n",
      "63734     68351      3.500000e+03          True\n",
      "63735     68352      2.910000e+04          True\n",
      "63736     68353      3.700000e+04          True\n",
      "\n",
      "[63737 rows x 3 columns]\n"
     ]
    }
   ],
   "source": [
    "def compute_transaction_total(df):\n",
    "    # Compute the total amount for each row\n",
    "    df['CalculatedAmount'] = df['PrixUnitaireTTC'] * df['Quantite']\n",
    "\n",
    "    # Aggregate by CleEffet and sum up the calculated amounts\n",
    "    aggregated_amount = df.groupby('CleEffet')['CalculatedAmount'].sum().reset_index()\n",
    "\n",
    "    return aggregated_amount\n",
    "\n",
    "# Calculate the aggregated total amount per transaction\n",
    "aggregated_amount_per_transaction = compute_transaction_total(df)\n",
    "\n",
    "# Merge the aggregated values back into the original dataframe using CleEffet\n",
    "df = pd.merge(df, aggregated_amount_per_transaction, on='CleEffet', how='left')\n",
    "\n",
    "# Check if the calculated amount matches the actual MontantHT\n",
    "aggregated_amount_per_transaction['Amount_Match'] = aggregated_amount_per_transaction.apply(\n",
    "    lambda row: row['CalculatedAmount'] == df.loc[df['CleEffet'] == row['CleEffet'], 'MontantHT'].iloc[0],\n",
    "    axis=1\n",
    ")\n",
    "\n",
    "# Extract relevant columns to examine\n",
    "result_comparison = aggregated_amount_per_transaction[['CleEffet', 'CalculatedAmount', 'Amount_Match']]\n",
    "\n",
    "# Count the number of mismatches\n",
    "mismatch_count = result_comparison['Amount_Match'].value_counts().get(False, 0)\n",
    "print(f\"Number of mismatched transactions: {mismatch_count}\")\n",
    "\n",
    "# Display the detailed comparison\n",
    "print(result_comparison)\n"
   ]
  },
  {
   "cell_type": "markdown",
   "id": "cb50c5e2",
   "metadata": {},
   "source": [
    "NUMBER OF MISMATCHED TRANSACTIONS IS 5345"
   ]
  },
  {
   "cell_type": "markdown",
   "id": "5c26a550",
   "metadata": {},
   "source": [
    "WE ADD THE \"SALES\" COLUMNS AS THE CALCULATED MONTANT"
   ]
  },
  {
   "cell_type": "code",
   "execution_count": 14,
   "id": "95903d3e",
   "metadata": {
    "scrolled": true
   },
   "outputs": [],
   "source": [
    "# Drop the unnecessary 'CalculatedAmount' column \n",
    "df = df.drop(columns=['CalculatedAmount_x'])\n",
    "\n",
    "# Rename the 'CalculatedAmount' column to 'Sales'\n",
    "df.rename(columns={'CalculatedAmount_y': 'Sales'}, inplace=True)\n",
    "\n",
    "# Check the updated dataframe\n"
   ]
  },
  {
   "cell_type": "code",
   "execution_count": 15,
   "id": "e7a42e27",
   "metadata": {
    "scrolled": true
   },
   "outputs": [
    {
     "data": {
      "text/html": [
       "<div>\n",
       "<style scoped>\n",
       "    .dataframe tbody tr th:only-of-type {\n",
       "        vertical-align: middle;\n",
       "    }\n",
       "\n",
       "    .dataframe tbody tr th {\n",
       "        vertical-align: top;\n",
       "    }\n",
       "\n",
       "    .dataframe thead th {\n",
       "        text-align: right;\n",
       "    }\n",
       "</style>\n",
       "<table border=\"1\" class=\"dataframe\">\n",
       "  <thead>\n",
       "    <tr style=\"text-align: right;\">\n",
       "      <th></th>\n",
       "      <th>CleEffet</th>\n",
       "      <th>Date</th>\n",
       "      <th>TypeEffet</th>\n",
       "      <th>FamilleArticle</th>\n",
       "      <th>Reference Produit</th>\n",
       "      <th>NLot</th>\n",
       "      <th>Produit_Designation</th>\n",
       "      <th>Quantite</th>\n",
       "      <th>PrixAchat</th>\n",
       "      <th>PrixUnitaireTTC</th>\n",
       "      <th>DetailEffet_Marge</th>\n",
       "      <th>Effet_Marge</th>\n",
       "      <th>MontantHT</th>\n",
       "      <th>Payement</th>\n",
       "      <th>Year</th>\n",
       "      <th>Sales</th>\n",
       "    </tr>\n",
       "  </thead>\n",
       "  <tbody>\n",
       "    <tr>\n",
       "      <th>0</th>\n",
       "      <td>1</td>\n",
       "      <td>2012-08-14</td>\n",
       "      <td>Bon d'entrée</td>\n",
       "      <td>produit insecticide</td>\n",
       "      <td>0305</td>\n",
       "      <td>CHA110501</td>\n",
       "      <td>0</td>\n",
       "      <td>65.0</td>\n",
       "      <td>1650.0</td>\n",
       "      <td>9999.0</td>\n",
       "      <td>0.0</td>\n",
       "      <td>2.163109e+08</td>\n",
       "      <td>2.163109e+08</td>\n",
       "      <td>0.0</td>\n",
       "      <td>2012</td>\n",
       "      <td>2.163109e+08</td>\n",
       "    </tr>\n",
       "    <tr>\n",
       "      <th>1</th>\n",
       "      <td>1</td>\n",
       "      <td>2012-08-14</td>\n",
       "      <td>Bon d'entrée</td>\n",
       "      <td>matériel bovin</td>\n",
       "      <td>0305</td>\n",
       "      <td>10.274.1.09</td>\n",
       "      <td>1</td>\n",
       "      <td>120.0</td>\n",
       "      <td>550.0</td>\n",
       "      <td>9999.0</td>\n",
       "      <td>0.0</td>\n",
       "      <td>2.163109e+08</td>\n",
       "      <td>2.163109e+08</td>\n",
       "      <td>0.0</td>\n",
       "      <td>2012</td>\n",
       "      <td>2.163109e+08</td>\n",
       "    </tr>\n",
       "    <tr>\n",
       "      <th>2</th>\n",
       "      <td>1</td>\n",
       "      <td>2012-08-14</td>\n",
       "      <td>Bon d'entrée</td>\n",
       "      <td>produit insecticide</td>\n",
       "      <td>0305</td>\n",
       "      <td>L110703</td>\n",
       "      <td>2</td>\n",
       "      <td>137.0</td>\n",
       "      <td>1034.0</td>\n",
       "      <td>9999.0</td>\n",
       "      <td>0.0</td>\n",
       "      <td>2.163109e+08</td>\n",
       "      <td>2.163109e+08</td>\n",
       "      <td>0.0</td>\n",
       "      <td>2012</td>\n",
       "      <td>2.163109e+08</td>\n",
       "    </tr>\n",
       "    <tr>\n",
       "      <th>3</th>\n",
       "      <td>1</td>\n",
       "      <td>2012-08-14</td>\n",
       "      <td>Bon d'entrée</td>\n",
       "      <td>produit insecticide</td>\n",
       "      <td>2F18272093</td>\n",
       "      <td>2F18272093</td>\n",
       "      <td>3</td>\n",
       "      <td>2000.0</td>\n",
       "      <td>2800.0</td>\n",
       "      <td>9999.0</td>\n",
       "      <td>0.0</td>\n",
       "      <td>2.163109e+08</td>\n",
       "      <td>2.163109e+08</td>\n",
       "      <td>0.0</td>\n",
       "      <td>2012</td>\n",
       "      <td>2.163109e+08</td>\n",
       "    </tr>\n",
       "    <tr>\n",
       "      <th>4</th>\n",
       "      <td>1</td>\n",
       "      <td>2012-08-14</td>\n",
       "      <td>Bon d'entrée</td>\n",
       "      <td>produit insecticide</td>\n",
       "      <td>0305</td>\n",
       "      <td>20101102</td>\n",
       "      <td>4</td>\n",
       "      <td>3500.0</td>\n",
       "      <td>1550.0</td>\n",
       "      <td>9999.0</td>\n",
       "      <td>0.0</td>\n",
       "      <td>2.163109e+08</td>\n",
       "      <td>2.163109e+08</td>\n",
       "      <td>0.0</td>\n",
       "      <td>2012</td>\n",
       "      <td>2.163109e+08</td>\n",
       "    </tr>\n",
       "  </tbody>\n",
       "</table>\n",
       "</div>"
      ],
      "text/plain": [
       "   CleEffet       Date     TypeEffet       FamilleArticle Reference Produit  \\\n",
       "0         1 2012-08-14  Bon d'entrée  produit insecticide              0305   \n",
       "1         1 2012-08-14  Bon d'entrée       matériel bovin              0305   \n",
       "2         1 2012-08-14  Bon d'entrée  produit insecticide              0305   \n",
       "3         1 2012-08-14  Bon d'entrée  produit insecticide        2F18272093   \n",
       "4         1 2012-08-14  Bon d'entrée  produit insecticide              0305   \n",
       "\n",
       "          NLot  Produit_Designation  Quantite  PrixAchat  PrixUnitaireTTC  \\\n",
       "0    CHA110501                    0      65.0     1650.0           9999.0   \n",
       "1  10.274.1.09                    1     120.0      550.0           9999.0   \n",
       "2      L110703                    2     137.0     1034.0           9999.0   \n",
       "3   2F18272093                    3    2000.0     2800.0           9999.0   \n",
       "4     20101102                    4    3500.0     1550.0           9999.0   \n",
       "\n",
       "   DetailEffet_Marge   Effet_Marge     MontantHT  Payement  Year         Sales  \n",
       "0                0.0  2.163109e+08  2.163109e+08       0.0  2012  2.163109e+08  \n",
       "1                0.0  2.163109e+08  2.163109e+08       0.0  2012  2.163109e+08  \n",
       "2                0.0  2.163109e+08  2.163109e+08       0.0  2012  2.163109e+08  \n",
       "3                0.0  2.163109e+08  2.163109e+08       0.0  2012  2.163109e+08  \n",
       "4                0.0  2.163109e+08  2.163109e+08       0.0  2012  2.163109e+08  "
      ]
     },
     "execution_count": 15,
     "metadata": {},
     "output_type": "execute_result"
    }
   ],
   "source": [
    "df.head()\n"
   ]
  },
  {
   "cell_type": "markdown",
   "id": "8b74d890",
   "metadata": {},
   "source": [
    "### 3. NOW WE TREAT THE COLUMN Payement"
   ]
  },
  {
   "cell_type": "code",
   "execution_count": 26,
   "id": "e7152d06",
   "metadata": {},
   "outputs": [
    {
     "data": {
      "text/plain": [
       "count    2.610010e+05\n",
       "mean     1.519190e+05\n",
       "std      2.411979e+05\n",
       "min      0.000000e+00\n",
       "25%      0.000000e+00\n",
       "50%      2.199904e+04\n",
       "75%      2.498900e+05\n",
       "max      1.457000e+07\n",
       "Name: Payement, dtype: float64"
      ]
     },
     "execution_count": 26,
     "metadata": {},
     "output_type": "execute_result"
    }
   ],
   "source": [
    "df['Payement'].describe()\n",
    "\n"
   ]
  },
  {
   "cell_type": "code",
   "execution_count": 27,
   "id": "45b6b11e",
   "metadata": {
    "scrolled": true
   },
   "outputs": [
    {
     "data": {
      "text/plain": [
       "Payement\n",
       "0.00         98369\n",
       "100000.00      850\n",
       "600.00         455\n",
       "50000.00       417\n",
       "2000.00        403\n",
       "             ...  \n",
       "151866.00        1\n",
       "8499.75          1\n",
       "345150.00        1\n",
       "107520.00        1\n",
       "2049.96          1\n",
       "Name: count, Length: 7040, dtype: int64"
      ]
     },
     "execution_count": 27,
     "metadata": {},
     "output_type": "execute_result"
    }
   ],
   "source": [
    "df['Payement'].value_counts()\n"
   ]
  },
  {
   "cell_type": "markdown",
   "id": "81da3d2d",
   "metadata": {},
   "source": [
    " 0.00 appears 98,369 times \n",
    "This suggests many transactions might be unpaid or recorded without payments."
   ]
  },
  {
   "cell_type": "code",
   "execution_count": 28,
   "id": "409669fc",
   "metadata": {},
   "outputs": [
    {
     "data": {
      "text/plain": [
       "0"
      ]
     },
     "execution_count": 28,
     "metadata": {},
     "output_type": "execute_result"
    }
   ],
   "source": [
    "df['Payement'].isna().sum()"
   ]
  },
  {
   "cell_type": "code",
   "execution_count": 32,
   "id": "53778e4a",
   "metadata": {
    "scrolled": true
   },
   "outputs": [
    {
     "name": "stderr",
     "output_type": "stream",
     "text": [
      "C:\\ProgramData\\anaconda3\\Lib\\site-packages\\seaborn\\_oldcore.py:1119: FutureWarning: use_inf_as_na option is deprecated and will be removed in a future version. Convert inf values to NaN before operating instead.\n",
      "  with pd.option_context('mode.use_inf_as_na', True):\n"
     ]
    },
    {
     "data": {
      "image/png": "[encoded data removed]",
      "text/plain": [
       "<Figure size 640x480 with 1 Axes>"
      ]
     },
     "metadata": {},
     "output_type": "display_data"
    }
   ],
   "source": [
    "\n",
    "sns.histplot(df['Payement'], bins=50, kde=True)\n",
    "plt.title(\"Distribution of Payement\")\n",
    "plt.xlabel(\"Payement Value\")\n",
    "plt.ylabel(\"Frequency\")\n",
    "plt.xlim(0, df['Payement'].quantile(0.99))  # Ignore extreme outliers\n",
    "plt.show()"
   ]
  },
  {
   "cell_type": "markdown",
   "id": "373befac",
   "metadata": {},
   "source": [
    "We Compare Payement with Sale\n"
   ]
  },
  {
   "cell_type": "code",
   "execution_count": 35,
   "id": "dd67386a",
   "metadata": {},
   "outputs": [
    {
     "ename": "KeyError",
     "evalue": "'Sale'",
     "output_type": "error",
     "traceback": [
      "\u001b[1;31m---------------------------------------------------------------------------\u001b[0m",
      "\u001b[1;31mKeyError\u001b[0m                                  Traceback (most recent call last)",
      "File \u001b[1;32mC:\\ProgramData\\anaconda3\\Lib\\site-packages\\pandas\\core\\indexes\\base.py:3805\u001b[0m, in \u001b[0;36mIndex.get_loc\u001b[1;34m(self, key)\u001b[0m\n\u001b[0;32m   3804\u001b[0m \u001b[38;5;28;01mtry\u001b[39;00m:\n\u001b[1;32m-> 3805\u001b[0m     \u001b[38;5;28;01mreturn\u001b[39;00m \u001b[38;5;28mself\u001b[39m\u001b[38;5;241m.\u001b[39m_engine\u001b[38;5;241m.\u001b[39mget_loc(casted_key)\n\u001b[0;32m   3806\u001b[0m \u001b[38;5;28;01mexcept\u001b[39;00m \u001b[38;5;167;01mKeyError\u001b[39;00m \u001b[38;5;28;01mas\u001b[39;00m err:\n",
      "File \u001b[1;32mindex.pyx:167\u001b[0m, in \u001b[0;36mpandas._libs.index.IndexEngine.get_loc\u001b[1;34m()\u001b[0m\n",
      "File \u001b[1;32mindex.pyx:196\u001b[0m, in \u001b[0;36mpandas._libs.index.IndexEngine.get_loc\u001b[1;34m()\u001b[0m\n",
      "File \u001b[1;32mpandas\\\\_libs\\\\hashtable_class_helper.pxi:7081\u001b[0m, in \u001b[0;36mpandas._libs.hashtable.PyObjectHashTable.get_item\u001b[1;34m()\u001b[0m\n",
      "File \u001b[1;32mpandas\\\\_libs\\\\hashtable_class_helper.pxi:7089\u001b[0m, in \u001b[0;36mpandas._libs.hashtable.PyObjectHashTable.get_item\u001b[1;34m()\u001b[0m\n",
      "\u001b[1;31mKeyError\u001b[0m: 'Sale'",
      "\nThe above exception was the direct cause of the following exception:\n",
      "\u001b[1;31mKeyError\u001b[0m                                  Traceback (most recent call last)",
      "Cell \u001b[1;32mIn[35], line 1\u001b[0m\n\u001b[1;32m----> 1\u001b[0m df[\u001b[38;5;124m'\u001b[39m\u001b[38;5;124mPayment_Ratio\u001b[39m\u001b[38;5;124m'\u001b[39m] \u001b[38;5;241m=\u001b[39m df[\u001b[38;5;124m'\u001b[39m\u001b[38;5;124mPayement\u001b[39m\u001b[38;5;124m'\u001b[39m] \u001b[38;5;241m/\u001b[39m df[\u001b[38;5;124m'\u001b[39m\u001b[38;5;124mSale\u001b[39m\u001b[38;5;124m'\u001b[39m]\n\u001b[0;32m      2\u001b[0m sns\u001b[38;5;241m.\u001b[39mhistplot(df[\u001b[38;5;124m'\u001b[39m\u001b[38;5;124mPayment_Ratio\u001b[39m\u001b[38;5;124m'\u001b[39m], bins\u001b[38;5;241m=\u001b[39m\u001b[38;5;241m50\u001b[39m, kde\u001b[38;5;241m=\u001b[39m\u001b[38;5;28;01mTrue\u001b[39;00m)\n\u001b[0;32m      3\u001b[0m plt\u001b[38;5;241m.\u001b[39mtitle(\u001b[38;5;124m\"\u001b[39m\u001b[38;5;124mDistribution of Payment Ratio\u001b[39m\u001b[38;5;124m\"\u001b[39m)\n",
      "File \u001b[1;32mC:\\ProgramData\\anaconda3\\Lib\\site-packages\\pandas\\core\\frame.py:4102\u001b[0m, in \u001b[0;36mDataFrame.__getitem__\u001b[1;34m(self, key)\u001b[0m\n\u001b[0;32m   4100\u001b[0m \u001b[38;5;28;01mif\u001b[39;00m \u001b[38;5;28mself\u001b[39m\u001b[38;5;241m.\u001b[39mcolumns\u001b[38;5;241m.\u001b[39mnlevels \u001b[38;5;241m>\u001b[39m \u001b[38;5;241m1\u001b[39m:\n\u001b[0;32m   4101\u001b[0m     \u001b[38;5;28;01mreturn\u001b[39;00m \u001b[38;5;28mself\u001b[39m\u001b[38;5;241m.\u001b[39m_getitem_multilevel(key)\n\u001b[1;32m-> 4102\u001b[0m indexer \u001b[38;5;241m=\u001b[39m \u001b[38;5;28mself\u001b[39m\u001b[38;5;241m.\u001b[39mcolumns\u001b[38;5;241m.\u001b[39mget_loc(key)\n\u001b[0;32m   4103\u001b[0m \u001b[38;5;28;01mif\u001b[39;00m is_integer(indexer):\n\u001b[0;32m   4104\u001b[0m     indexer \u001b[38;5;241m=\u001b[39m [indexer]\n",
      "File \u001b[1;32mC:\\ProgramData\\anaconda3\\Lib\\site-packages\\pandas\\core\\indexes\\base.py:3812\u001b[0m, in \u001b[0;36mIndex.get_loc\u001b[1;34m(self, key)\u001b[0m\n\u001b[0;32m   3807\u001b[0m     \u001b[38;5;28;01mif\u001b[39;00m \u001b[38;5;28misinstance\u001b[39m(casted_key, \u001b[38;5;28mslice\u001b[39m) \u001b[38;5;129;01mor\u001b[39;00m (\n\u001b[0;32m   3808\u001b[0m         \u001b[38;5;28misinstance\u001b[39m(casted_key, abc\u001b[38;5;241m.\u001b[39mIterable)\n\u001b[0;32m   3809\u001b[0m         \u001b[38;5;129;01mand\u001b[39;00m \u001b[38;5;28many\u001b[39m(\u001b[38;5;28misinstance\u001b[39m(x, \u001b[38;5;28mslice\u001b[39m) \u001b[38;5;28;01mfor\u001b[39;00m x \u001b[38;5;129;01min\u001b[39;00m casted_key)\n\u001b[0;32m   3810\u001b[0m     ):\n\u001b[0;32m   3811\u001b[0m         \u001b[38;5;28;01mraise\u001b[39;00m InvalidIndexError(key)\n\u001b[1;32m-> 3812\u001b[0m     \u001b[38;5;28;01mraise\u001b[39;00m \u001b[38;5;167;01mKeyError\u001b[39;00m(key) \u001b[38;5;28;01mfrom\u001b[39;00m \u001b[38;5;21;01merr\u001b[39;00m\n\u001b[0;32m   3813\u001b[0m \u001b[38;5;28;01mexcept\u001b[39;00m \u001b[38;5;167;01mTypeError\u001b[39;00m:\n\u001b[0;32m   3814\u001b[0m     \u001b[38;5;66;03m# If we have a listlike key, _check_indexing_error will raise\u001b[39;00m\n\u001b[0;32m   3815\u001b[0m     \u001b[38;5;66;03m#  InvalidIndexError. Otherwise we fall through and re-raise\u001b[39;00m\n\u001b[0;32m   3816\u001b[0m     \u001b[38;5;66;03m#  the TypeError.\u001b[39;00m\n\u001b[0;32m   3817\u001b[0m     \u001b[38;5;28mself\u001b[39m\u001b[38;5;241m.\u001b[39m_check_indexing_error(key)\n",
      "\u001b[1;31mKeyError\u001b[0m: 'Sale'"
     ]
    }
   ],
   "source": [
    "df['Payment_Ratio'] = df['Payement'] / df['Sale']\n",
    "sns.histplot(df['Payment_Ratio'], bins=50, kde=True)\n",
    "plt.title(\"Distribution of Payment Ratio\")\n",
    "plt.xlabel(\"Payement / Sale\")\n",
    "plt.ylabel(\"Frequency\")\n",
    "plt.show()\n"
   ]
  },
  {
   "cell_type": "markdown",
   "id": "8a08025c",
   "metadata": {},
   "source": [
    "### 4. NOW WE TREAT THE COLUMN PrixAchat"
   ]
  },
  {
   "cell_type": "markdown",
   "id": "df898ac8",
   "metadata": {},
   "source": [
    "Goal:\n",
    "Focus on PrixAchat for Bon de livraison (delivery receipt) transactions.\n",
    "Clean the data, handle missing or inconsistent values, and calculate the profit rate."
   ]
  },
  {
   "cell_type": "markdown",
   "id": "d774b133",
   "metadata": {},
   "source": [
    "Filter the dataset for \"Bon de livraison\" transactions"
   ]
  },
  {
   "cell_type": "code",
   "execution_count": 16,
   "id": "7a1dfde6",
   "metadata": {},
   "outputs": [],
   "source": [
    "# Filter the data for \"Bon de livraison\" transaction type\n",
    "bon_de_livraison_only = df[df['TypeEffet'] == 'Bon de livraison']\n"
   ]
  },
  {
   "cell_type": "markdown",
   "id": "6b7bb1a1",
   "metadata": {},
   "source": [
    "Check for missing values in PrixAchat"
   ]
  },
  {
   "cell_type": "code",
   "execution_count": 17,
   "id": "359ecb5c",
   "metadata": {},
   "outputs": [
    {
     "name": "stdout",
     "output_type": "stream",
     "text": [
      "Missing PrixAchat values: 0\n"
     ]
    }
   ],
   "source": [
    "# Check for missing values in 'PrixAchat'\n",
    "missing_values = bon_de_livraison_only['PrixAchat'].isnull().sum()\n",
    "print(f\"Missing PrixAchat values: {missing_values}\")\n"
   ]
  },
  {
   "cell_type": "markdown",
   "id": "a316c981",
   "metadata": {},
   "source": [
    "Identify products with price variations over time"
   ]
  },
  {
   "cell_type": "code",
   "execution_count": 18,
   "id": "62ae79eb",
   "metadata": {
    "scrolled": true
   },
   "outputs": [
    {
     "name": "stdout",
     "output_type": "stream",
     "text": [
      "Products with price variations: Produit_Designation\n",
      "0       4\n",
      "2       6\n",
      "5       2\n",
      "6       3\n",
      "7       3\n",
      "       ..\n",
      "7307    2\n",
      "7354    2\n",
      "7374    2\n",
      "7377    2\n",
      "7425    2\n",
      "Name: PrixAchat, Length: 1726, dtype: int64\n"
     ]
    }
   ],
   "source": [
    "# Group by product and check for price variations over time\n",
    "price_variation = bon_de_livraison_only.groupby('Produit_Designation')['PrixAchat'].nunique()\n",
    "\n",
    "# Filter products that have more than 1 unique price\n",
    "products_with_variations = price_variation[price_variation > 1]\n",
    "print(f\"Products with price variations: {products_with_variations}\")\n"
   ]
  },
  {
   "cell_type": "markdown",
   "id": "0c2a08f0",
   "metadata": {},
   "source": [
    "Filter the dataset for products with variations"
   ]
  },
  {
   "cell_type": "code",
   "execution_count": 19,
   "id": "76e40239",
   "metadata": {},
   "outputs": [],
   "source": [
    "# Filter the dataset for products with price variations\n",
    "bon_de_livraison_with_variations = bon_de_livraison_only[bon_de_livraison_only['Produit_Designation'].isin(products_with_variations.index)]\n"
   ]
  },
  {
   "cell_type": "markdown",
   "id": "4c835eab",
   "metadata": {},
   "source": [
    "Analyze the price trend over time"
   ]
  },
  {
   "cell_type": "code",
   "execution_count": 20,
   "id": "d70a834e",
   "metadata": {
    "scrolled": false
   },
   "outputs": [
    {
     "data": {
      "text/html": [
       "<div>\n",
       "<style scoped>\n",
       "    .dataframe tbody tr th:only-of-type {\n",
       "        vertical-align: middle;\n",
       "    }\n",
       "\n",
       "    .dataframe tbody tr th {\n",
       "        vertical-align: top;\n",
       "    }\n",
       "\n",
       "    .dataframe thead th {\n",
       "        text-align: right;\n",
       "    }\n",
       "</style>\n",
       "<table border=\"1\" class=\"dataframe\">\n",
       "  <thead>\n",
       "    <tr style=\"text-align: right;\">\n",
       "      <th></th>\n",
       "      <th>CleEffet</th>\n",
       "      <th>Date</th>\n",
       "      <th>TypeEffet</th>\n",
       "      <th>FamilleArticle</th>\n",
       "      <th>Reference Produit</th>\n",
       "      <th>NLot</th>\n",
       "      <th>Produit_Designation</th>\n",
       "      <th>Quantite</th>\n",
       "      <th>PrixAchat</th>\n",
       "      <th>PrixUnitaireTTC</th>\n",
       "      <th>DetailEffet_Marge</th>\n",
       "      <th>Effet_Marge</th>\n",
       "      <th>MontantHT</th>\n",
       "      <th>Payement</th>\n",
       "      <th>Year</th>\n",
       "      <th>Sales</th>\n",
       "    </tr>\n",
       "  </thead>\n",
       "  <tbody>\n",
       "    <tr>\n",
       "      <th>3025</th>\n",
       "      <td>1184</td>\n",
       "      <td>2012-09-23</td>\n",
       "      <td>Bon de livraison</td>\n",
       "      <td>produit insecticide</td>\n",
       "      <td>0305</td>\n",
       "      <td>CHA110501</td>\n",
       "      <td>0</td>\n",
       "      <td>2.0</td>\n",
       "      <td>1650.0</td>\n",
       "      <td>1950.0</td>\n",
       "      <td>-16697.82</td>\n",
       "      <td>-56085.82</td>\n",
       "      <td>3910.18</td>\n",
       "      <td>3910.18</td>\n",
       "      <td>2012</td>\n",
       "      <td>4510.0</td>\n",
       "    </tr>\n",
       "    <tr>\n",
       "      <th>13463</th>\n",
       "      <td>9360</td>\n",
       "      <td>2013-03-30</td>\n",
       "      <td>Bon de livraison</td>\n",
       "      <td>produit insecticide</td>\n",
       "      <td>0305</td>\n",
       "      <td>CHA110501</td>\n",
       "      <td>0</td>\n",
       "      <td>1.0</td>\n",
       "      <td>1650.0</td>\n",
       "      <td>1800.0</td>\n",
       "      <td>-4365.28</td>\n",
       "      <td>-4075.28</td>\n",
       "      <td>5330.00</td>\n",
       "      <td>0.00</td>\n",
       "      <td>2013</td>\n",
       "      <td>5330.0</td>\n",
       "    </tr>\n",
       "    <tr>\n",
       "      <th>17356</th>\n",
       "      <td>11902</td>\n",
       "      <td>2013-05-13</td>\n",
       "      <td>Bon de livraison</td>\n",
       "      <td>produit insecticide</td>\n",
       "      <td>0305</td>\n",
       "      <td>CHA110501</td>\n",
       "      <td>0</td>\n",
       "      <td>15.0</td>\n",
       "      <td>1650.0</td>\n",
       "      <td>1950.0</td>\n",
       "      <td>-63229.20</td>\n",
       "      <td>-59045.80</td>\n",
       "      <td>39250.00</td>\n",
       "      <td>0.00</td>\n",
       "      <td>2013</td>\n",
       "      <td>39250.0</td>\n",
       "    </tr>\n",
       "    <tr>\n",
       "      <th>17841</th>\n",
       "      <td>12206</td>\n",
       "      <td>2013-05-18</td>\n",
       "      <td>Bon de livraison</td>\n",
       "      <td>produit insecticide</td>\n",
       "      <td>0305</td>\n",
       "      <td>CHA110501</td>\n",
       "      <td>0</td>\n",
       "      <td>1.0</td>\n",
       "      <td>1650.0</td>\n",
       "      <td>1950.0</td>\n",
       "      <td>-4215.28</td>\n",
       "      <td>-4215.28</td>\n",
       "      <td>1950.00</td>\n",
       "      <td>600.00</td>\n",
       "      <td>2013</td>\n",
       "      <td>1950.0</td>\n",
       "    </tr>\n",
       "    <tr>\n",
       "      <th>19517</th>\n",
       "      <td>13199</td>\n",
       "      <td>2013-06-02</td>\n",
       "      <td>Bon de livraison</td>\n",
       "      <td>produit insecticide</td>\n",
       "      <td>0305</td>\n",
       "      <td>CHA110501</td>\n",
       "      <td>0</td>\n",
       "      <td>1.0</td>\n",
       "      <td>1650.0</td>\n",
       "      <td>1900.0</td>\n",
       "      <td>400.00</td>\n",
       "      <td>400.00</td>\n",
       "      <td>1900.00</td>\n",
       "      <td>1900.00</td>\n",
       "      <td>2013</td>\n",
       "      <td>1900.0</td>\n",
       "    </tr>\n",
       "  </tbody>\n",
       "</table>\n",
       "</div>"
      ],
      "text/plain": [
       "       CleEffet       Date         TypeEffet       FamilleArticle  \\\n",
       "3025       1184 2012-09-23  Bon de livraison  produit insecticide   \n",
       "13463      9360 2013-03-30  Bon de livraison  produit insecticide   \n",
       "17356     11902 2013-05-13  Bon de livraison  produit insecticide   \n",
       "17841     12206 2013-05-18  Bon de livraison  produit insecticide   \n",
       "19517     13199 2013-06-02  Bon de livraison  produit insecticide   \n",
       "\n",
       "      Reference Produit       NLot  Produit_Designation  Quantite  PrixAchat  \\\n",
       "3025               0305  CHA110501                    0       2.0     1650.0   \n",
       "13463              0305  CHA110501                    0       1.0     1650.0   \n",
       "17356              0305  CHA110501                    0      15.0     1650.0   \n",
       "17841              0305  CHA110501                    0       1.0     1650.0   \n",
       "19517              0305  CHA110501                    0       1.0     1650.0   \n",
       "\n",
       "       PrixUnitaireTTC  DetailEffet_Marge  Effet_Marge  MontantHT  Payement  \\\n",
       "3025            1950.0          -16697.82    -56085.82    3910.18   3910.18   \n",
       "13463           1800.0           -4365.28     -4075.28    5330.00      0.00   \n",
       "17356           1950.0          -63229.20    -59045.80   39250.00      0.00   \n",
       "17841           1950.0           -4215.28     -4215.28    1950.00    600.00   \n",
       "19517           1900.0             400.00       400.00    1900.00   1900.00   \n",
       "\n",
       "       Year    Sales  \n",
       "3025   2012   4510.0  \n",
       "13463  2013   5330.0  \n",
       "17356  2013  39250.0  \n",
       "17841  2013   1950.0  \n",
       "19517  2013   1900.0  "
      ]
     },
     "execution_count": 20,
     "metadata": {},
     "output_type": "execute_result"
    }
   ],
   "source": [
    "# Sort by product and date to observe the price trend\n",
    "bon_de_livraison_with_variations = bon_de_livraison_with_variations.sort_values(by=['Produit_Designation', 'Date'])\n",
    "\n",
    "# View the first few rows of the dataset with price variations\n",
    "bon_de_livraison_with_variations.head()\n"
   ]
  },
  {
   "cell_type": "markdown",
   "id": "6bb75c7f",
   "metadata": {},
   "source": [
    "Calculate the rate (profit margin) used to set the selling price"
   ]
  },
  {
   "cell_type": "code",
   "execution_count": 21,
   "id": "62deca22",
   "metadata": {
    "scrolled": true
   },
   "outputs": [
    {
     "name": "stderr",
     "output_type": "stream",
     "text": [
      "C:\\Users\\thinkbook\\AppData\\Local\\Temp\\ipykernel_18868\\261879677.py:2: SettingWithCopyWarning: \n",
      "A value is trying to be set on a copy of a slice from a DataFrame.\n",
      "Try using .loc[row_indexer,col_indexer] = value instead\n",
      "\n",
      "See the caveats in the documentation: https://pandas.pydata.org/pandas-docs/stable/user_guide/indexing.html#returning-a-view-versus-a-copy\n",
      "  bon_de_livraison_only.loc[:, 'Rate'] = (bon_de_livraison_only['PrixUnitaireTTC'] / bon_de_livraison_only['PrixAchat']) - 1\n"
     ]
    },
    {
     "data": {
      "text/html": [
       "<div>\n",
       "<style scoped>\n",
       "    .dataframe tbody tr th:only-of-type {\n",
       "        vertical-align: middle;\n",
       "    }\n",
       "\n",
       "    .dataframe tbody tr th {\n",
       "        vertical-align: top;\n",
       "    }\n",
       "\n",
       "    .dataframe thead th {\n",
       "        text-align: right;\n",
       "    }\n",
       "</style>\n",
       "<table border=\"1\" class=\"dataframe\">\n",
       "  <thead>\n",
       "    <tr style=\"text-align: right;\">\n",
       "      <th></th>\n",
       "      <th>CleEffet</th>\n",
       "      <th>Date</th>\n",
       "      <th>TypeEffet</th>\n",
       "      <th>FamilleArticle</th>\n",
       "      <th>Reference Produit</th>\n",
       "      <th>NLot</th>\n",
       "      <th>Produit_Designation</th>\n",
       "      <th>Quantite</th>\n",
       "      <th>PrixAchat</th>\n",
       "      <th>PrixUnitaireTTC</th>\n",
       "      <th>DetailEffet_Marge</th>\n",
       "      <th>Effet_Marge</th>\n",
       "      <th>MontantHT</th>\n",
       "      <th>Payement</th>\n",
       "      <th>Year</th>\n",
       "      <th>Sales</th>\n",
       "      <th>Rate</th>\n",
       "    </tr>\n",
       "  </thead>\n",
       "  <tbody>\n",
       "    <tr>\n",
       "      <th>623</th>\n",
       "      <td>340</td>\n",
       "      <td>2012-09-03</td>\n",
       "      <td>Bon de livraison</td>\n",
       "      <td>detail</td>\n",
       "      <td>DET</td>\n",
       "      <td>no lot</td>\n",
       "      <td>259</td>\n",
       "      <td>1.0</td>\n",
       "      <td>126.0</td>\n",
       "      <td>300.0</td>\n",
       "      <td>299.00</td>\n",
       "      <td>299.0</td>\n",
       "      <td>300.0</td>\n",
       "      <td>0.0</td>\n",
       "      <td>2012</td>\n",
       "      <td>300.0</td>\n",
       "      <td>1.380952</td>\n",
       "    </tr>\n",
       "    <tr>\n",
       "      <th>624</th>\n",
       "      <td>341</td>\n",
       "      <td>2012-09-03</td>\n",
       "      <td>Bon de livraison</td>\n",
       "      <td>detail</td>\n",
       "      <td>DET</td>\n",
       "      <td>no lot</td>\n",
       "      <td>259</td>\n",
       "      <td>150.0</td>\n",
       "      <td>126.0</td>\n",
       "      <td>2266.5</td>\n",
       "      <td>0.00</td>\n",
       "      <td>0.0</td>\n",
       "      <td>150.0</td>\n",
       "      <td>0.0</td>\n",
       "      <td>2012</td>\n",
       "      <td>339975.0</td>\n",
       "      <td>16.988095</td>\n",
       "    </tr>\n",
       "    <tr>\n",
       "      <th>2166</th>\n",
       "      <td>540</td>\n",
       "      <td>2012-09-08</td>\n",
       "      <td>Bon de livraison</td>\n",
       "      <td>matériel tronceneuses</td>\n",
       "      <td>30000</td>\n",
       "      <td>no lot</td>\n",
       "      <td>465</td>\n",
       "      <td>1.0</td>\n",
       "      <td>180.0</td>\n",
       "      <td>250.0</td>\n",
       "      <td>249.00</td>\n",
       "      <td>249.0</td>\n",
       "      <td>250.0</td>\n",
       "      <td>250.0</td>\n",
       "      <td>2012</td>\n",
       "      <td>250.0</td>\n",
       "      <td>0.388889</td>\n",
       "    </tr>\n",
       "    <tr>\n",
       "      <th>2172</th>\n",
       "      <td>546</td>\n",
       "      <td>2012-09-08</td>\n",
       "      <td>Bon de livraison</td>\n",
       "      <td>detail</td>\n",
       "      <td>DET</td>\n",
       "      <td>no lot</td>\n",
       "      <td>259</td>\n",
       "      <td>6.0</td>\n",
       "      <td>126.0</td>\n",
       "      <td>250.0</td>\n",
       "      <td>1494.00</td>\n",
       "      <td>1494.0</td>\n",
       "      <td>1500.0</td>\n",
       "      <td>1500.0</td>\n",
       "      <td>2012</td>\n",
       "      <td>1500.0</td>\n",
       "      <td>0.984127</td>\n",
       "    </tr>\n",
       "    <tr>\n",
       "      <th>2173</th>\n",
       "      <td>547</td>\n",
       "      <td>2012-09-08</td>\n",
       "      <td>Bon de livraison</td>\n",
       "      <td>produit insecticide</td>\n",
       "      <td>0305</td>\n",
       "      <td>111008</td>\n",
       "      <td>27</td>\n",
       "      <td>1.0</td>\n",
       "      <td>1200.0</td>\n",
       "      <td>500.0</td>\n",
       "      <td>-9515.13</td>\n",
       "      <td>-18498.0</td>\n",
       "      <td>1550.0</td>\n",
       "      <td>1500.0</td>\n",
       "      <td>2012</td>\n",
       "      <td>1550.0</td>\n",
       "      <td>-0.583333</td>\n",
       "    </tr>\n",
       "  </tbody>\n",
       "</table>\n",
       "</div>"
      ],
      "text/plain": [
       "      CleEffet       Date         TypeEffet         FamilleArticle  \\\n",
       "623        340 2012-09-03  Bon de livraison                 detail   \n",
       "624        341 2012-09-03  Bon de livraison                 detail   \n",
       "2166       540 2012-09-08  Bon de livraison  matériel tronceneuses   \n",
       "2172       546 2012-09-08  Bon de livraison                 detail   \n",
       "2173       547 2012-09-08  Bon de livraison    produit insecticide   \n",
       "\n",
       "     Reference Produit    NLot  Produit_Designation  Quantite  PrixAchat  \\\n",
       "623                DET  no lot                  259       1.0      126.0   \n",
       "624                DET  no lot                  259     150.0      126.0   \n",
       "2166             30000  no lot                  465       1.0      180.0   \n",
       "2172               DET  no lot                  259       6.0      126.0   \n",
       "2173              0305  111008                   27       1.0     1200.0   \n",
       "\n",
       "      PrixUnitaireTTC  DetailEffet_Marge  Effet_Marge  MontantHT  Payement  \\\n",
       "623             300.0             299.00        299.0      300.0       0.0   \n",
       "624            2266.5               0.00          0.0      150.0       0.0   \n",
       "2166            250.0             249.00        249.0      250.0     250.0   \n",
       "2172            250.0            1494.00       1494.0     1500.0    1500.0   \n",
       "2173            500.0           -9515.13     -18498.0     1550.0    1500.0   \n",
       "\n",
       "      Year     Sales       Rate  \n",
       "623   2012     300.0   1.380952  \n",
       "624   2012  339975.0  16.988095  \n",
       "2166  2012     250.0   0.388889  \n",
       "2172  2012    1500.0   0.984127  \n",
       "2173  2012    1550.0  -0.583333  "
      ]
     },
     "execution_count": 21,
     "metadata": {},
     "output_type": "execute_result"
    }
   ],
   "source": [
    "# Use .loc to safely modify the 'Rate' column\n",
    "bon_de_livraison_only.loc[:, 'Rate'] = (bon_de_livraison_only['PrixUnitaireTTC'] / bon_de_livraison_only['PrixAchat']) - 1\n",
    "# Display the first few rows of the DataFrame to check the changes\n",
    "bon_de_livraison_only.head()"
   ]
  },
  {
   "cell_type": "code",
   "execution_count": 22,
   "id": "c0e244bf",
   "metadata": {
    "scrolled": false
   },
   "outputs": [
    {
     "data": {
      "text/html": [
       "<div>\n",
       "<style scoped>\n",
       "    .dataframe tbody tr th:only-of-type {\n",
       "        vertical-align: middle;\n",
       "    }\n",
       "\n",
       "    .dataframe tbody tr th {\n",
       "        vertical-align: top;\n",
       "    }\n",
       "\n",
       "    .dataframe thead th {\n",
       "        text-align: right;\n",
       "    }\n",
       "</style>\n",
       "<table border=\"1\" class=\"dataframe\">\n",
       "  <thead>\n",
       "    <tr style=\"text-align: right;\">\n",
       "      <th></th>\n",
       "      <th>Produit_Designation</th>\n",
       "      <th>Date</th>\n",
       "      <th>PrixAchat</th>\n",
       "      <th>PrixUnitaireTTC</th>\n",
       "      <th>Rate</th>\n",
       "    </tr>\n",
       "  </thead>\n",
       "  <tbody>\n",
       "    <tr>\n",
       "      <th>623</th>\n",
       "      <td>259</td>\n",
       "      <td>2012-09-03</td>\n",
       "      <td>126.0</td>\n",
       "      <td>300.0</td>\n",
       "      <td>1.380952</td>\n",
       "    </tr>\n",
       "    <tr>\n",
       "      <th>624</th>\n",
       "      <td>259</td>\n",
       "      <td>2012-09-03</td>\n",
       "      <td>126.0</td>\n",
       "      <td>2266.5</td>\n",
       "      <td>16.988095</td>\n",
       "    </tr>\n",
       "    <tr>\n",
       "      <th>2173</th>\n",
       "      <td>27</td>\n",
       "      <td>2012-09-08</td>\n",
       "      <td>1200.0</td>\n",
       "      <td>500.0</td>\n",
       "      <td>-0.583333</td>\n",
       "    </tr>\n",
       "    <tr>\n",
       "      <th>2175</th>\n",
       "      <td>259</td>\n",
       "      <td>2012-09-08</td>\n",
       "      <td>126.0</td>\n",
       "      <td>5600.0</td>\n",
       "      <td>43.444444</td>\n",
       "    </tr>\n",
       "    <tr>\n",
       "      <th>2176</th>\n",
       "      <td>259</td>\n",
       "      <td>2012-09-08</td>\n",
       "      <td>126.0</td>\n",
       "      <td>45.0</td>\n",
       "      <td>-0.642857</td>\n",
       "    </tr>\n",
       "    <tr>\n",
       "      <th>...</th>\n",
       "      <td>...</td>\n",
       "      <td>...</td>\n",
       "      <td>...</td>\n",
       "      <td>...</td>\n",
       "      <td>...</td>\n",
       "    </tr>\n",
       "    <tr>\n",
       "      <th>260388</th>\n",
       "      <td>6808</td>\n",
       "      <td>2022-07-16</td>\n",
       "      <td>22.0</td>\n",
       "      <td>80.0</td>\n",
       "      <td>2.636364</td>\n",
       "    </tr>\n",
       "    <tr>\n",
       "      <th>260559</th>\n",
       "      <td>1127</td>\n",
       "      <td>2022-07-19</td>\n",
       "      <td>450.0</td>\n",
       "      <td>1000.0</td>\n",
       "      <td>1.222222</td>\n",
       "    </tr>\n",
       "    <tr>\n",
       "      <th>260613</th>\n",
       "      <td>259</td>\n",
       "      <td>2022-07-20</td>\n",
       "      <td>126.0</td>\n",
       "      <td>300.0</td>\n",
       "      <td>1.380952</td>\n",
       "    </tr>\n",
       "    <tr>\n",
       "      <th>260636</th>\n",
       "      <td>19</td>\n",
       "      <td>2022-07-20</td>\n",
       "      <td>84.0</td>\n",
       "      <td>200.0</td>\n",
       "      <td>1.380952</td>\n",
       "    </tr>\n",
       "    <tr>\n",
       "      <th>260668</th>\n",
       "      <td>2736</td>\n",
       "      <td>2022-07-21</td>\n",
       "      <td>250.0</td>\n",
       "      <td>550.0</td>\n",
       "      <td>1.200000</td>\n",
       "    </tr>\n",
       "  </tbody>\n",
       "</table>\n",
       "<p>15655 rows × 5 columns</p>\n",
       "</div>"
      ],
      "text/plain": [
       "        Produit_Designation       Date  PrixAchat  PrixUnitaireTTC       Rate\n",
       "623                     259 2012-09-03      126.0            300.0   1.380952\n",
       "624                     259 2012-09-03      126.0           2266.5  16.988095\n",
       "2173                     27 2012-09-08     1200.0            500.0  -0.583333\n",
       "2175                    259 2012-09-08      126.0           5600.0  43.444444\n",
       "2176                    259 2012-09-08      126.0             45.0  -0.642857\n",
       "...                     ...        ...        ...              ...        ...\n",
       "260388                 6808 2022-07-16       22.0             80.0   2.636364\n",
       "260559                 1127 2022-07-19      450.0           1000.0   1.222222\n",
       "260613                  259 2022-07-20      126.0            300.0   1.380952\n",
       "260636                   19 2022-07-20       84.0            200.0   1.380952\n",
       "260668                 2736 2022-07-21      250.0            550.0   1.200000\n",
       "\n",
       "[15655 rows x 5 columns]"
      ]
     },
     "execution_count": 22,
     "metadata": {},
     "output_type": "execute_result"
    }
   ],
   "source": [
    "# Focus only on products with price variations\n",
    "bon_de_livraison_with_variations = bon_de_livraison_only[\n",
    "    bon_de_livraison_only['Produit_Designation'].isin(products_with_variations.index)\n",
    "]\n",
    "\n",
    "# Calculate Q1 (25th percentile) and Q3 (75th percentile) for Rate in variable products\n",
    "Q1_var = bon_de_livraison_with_variations[\"Rate\"].quantile(0.25)\n",
    "Q3_var = bon_de_livraison_with_variations[\"Rate\"].quantile(0.75)\n",
    "\n",
    "# Calculate IQR\n",
    "IQR_var = Q3_var - Q1_var\n",
    "\n",
    "# Define lower and upper bounds for anomalies in varying products\n",
    "lower_bound_var = Q1_var - 1.5 * IQR_var\n",
    "upper_bound_var = Q3_var + 1.5 * IQR_var\n",
    "\n",
    "# Identify anomalies in products with price variations\n",
    "anomalous_products_var = bon_de_livraison_with_variations[\n",
    "    (bon_de_livraison_with_variations[\"Rate\"] < lower_bound_var) |\n",
    "    (bon_de_livraison_with_variations[\"Rate\"] > upper_bound_var)\n",
    "]\n",
    "\n",
    "# Display results\n",
    "anomalous_products_var[[\"Produit_Designation\", \"Date\", \"PrixAchat\", \"PrixUnitaireTTC\", \"Rate\"]]\n"
   ]
  },
  {
   "cell_type": "code",
   "execution_count": 23,
   "id": "d6fb6819",
   "metadata": {
    "scrolled": true
   },
   "outputs": [
    {
     "name": "stderr",
     "output_type": "stream",
     "text": [
      "C:\\Users\\thinkbook\\AppData\\Local\\Temp\\ipykernel_18868\\4043604332.py:2: SettingWithCopyWarning: \n",
      "A value is trying to be set on a copy of a slice from a DataFrame.\n",
      "Try using .loc[row_indexer,col_indexer] = value instead\n",
      "\n",
      "See the caveats in the documentation: https://pandas.pydata.org/pandas-docs/stable/user_guide/indexing.html#returning-a-view-versus-a-copy\n",
      "  bon_de_livraison_with_variations['Rate_Diff'] = bon_de_livraison_with_variations.groupby('Produit_Designation')['Rate'].diff()\n"
     ]
    },
    {
     "data": {
      "text/html": [
       "<div>\n",
       "<style scoped>\n",
       "    .dataframe tbody tr th:only-of-type {\n",
       "        vertical-align: middle;\n",
       "    }\n",
       "\n",
       "    .dataframe tbody tr th {\n",
       "        vertical-align: top;\n",
       "    }\n",
       "\n",
       "    .dataframe thead th {\n",
       "        text-align: right;\n",
       "    }\n",
       "</style>\n",
       "<table border=\"1\" class=\"dataframe\">\n",
       "  <thead>\n",
       "    <tr style=\"text-align: right;\">\n",
       "      <th></th>\n",
       "      <th>Produit_Designation</th>\n",
       "      <th>Date</th>\n",
       "      <th>PrixAchat</th>\n",
       "      <th>PrixUnitaireTTC</th>\n",
       "      <th>Rate</th>\n",
       "      <th>Rate_Diff</th>\n",
       "    </tr>\n",
       "  </thead>\n",
       "  <tbody>\n",
       "    <tr>\n",
       "      <th>624</th>\n",
       "      <td>259</td>\n",
       "      <td>2012-09-03</td>\n",
       "      <td>126.0</td>\n",
       "      <td>2266.5</td>\n",
       "      <td>16.988095</td>\n",
       "      <td>15.607143</td>\n",
       "    </tr>\n",
       "    <tr>\n",
       "      <th>2172</th>\n",
       "      <td>259</td>\n",
       "      <td>2012-09-08</td>\n",
       "      <td>126.0</td>\n",
       "      <td>250.0</td>\n",
       "      <td>0.984127</td>\n",
       "      <td>-16.003968</td>\n",
       "    </tr>\n",
       "    <tr>\n",
       "      <th>2175</th>\n",
       "      <td>259</td>\n",
       "      <td>2012-09-08</td>\n",
       "      <td>126.0</td>\n",
       "      <td>5600.0</td>\n",
       "      <td>43.444444</td>\n",
       "      <td>42.460317</td>\n",
       "    </tr>\n",
       "    <tr>\n",
       "      <th>2176</th>\n",
       "      <td>259</td>\n",
       "      <td>2012-09-08</td>\n",
       "      <td>126.0</td>\n",
       "      <td>45.0</td>\n",
       "      <td>-0.642857</td>\n",
       "      <td>-44.087302</td>\n",
       "    </tr>\n",
       "    <tr>\n",
       "      <th>2178</th>\n",
       "      <td>259</td>\n",
       "      <td>2012-09-08</td>\n",
       "      <td>126.0</td>\n",
       "      <td>280.0</td>\n",
       "      <td>1.222222</td>\n",
       "      <td>1.865079</td>\n",
       "    </tr>\n",
       "    <tr>\n",
       "      <th>...</th>\n",
       "      <td>...</td>\n",
       "      <td>...</td>\n",
       "      <td>...</td>\n",
       "      <td>...</td>\n",
       "      <td>...</td>\n",
       "      <td>...</td>\n",
       "    </tr>\n",
       "    <tr>\n",
       "      <th>260496</th>\n",
       "      <td>259</td>\n",
       "      <td>2022-07-18</td>\n",
       "      <td>126.0</td>\n",
       "      <td>250.0</td>\n",
       "      <td>0.984127</td>\n",
       "      <td>1.190476</td>\n",
       "    </tr>\n",
       "    <tr>\n",
       "      <th>260560</th>\n",
       "      <td>259</td>\n",
       "      <td>2022-07-19</td>\n",
       "      <td>126.0</td>\n",
       "      <td>250.0</td>\n",
       "      <td>0.984127</td>\n",
       "      <td>1.190476</td>\n",
       "    </tr>\n",
       "    <tr>\n",
       "      <th>260613</th>\n",
       "      <td>259</td>\n",
       "      <td>2022-07-20</td>\n",
       "      <td>126.0</td>\n",
       "      <td>300.0</td>\n",
       "      <td>1.380952</td>\n",
       "      <td>1.587302</td>\n",
       "    </tr>\n",
       "    <tr>\n",
       "      <th>260659</th>\n",
       "      <td>259</td>\n",
       "      <td>2022-07-21</td>\n",
       "      <td>126.0</td>\n",
       "      <td>100.0</td>\n",
       "      <td>-0.206349</td>\n",
       "      <td>-1.587302</td>\n",
       "    </tr>\n",
       "    <tr>\n",
       "      <th>260803</th>\n",
       "      <td>259</td>\n",
       "      <td>2022-07-25</td>\n",
       "      <td>126.0</td>\n",
       "      <td>250.0</td>\n",
       "      <td>0.984127</td>\n",
       "      <td>1.190476</td>\n",
       "    </tr>\n",
       "  </tbody>\n",
       "</table>\n",
       "<p>10537 rows × 6 columns</p>\n",
       "</div>"
      ],
      "text/plain": [
       "        Produit_Designation       Date  PrixAchat  PrixUnitaireTTC       Rate  \\\n",
       "624                     259 2012-09-03      126.0           2266.5  16.988095   \n",
       "2172                    259 2012-09-08      126.0            250.0   0.984127   \n",
       "2175                    259 2012-09-08      126.0           5600.0  43.444444   \n",
       "2176                    259 2012-09-08      126.0             45.0  -0.642857   \n",
       "2178                    259 2012-09-08      126.0            280.0   1.222222   \n",
       "...                     ...        ...        ...              ...        ...   \n",
       "260496                  259 2022-07-18      126.0            250.0   0.984127   \n",
       "260560                  259 2022-07-19      126.0            250.0   0.984127   \n",
       "260613                  259 2022-07-20      126.0            300.0   1.380952   \n",
       "260659                  259 2022-07-21      126.0            100.0  -0.206349   \n",
       "260803                  259 2022-07-25      126.0            250.0   0.984127   \n",
       "\n",
       "        Rate_Diff  \n",
       "624     15.607143  \n",
       "2172   -16.003968  \n",
       "2175    42.460317  \n",
       "2176   -44.087302  \n",
       "2178     1.865079  \n",
       "...           ...  \n",
       "260496   1.190476  \n",
       "260560   1.190476  \n",
       "260613   1.587302  \n",
       "260659  -1.587302  \n",
       "260803   1.190476  \n",
       "\n",
       "[10537 rows x 6 columns]"
      ]
     },
     "execution_count": 23,
     "metadata": {},
     "output_type": "execute_result"
    }
   ],
   "source": [
    "# Calculate the difference in 'Rate' for each product over time\n",
    "bon_de_livraison_with_variations['Rate_Diff'] = bon_de_livraison_with_variations.groupby('Produit_Designation')['Rate'].diff()\n",
    "\n",
    "# Identify extreme rate jumps (large variations between transactions of the same product)\n",
    "extreme_variations = bon_de_livraison_with_variations[bon_de_livraison_with_variations['Rate_Diff'].abs() > 1]  # Change threshold if needed\n",
    "\n",
    "# Display products with extreme rate fluctuations\n",
    "extreme_variations[[\"Produit_Designation\", \"Date\", \"PrixAchat\", \"PrixUnitaireTTC\", \"Rate\", \"Rate_Diff\"]]\n"
   ]
  },
  {
   "cell_type": "code",
   "execution_count": 24,
   "id": "d0fba29b",
   "metadata": {},
   "outputs": [
    {
     "name": "stderr",
     "output_type": "stream",
     "text": [
      "C:\\Users\\thinkbook\\AppData\\Local\\Temp\\ipykernel_18868\\421493604.py:2: SettingWithCopyWarning: \n",
      "A value is trying to be set on a copy of a slice from a DataFrame.\n",
      "Try using .loc[row_indexer,col_indexer] = value instead\n",
      "\n",
      "See the caveats in the documentation: https://pandas.pydata.org/pandas-docs/stable/user_guide/indexing.html#returning-a-view-versus-a-copy\n",
      "  bon_de_livraison_with_variations['Year'] = bon_de_livraison_with_variations['Date'].dt.year\n",
      "C:\\ProgramData\\anaconda3\\Lib\\site-packages\\seaborn\\_oldcore.py:1119: FutureWarning: use_inf_as_na option is deprecated and will be removed in a future version. Convert inf values to NaN before operating instead.\n",
      "  with pd.option_context('mode.use_inf_as_na', True):\n",
      "C:\\ProgramData\\anaconda3\\Lib\\site-packages\\seaborn\\_oldcore.py:1119: FutureWarning: use_inf_as_na option is deprecated and will be removed in a future version. Convert inf values to NaN before operating instead.\n",
      "  with pd.option_context('mode.use_inf_as_na', True):\n"
     ]
    },
    {
     "data": {
      "image/png": "[encoded data removed]",
      "text/plain": [
       "<Figure size 1000x500 with 1 Axes>"
      ]
     },
     "metadata": {},
     "output_type": "display_data"
    }
   ],
   "source": [
    "# Extract the year from the date if not already done\n",
    "bon_de_livraison_with_variations['Year'] = bon_de_livraison_with_variations['Date'].dt.year\n",
    "\n",
    "# Group by product and year, then calculate the average profit rate\n",
    "yearly_rate_trend = bon_de_livraison_with_variations.groupby(['Produit_Designation', 'Year'])['Rate'].mean().reset_index()\n",
    " # Select a sample product for visualization\n",
    "sample_product = bon_de_livraison_with_variations['Produit_Designation'].unique()[0]  # Choose the first product\n",
    "\n",
    "# Filter data for the selected product\n",
    "product_data = yearly_rate_trend[yearly_rate_trend[\"Produit_Designation\"] == sample_product]\n",
    "\n",
    "# Plot the trend\n",
    "plt.figure(figsize=(10, 5))\n",
    "sns.lineplot(data=product_data, x='Year', y='Rate', marker='o')\n",
    "\n",
    "plt.title(f\"Yearly Profit Rate Trend for {sample_product}\")\n",
    "plt.xlabel(\"Year\")\n",
    "plt.ylabel(\"Average Profit Rate\")\n",
    "plt.xticks(rotation=45)\n",
    "plt.grid(True)\n",
    "\n",
    "plt.show()\n"
   ]
  },
  {
   "cell_type": "code",
   "execution_count": null,
   "id": "2eb9d42e",
   "metadata": {},
   "outputs": [],
   "source": []
  }
 ],
 "metadata": {
  "kernelspec": {
   "display_name": "Python 3 (ipykernel)",
   "language": "python",
   "name": "python3"
  },
  "language_info": {
   "codemirror_mode": {
    "name": "ipython",
    "version": 3
   },
   "file_extension": ".py",
   "mimetype": "text/x-python",
   "name": "python",
   "nbconvert_exporter": "python",
   "pygments_lexer": "ipython3",
   "version": "3.11.5"
  }
 },
 "nbformat": 4,
 "nbformat_minor": 5
}
