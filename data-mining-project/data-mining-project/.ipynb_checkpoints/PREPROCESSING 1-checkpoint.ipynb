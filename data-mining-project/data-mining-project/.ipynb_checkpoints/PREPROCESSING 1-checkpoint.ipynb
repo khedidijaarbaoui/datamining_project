{
 "cells": [
  {
   "cell_type": "markdown",
   "id": "b129c56a",
   "metadata": {},
   "source": [
    "# Step 1: Understand the Dataset"
   ]
  },
  {
   "cell_type": "markdown",
   "id": "aff20fda",
   "metadata": {},
   "source": [
    "### 1.Import the required libraries "
   ]
  },
  {
   "cell_type": "code",
   "execution_count": 1,
   "id": "a8799cd4",
   "metadata": {},
   "outputs": [],
   "source": [
    "import pandas as pd\n",
    "import matplotlib.pyplot as plt\n",
    "import numpy as np\n",
    "import seaborn as sns\n",
    "import datetime as dt\n",
    "import datetime as dt\n",
    "import re"
   ]
  },
  {
   "cell_type": "markdown",
   "id": "823b6fae",
   "metadata": {},
   "source": [
    "### 2.Load the dataset: Load the dataset into a pandas DataFrame."
   ]
  },
  {
   "cell_type": "code",
   "execution_count": 6,
   "id": "6fc9f45e",
   "metadata": {},
   "outputs": [],
   "source": [
    "# Load the dataset\n",
    "file_path = './Data/Project_datamining_final_data_03_12_an1.csv'\n",
    "complete_data = pd.read_csv(file_path)\n"
   ]
  },
  {
   "cell_type": "code",
   "execution_count": 15,
   "id": "dc30dc6b",
   "metadata": {},
   "outputs": [
    {
     "data": {
      "text/html": [
       "<div>\n",
       "<style scoped>\n",
       "    .dataframe tbody tr th:only-of-type {\n",
       "        vertical-align: middle;\n",
       "    }\n",
       "\n",
       "    .dataframe tbody tr th {\n",
       "        vertical-align: top;\n",
       "    }\n",
       "\n",
       "    .dataframe thead th {\n",
       "        text-align: right;\n",
       "    }\n",
       "</style>\n",
       "<table border=\"1\" class=\"dataframe\">\n",
       "  <thead>\n",
       "    <tr style=\"text-align: right;\">\n",
       "      <th></th>\n",
       "      <th>CleEffet</th>\n",
       "      <th>Date</th>\n",
       "      <th>TypeEffet</th>\n",
       "      <th>FamilleArticle</th>\n",
       "      <th>Code Produit</th>\n",
       "      <th>Reference Produit</th>\n",
       "      <th>NLot</th>\n",
       "      <th>Produit_Designation</th>\n",
       "      <th>DetailEffet_Designation</th>\n",
       "      <th>Quantite</th>\n",
       "      <th>PrixAchat</th>\n",
       "      <th>PrixUnitaireTTC</th>\n",
       "      <th>DetailEffet_Marge</th>\n",
       "      <th>Effet_Marge</th>\n",
       "      <th>MontantHT</th>\n",
       "      <th>Payement</th>\n",
       "    </tr>\n",
       "  </thead>\n",
       "  <tbody>\n",
       "    <tr>\n",
       "      <th>0</th>\n",
       "      <td>1</td>\n",
       "      <td>8/14/2012</td>\n",
       "      <td>Bon d'entrée</td>\n",
       "      <td>Produit Insecticides</td>\n",
       "      <td>0305-004</td>\n",
       "      <td>0305</td>\n",
       "      <td>CHA110501</td>\n",
       "      <td>Produit_Anon_0</td>\n",
       "      <td>Detail_Anon_0</td>\n",
       "      <td>65.0</td>\n",
       "      <td>1,650.00</td>\n",
       "      <td>9,999.00</td>\n",
       "      <td>0.00</td>\n",
       "      <td>216,310,866.75</td>\n",
       "      <td>216,310,866.75</td>\n",
       "      <td>0.00</td>\n",
       "    </tr>\n",
       "    <tr>\n",
       "      <th>1</th>\n",
       "      <td>1</td>\n",
       "      <td>8/14/2012</td>\n",
       "      <td>Bon d'entrée</td>\n",
       "      <td>Matériel bovin</td>\n",
       "      <td>11250</td>\n",
       "      <td>0305</td>\n",
       "      <td>10.274.1.09</td>\n",
       "      <td>Produit_Anon_1</td>\n",
       "      <td>Detail_Anon_1</td>\n",
       "      <td>120.0</td>\n",
       "      <td>550.00</td>\n",
       "      <td>9,999.00</td>\n",
       "      <td>0.00</td>\n",
       "      <td>216,310,866.75</td>\n",
       "      <td>216,310,866.75</td>\n",
       "      <td>0.00</td>\n",
       "    </tr>\n",
       "    <tr>\n",
       "      <th>2</th>\n",
       "      <td>1</td>\n",
       "      <td>8/14/2012</td>\n",
       "      <td>Bon d'entrée</td>\n",
       "      <td>Produit Insecticides</td>\n",
       "      <td>0305-039</td>\n",
       "      <td>0305</td>\n",
       "      <td>L110703</td>\n",
       "      <td>Produit_Anon_2</td>\n",
       "      <td>Detail_Anon_2</td>\n",
       "      <td>137.0</td>\n",
       "      <td>1,034.00</td>\n",
       "      <td>9,999.00</td>\n",
       "      <td>0.00</td>\n",
       "      <td>216,310,866.75</td>\n",
       "      <td>216,310,866.75</td>\n",
       "      <td>0.00</td>\n",
       "    </tr>\n",
       "    <tr>\n",
       "      <th>3</th>\n",
       "      <td>1</td>\n",
       "      <td>8/14/2012</td>\n",
       "      <td>Bon d'entrée</td>\n",
       "      <td>Produit Insecticides</td>\n",
       "      <td>2F18272093</td>\n",
       "      <td>2F18272093</td>\n",
       "      <td>2F18272093</td>\n",
       "      <td>Produit_Anon_3</td>\n",
       "      <td>Detail_Anon_3</td>\n",
       "      <td>2000.0</td>\n",
       "      <td>2,800.00</td>\n",
       "      <td>9,999.00</td>\n",
       "      <td>0.00</td>\n",
       "      <td>216,310,866.75</td>\n",
       "      <td>216,310,866.75</td>\n",
       "      <td>0.00</td>\n",
       "    </tr>\n",
       "    <tr>\n",
       "      <th>4</th>\n",
       "      <td>1</td>\n",
       "      <td>8/14/2012</td>\n",
       "      <td>Bon d'entrée</td>\n",
       "      <td>Produit Insecticides</td>\n",
       "      <td>0305-054</td>\n",
       "      <td>0305</td>\n",
       "      <td>20101102</td>\n",
       "      <td>Produit_Anon_4</td>\n",
       "      <td>Detail_Anon_4</td>\n",
       "      <td>3500.0</td>\n",
       "      <td>1,550.00</td>\n",
       "      <td>9,999.00</td>\n",
       "      <td>0.00</td>\n",
       "      <td>216,310,866.75</td>\n",
       "      <td>216,310,866.75</td>\n",
       "      <td>0.00</td>\n",
       "    </tr>\n",
       "  </tbody>\n",
       "</table>\n",
       "</div>"
      ],
      "text/plain": [
       "   CleEffet       Date     TypeEffet        FamilleArticle Code Produit  \\\n",
       "0         1  8/14/2012  Bon d'entrée  Produit Insecticides     0305-004   \n",
       "1         1  8/14/2012  Bon d'entrée        Matériel bovin        11250   \n",
       "2         1  8/14/2012  Bon d'entrée  Produit Insecticides     0305-039   \n",
       "3         1  8/14/2012  Bon d'entrée  Produit Insecticides   2F18272093   \n",
       "4         1  8/14/2012  Bon d'entrée  Produit Insecticides     0305-054   \n",
       "\n",
       "  Reference Produit         NLot Produit_Designation DetailEffet_Designation  \\\n",
       "0              0305    CHA110501      Produit_Anon_0           Detail_Anon_0   \n",
       "1              0305  10.274.1.09      Produit_Anon_1           Detail_Anon_1   \n",
       "2              0305      L110703      Produit_Anon_2           Detail_Anon_2   \n",
       "3        2F18272093   2F18272093      Produit_Anon_3           Detail_Anon_3   \n",
       "4              0305     20101102      Produit_Anon_4           Detail_Anon_4   \n",
       "\n",
       "   Quantite PrixAchat PrixUnitaireTTC DetailEffet_Marge     Effet_Marge  \\\n",
       "0      65.0  1,650.00        9,999.00              0.00  216,310,866.75   \n",
       "1     120.0    550.00        9,999.00              0.00  216,310,866.75   \n",
       "2     137.0  1,034.00        9,999.00              0.00  216,310,866.75   \n",
       "3    2000.0  2,800.00        9,999.00              0.00  216,310,866.75   \n",
       "4    3500.0  1,550.00        9,999.00              0.00  216,310,866.75   \n",
       "\n",
       "        MontantHT Payement  \n",
       "0  216,310,866.75     0.00  \n",
       "1  216,310,866.75     0.00  \n",
       "2  216,310,866.75     0.00  \n",
       "3  216,310,866.75     0.00  \n",
       "4  216,310,866.75     0.00  "
      ]
     },
     "execution_count": 15,
     "metadata": {},
     "output_type": "execute_result"
    }
   ],
   "source": [
    "# Inspect the first few rows\n",
    "complete_data.head()"
   ]
  },
  {
   "cell_type": "code",
   "execution_count": 16,
   "id": "fc93cb68",
   "metadata": {},
   "outputs": [
    {
     "data": {
      "text/plain": [
       "CleEffet                     int64\n",
       "Date                        object\n",
       "TypeEffet                   object\n",
       "FamilleArticle              object\n",
       "Code Produit                object\n",
       "Reference Produit           object\n",
       "NLot                        object\n",
       "Produit_Designation         object\n",
       "DetailEffet_Designation     object\n",
       "Quantite                   float64\n",
       "PrixAchat                   object\n",
       "PrixUnitaireTTC             object\n",
       "DetailEffet_Marge           object\n",
       "Effet_Marge                 object\n",
       "MontantHT                   object\n",
       "Payement                    object\n",
       "dtype: object"
      ]
     },
     "execution_count": 16,
     "metadata": {},
     "output_type": "execute_result"
    }
   ],
   "source": [
    "# Check data types\n",
    "complete_data.dtypes"
   ]
  },
  {
   "cell_type": "code",
   "execution_count": 21,
   "id": "60c44aac",
   "metadata": {
    "scrolled": true
   },
   "outputs": [
    {
     "name": "stdout",
     "output_type": "stream",
     "text": [
      "<class 'pandas.core.frame.DataFrame'>\n",
      "RangeIndex: 261001 entries, 0 to 261000\n",
      "Data columns (total 16 columns):\n",
      " #   Column                   Non-Null Count   Dtype  \n",
      "---  ------                   --------------   -----  \n",
      " 0   CleEffet                 261001 non-null  int64  \n",
      " 1   Date                     261001 non-null  object \n",
      " 2   TypeEffet                261001 non-null  object \n",
      " 3   FamilleArticle           261001 non-null  object \n",
      " 4   Code Produit             160237 non-null  object \n",
      " 5   Reference Produit        135717 non-null  object \n",
      " 6   NLot                     228637 non-null  object \n",
      " 7   Produit_Designation      261001 non-null  object \n",
      " 8   DetailEffet_Designation  261001 non-null  object \n",
      " 9   Quantite                 261001 non-null  float64\n",
      " 10  PrixAchat                261001 non-null  object \n",
      " 11  PrixUnitaireTTC          261001 non-null  object \n",
      " 12  DetailEffet_Marge        261001 non-null  object \n",
      " 13  Effet_Marge              261001 non-null  object \n",
      " 14  MontantHT                261001 non-null  object \n",
      " 15  Payement                 261001 non-null  object \n",
      "dtypes: float64(1), int64(1), object(14)\n",
      "memory usage: 31.9+ MB\n"
     ]
    }
   ],
   "source": [
    "complete_data.info()"
   ]
  },
  {
   "cell_type": "markdown",
   "id": "89713e41",
   "metadata": {},
   "source": [
    "###### This output tells us:\n",
    "the whole dataset has 261001 entries\n",
    "\n",
    "Columns like CleEffet, Date, TypeEffet, etc., have 261,001 non-null values, meaning they have no missing values.\n",
    "\n",
    "Columns like Code Produit, Reference Produit, and NLot have fewer non-null values, meaning they have missing value"
   ]
  },
  {
   "cell_type": "markdown",
   "id": "fc5e7ee2",
   "metadata": {},
   "source": [
    "# Step 2: Handle Missing Values"
   ]
  },
  {
   "cell_type": "markdown",
   "id": "4402e547",
   "metadata": {},
   "source": [
    "### Print the count of non-null values for each column"
   ]
  },
  {
   "cell_type": "markdown",
   "id": "21653b5c",
   "metadata": {},
   "source": [
    "lets see which columns have missing values and how many."
   ]
  },
  {
   "cell_type": "code",
   "execution_count": 22,
   "id": "243e4ec0",
   "metadata": {
    "scrolled": true
   },
   "outputs": [
    {
     "name": "stdout",
     "output_type": "stream",
     "text": [
      "CleEffet                        0\n",
      "Date                            0\n",
      "TypeEffet                       0\n",
      "FamilleArticle                  0\n",
      "Code Produit               100764\n",
      "Reference Produit          125284\n",
      "NLot                        32364\n",
      "Produit_Designation             0\n",
      "DetailEffet_Designation         0\n",
      "Quantite                        0\n",
      "PrixAchat                       0\n",
      "PrixUnitaireTTC                 0\n",
      "DetailEffet_Marge               0\n",
      "Effet_Marge                     0\n",
      "MontantHT                       0\n",
      "Payement                        0\n",
      "dtype: int64\n"
     ]
    }
   ],
   "source": [
    "# Check for missing values in each column\n",
    "print(complete_data.isnull().sum())"
   ]
  },
  {
   "cell_type": "markdown",
   "id": "35576332",
   "metadata": {},
   "source": [
    "###### This output tells us:\n",
    "\n",
    "Code Produit has 100,764 missing values.\n",
    "\n",
    "Reference Produit has 125,284 missing values.\n",
    "\n",
    "NLot has 32,364 missing values.\n",
    "\n",
    "All other columns have no missing values."
   ]
  },
  {
   "cell_type": "markdown",
   "id": "6e21b36b",
   "metadata": {},
   "source": [
    "### 1.handling missing values in Code Produit"
   ]
  },
  {
   "cell_type": "code",
   "execution_count": 23,
   "id": "8a242d8b",
   "metadata": {},
   "outputs": [
    {
     "name": "stdout",
     "output_type": "stream",
     "text": [
      "CleEffet                   160237\n",
      "Date                       160237\n",
      "TypeEffet                  160237\n",
      "FamilleArticle             160237\n",
      "Code Produit               160237\n",
      "Reference Produit          127524\n",
      "NLot                       135806\n",
      "Produit_Designation        160237\n",
      "DetailEffet_Designation    160237\n",
      "Quantite                   160237\n",
      "PrixAchat                  160237\n",
      "PrixUnitaireTTC            160237\n",
      "DetailEffet_Marge          160237\n",
      "Effet_Marge                160237\n",
      "MontantHT                  160237\n",
      "Payement                   160237\n",
      "dtype: int64\n"
     ]
    }
   ],
   "source": [
    "# Drop rows where 'Code Produit' is missing\n",
    "complete_data.dropna(subset=['Code Produit'], inplace=True)\n",
    "\n",
    "# Check the count of non-null values again\n",
    "print(complete_data.count())"
   ]
  },
  {
   "cell_type": "markdown",
   "id": "b85ca32b",
   "metadata": {},
   "source": [
    "### 2.Handle missing values in Reference Produit"
   ]
  },
  {
   "cell_type": "code",
   "execution_count": 25,
   "id": "1ce5c276",
   "metadata": {
    "scrolled": true
   },
   "outputs": [
    {
     "name": "stdout",
     "output_type": "stream",
     "text": [
      "CleEffet                   160237\n",
      "Date                       160237\n",
      "TypeEffet                  160237\n",
      "FamilleArticle             160237\n",
      "Code Produit               160237\n",
      "Reference Produit          160237\n",
      "NLot                       135806\n",
      "Produit_Designation        160237\n",
      "DetailEffet_Designation    160237\n",
      "Quantite                   160237\n",
      "PrixAchat                  160237\n",
      "PrixUnitaireTTC            160237\n",
      "DetailEffet_Marge          160237\n",
      "Effet_Marge                160237\n",
      "MontantHT                  160237\n",
      "Payement                   160237\n",
      "dtype: int64\n"
     ]
    }
   ],
   "source": [
    "# Fill missing values in 'Reference Produit' with 'Unknown'\n",
    "complete_data['Reference Produit'] = complete_data['Reference Produit'].fillna('Unknown')\n",
    "\n",
    "# Check the count of non-null values again\n",
    "print(complete_data.count())"
   ]
  },
  {
   "cell_type": "markdown",
   "id": "03049219",
   "metadata": {},
   "source": [
    "### 3.Handle Missing Values in NLot"
   ]
  },
  {
   "cell_type": "code",
   "execution_count": 26,
   "id": "4eb5f9ba",
   "metadata": {},
   "outputs": [
    {
     "name": "stdout",
     "output_type": "stream",
     "text": [
      "CleEffet                   160237\n",
      "Date                       160237\n",
      "TypeEffet                  160237\n",
      "FamilleArticle             160237\n",
      "Code Produit               160237\n",
      "Reference Produit          160237\n",
      "NLot                       160237\n",
      "Produit_Designation        160237\n",
      "DetailEffet_Designation    160237\n",
      "Quantite                   160237\n",
      "PrixAchat                  160237\n",
      "PrixUnitaireTTC            160237\n",
      "DetailEffet_Marge          160237\n",
      "Effet_Marge                160237\n",
      "MontantHT                  160237\n",
      "Payement                   160237\n",
      "dtype: int64\n"
     ]
    }
   ],
   "source": [
    "# Fill missing values in 'NLot' with 'Unknown'\n",
    "complete_data['NLot'] = complete_data['NLot'].fillna('Unknown')\n",
    "\n",
    "# Check the count of non-null values again\n",
    "print(complete_data.count())"
   ]
  },
  {
   "cell_type": "markdown",
   "id": "78979786",
   "metadata": {},
   "source": [
    "# Step 3: Data Type Conversion"
   ]
  },
  {
   "cell_type": "markdown",
   "id": "38a8b814",
   "metadata": {},
   "source": [
    "This step is crucial because it ensures that each column has the correct data type, which is essential for accurate analysis and modeling,Columns like Date should be in datetime format, and numerical columns like PrixAchat, PrixUnitaireTTC, etc., should be in float or int format."
   ]
  },
  {
   "cell_type": "markdown",
   "id": "29580a79",
   "metadata": {},
   "source": [
    "### 1: Convert 'Date' to datetime"
   ]
  },
  {
   "cell_type": "code",
   "execution_count": 28,
   "id": "e025105a",
   "metadata": {},
   "outputs": [
    {
     "name": "stdout",
     "output_type": "stream",
     "text": [
      "datetime64[ns]\n"
     ]
    }
   ],
   "source": [
    "# Convert 'Date' to datetime\n",
    "complete_data['Date'] = pd.to_datetime(complete_data['Date'])\n",
    "\n",
    "# Check the data type of 'Date'\n",
    "print(complete_data['Date'].dtype)"
   ]
  },
  {
   "cell_type": "markdown",
   "id": "7a890064",
   "metadata": {},
   "source": [
    "### 2.Convert numerical columns to float"
   ]
  },
  {
   "cell_type": "code",
   "execution_count": 29,
   "id": "b1fe9ce1",
   "metadata": {},
   "outputs": [
    {
     "name": "stdout",
     "output_type": "stream",
     "text": [
      "PrixAchat            float64\n",
      "PrixUnitaireTTC      float64\n",
      "DetailEffet_Marge    float64\n",
      "Effet_Marge          float64\n",
      "MontantHT            float64\n",
      "Payement             float64\n",
      "dtype: object\n"
     ]
    }
   ],
   "source": [
    "# List of numerical columns to convert\n",
    "numerical_columns = ['PrixAchat', 'PrixUnitaireTTC', 'DetailEffet_Marge', 'Effet_Marge', 'MontantHT', 'Payement']\n",
    "\n",
    "# Remove commas and convert to float\n",
    "for col in numerical_columns:\n",
    "    complete_data[col] = complete_data[col].str.replace(',', '').astype(float)\n",
    "\n",
    "# Check the data types of numerical columns\n",
    "print(complete_data[numerical_columns].dtypes)"
   ]
  },
  {
   "cell_type": "markdown",
   "id": "bd915cdc",
   "metadata": {},
   "source": [
    "### 3.Verify the changes"
   ]
  },
  {
   "cell_type": "code",
   "execution_count": 30,
   "id": "e21b8db2",
   "metadata": {},
   "outputs": [
    {
     "name": "stdout",
     "output_type": "stream",
     "text": [
      "CleEffet                            int64\n",
      "Date                       datetime64[ns]\n",
      "TypeEffet                          object\n",
      "FamilleArticle                     object\n",
      "Code Produit                       object\n",
      "Reference Produit                  object\n",
      "NLot                               object\n",
      "Produit_Designation                object\n",
      "DetailEffet_Designation            object\n",
      "Quantite                          float64\n",
      "PrixAchat                         float64\n",
      "PrixUnitaireTTC                   float64\n",
      "DetailEffet_Marge                 float64\n",
      "Effet_Marge                       float64\n",
      "MontantHT                         float64\n",
      "Payement                          float64\n",
      "dtype: object\n"
     ]
    }
   ],
   "source": [
    "# Check the data types of all columns\n",
    "print(complete_data.dtypes)"
   ]
  },
  {
   "cell_type": "markdown",
   "id": "1496f319",
   "metadata": {},
   "source": [
    "# Step 4: Handle Categorical Data"
   ]
  },
  {
   "cell_type": "markdown",
   "id": "65c4bcdf",
   "metadata": {},
   "source": [
    "### 1.Standardize FamilleArticle"
   ]
  },
  {
   "cell_type": "code",
   "execution_count": 33,
   "id": "2591c91c",
   "metadata": {},
   "outputs": [
    {
     "name": "stdout",
     "output_type": "stream",
     "text": [
      "Unique values in 'FamilleArticle':\n",
      "['produit insecticides' 'matériel bovin' 'produit acaricides'\n",
      " 'prouduits raticide + anti insect' 'produit engrais'\n",
      " 'matériel de pompe 400 l' 'matériel apiculture' 'produit herbicides'\n",
      " 'produit fongicides' 'semences courgette' 'courgette_hybride'\n",
      " 'semences laitue' 'semences haricot' 'semences oignon' 'semences navet'\n",
      " 'semences fenouil' 'semences petit pois' 'semences persil'\n",
      " 'semences coriandre' 'semences celeri' 'semences artichaut'\n",
      " 'semences poirée verte' 'semences concombre' 'detail'\n",
      " \"materiels de l'arboriculture\" 'matériel divers' 'pastèque_hybride'\n",
      " 'matériels tronceneuses' 'matériel des moteur' 'poivron_hybride'\n",
      " 'matériels joints membrane' 'matériels joints spi ou ressort'\n",
      " 'matériel goûte à goûte' 'matériels du labour' \"matériels d'irrigation\"\n",
      " 'matériel pulvérisation' 'matériel jardinage'\n",
      " 'matériel outils de préparation de la terre' 'matériel avicole'\n",
      " 'matériels de taille' 'semences tomate' 'chou-fleur_hybride'\n",
      " 'semences pastèque' 'tomates_hybride' 'semences avoine'\n",
      " 'semences aubergine' 'semences piment' 'semences carottes'\n",
      " 'semences feve' 'semences mais' 'semences bettrave rouge'\n",
      " 'semences trefle' 'semences avesse( guerfala)' 'divers de hsen'\n",
      " 'grands sachets de ghazioui' 'semences sec' 'semences gazon' 'tourbe'\n",
      " 'produit molluscicides' 'melon_hybride' 'semences  lisèrne'\n",
      " 'semences sorgho' 'semences pomme de tèrre' 'semences poivron'\n",
      " 'piment_hybride' 'semences cardan' 'semences radis' 'plantes olives'\n",
      " 'semences melon' 'semencs choux' 'homs' 'plante fruité divers'\n",
      " 'sachet potageur' 'produit biostimulant' 'aliment de betail'\n",
      " 'semences potagère' 'semences potiron' 'aubergine_hybride'\n",
      " 'produit apiculture' 'des arbres' 'engrais soluble' 'semences basilic']\n"
     ]
    },
    {
     "data": {
      "text/plain": [
       "82"
      ]
     },
     "execution_count": 33,
     "metadata": {},
     "output_type": "execute_result"
    }
   ],
   "source": [
    "# Convert 'FamilleArticle' to lowercase and strip whitespace\n",
    "complete_data['FamilleArticle'] = complete_data['FamilleArticle'].str.lower().str.strip()\n",
    "\n",
    "# Store unique values\n",
    "unique_famille_articles = complete_data['FamilleArticle'].unique()\n",
    "\n",
    "# Print the unique values\n",
    "print(\"Unique values in 'FamilleArticle':\")\n",
    "print(unique_famille_articles)\n",
    "len(unique_famille_articles)"
   ]
  },
  {
   "cell_type": "markdown",
   "id": "7c9f7a17",
   "metadata": {},
   "source": [
    "### we can noice that there are inconsistencies in the unique 82 values that should be handled ex :\n",
    "\"prouduits\" vs. \"produits\" \n",
    "\"semences\" vs. \"semencs\"   \n",
    "\"matériel\" vs. \"matériels\"\n",
    "\n"
   ]
  },
  {
   "cell_type": "code",
   "execution_count": 34,
   "id": "33ac4195",
   "metadata": {},
   "outputs": [
    {
     "name": "stdout",
     "output_type": "stream",
     "text": [
      "Counts of each unique value in 'FamilleArticle':\n",
      "FamilleArticle\n",
      "detail                    20758\n",
      "matériel apiculture       18762\n",
      "matériel divers           11844\n",
      "matériel goûte à goûte    10609\n",
      "matériels d'irrigation    10402\n",
      "                          ...  \n",
      "semences basilic             13\n",
      "divers de hsen               12\n",
      "aliment de betail            10\n",
      "semences cardan               9\n",
      "semences  lisèrne             7\n",
      "Name: count, Length: 82, dtype: int64\n"
     ]
    }
   ],
   "source": [
    "# Count the occurrences of each unique value in 'FamilleArticle'\n",
    "famille_counts = complete_data['FamilleArticle'].value_counts()\n",
    "\n",
    "# Print the counts\n",
    "print(\"Counts of each unique value in 'FamilleArticle':\")\n",
    "print(famille_counts)"
   ]
  },
  {
   "cell_type": "markdown",
   "id": "3a675d34",
   "metadata": {},
   "source": [
    "### We’ll identify families that start with similar prefixes (e.g., semence, matériel, produit) and standardize them. This will ensure consistency across the dataset."
   ]
  },
  {
   "cell_type": "markdown",
   "id": "036f0e8c",
   "metadata": {},
   "source": [
    "### Standardize Families with \"semence\" Prefix"
   ]
  },
  {
   "cell_type": "code",
   "execution_count": 35,
   "id": "a6e1ee89",
   "metadata": {
    "scrolled": true
   },
   "outputs": [
    {
     "name": "stdout",
     "output_type": "stream",
     "text": [
      "Updated unique values after standardizing 'semence':\n",
      "['produit insecticides' 'matériel bovin' 'produit acaricides'\n",
      " 'prouduits raticide + anti insect' 'produit engrais'\n",
      " 'matériel de pompe 400 l' 'matériel apiculture' 'produit herbicides'\n",
      " 'produit fongicides' 'semence courgette' 'courgette_hybride'\n",
      " 'semence laitue' 'semence haricot' 'semence oignon' 'semence navet'\n",
      " 'semence fenouil' 'semence petit pois' 'semence persil'\n",
      " 'semence coriandre' 'semence celeri' 'semence artichaut'\n",
      " 'semence poirée verte' 'semence concombre' 'detail'\n",
      " \"materiels de l'arboriculture\" 'matériel divers' 'pastèque_hybride'\n",
      " 'matériels tronceneuses' 'matériel des moteur' 'poivron_hybride'\n",
      " 'matériels joints membrane' 'matériels joints spi ou ressort'\n",
      " 'matériel goûte à goûte' 'matériels du labour' \"matériels d'irrigation\"\n",
      " 'matériel pulvérisation' 'matériel jardinage'\n",
      " 'matériel outils de préparation de la terre' 'matériel avicole'\n",
      " 'matériels de taille' 'semence tomate' 'chou-fleur_hybride'\n",
      " 'semence pastèque' 'tomates_hybride' 'semence avoine' 'semence aubergine'\n",
      " 'semence piment' 'semence carottes' 'semence feve' 'semence mais'\n",
      " 'semence bettrave rouge' 'semence trefle' 'semence avesse( guerfala)'\n",
      " 'divers de hsen' 'grands sachets de ghazioui' 'semence sec'\n",
      " 'semence gazon' 'tourbe' 'produit molluscicides' 'melon_hybride'\n",
      " 'semence lisèrne' 'semence sorgho' 'semence pomme de tèrre'\n",
      " 'semence poivron' 'piment_hybride' 'semence cardan' 'semence radis'\n",
      " 'plantes olives' 'semence melon' 'semence choux' 'homs'\n",
      " 'plante fruité divers' 'sachet potageur' 'produit biostimulant'\n",
      " 'aliment de betail' 'semence potagère' 'semence potiron'\n",
      " 'aubergine_hybride' 'produit apiculture' 'des arbres' 'engrais soluble'\n",
      " 'semence basilic']\n"
     ]
    }
   ],
   "source": [
    "from rapidfuzz import fuzz\n",
    "\n",
    "# Define a threshold for fuzzy matching\n",
    "threshold = 80\n",
    "\n",
    "# Function to standardize families with \"semence\" prefix\n",
    "def standardize_semence(family):\n",
    "    words = family.split()  # Split the family name into words\n",
    "    # Check if the first or second word is similar to \"semence\"\n",
    "    if len(words) > 0 and fuzz.ratio(\"semence\", words[0]) >= threshold:\n",
    "        words[0] = \"semence\"\n",
    "    if len(words) > 1 and fuzz.ratio(\"semence\", words[1]) >= threshold:\n",
    "        words[1] = \"semence\"\n",
    "    return ' '.join(words)\n",
    "\n",
    "# Apply the function to the 'FamilleArticle' column\n",
    "complete_data['FamilleArticle'] = complete_data['FamilleArticle'].apply(standardize_semence)\n",
    "\n",
    "# Check the updated unique values\n",
    "updated_unique_famille_articles = complete_data['FamilleArticle'].unique()\n",
    "print(\"Updated unique values after standardizing 'semence':\")\n",
    "print(updated_unique_famille_articles)"
   ]
  },
  {
   "cell_type": "markdown",
   "id": "5b7e953b",
   "metadata": {},
   "source": [
    "### Standardize Families with \"matériel\" Prefix"
   ]
  },
  {
   "cell_type": "code",
   "execution_count": 36,
   "id": "fce312f8",
   "metadata": {},
   "outputs": [
    {
     "name": "stdout",
     "output_type": "stream",
     "text": [
      "Updated unique values after standardizing 'matériel':\n",
      "['produit insecticides' 'matériel bovin' 'produit acaricides'\n",
      " 'prouduits raticide + anti insect' 'produit engrais'\n",
      " 'matériel de pompe 400 l' 'matériel apiculture' 'produit herbicides'\n",
      " 'produit fongicides' 'semence courgette' 'courgette_hybride'\n",
      " 'semence laitue' 'semence haricot' 'semence oignon' 'semence navet'\n",
      " 'semence fenouil' 'semence petit pois' 'semence persil'\n",
      " 'semence coriandre' 'semence celeri' 'semence artichaut'\n",
      " 'semence poirée verte' 'semence concombre' 'detail'\n",
      " \"matériel de l'arboriculture\" 'matériel divers' 'pastèque_hybride'\n",
      " 'matériel tronceneuses' 'matériel des moteur' 'poivron_hybride'\n",
      " 'matériel joints membrane' 'matériel joints spi ou ressort'\n",
      " 'matériel goûte à goûte' 'matériel du labour' \"matériel d'irrigation\"\n",
      " 'matériel pulvérisation' 'matériel jardinage'\n",
      " 'matériel outils de préparation de la terre' 'matériel avicole'\n",
      " 'matériel de taille' 'semence tomate' 'chou-fleur_hybride'\n",
      " 'semence pastèque' 'tomates_hybride' 'semence avoine' 'semence aubergine'\n",
      " 'semence piment' 'semence carottes' 'semence feve' 'semence mais'\n",
      " 'semence bettrave rouge' 'semence trefle' 'semence avesse( guerfala)'\n",
      " 'divers de hsen' 'grands sachets de ghazioui' 'semence sec'\n",
      " 'semence gazon' 'tourbe' 'produit molluscicides' 'melon_hybride'\n",
      " 'semence lisèrne' 'semence sorgho' 'semence pomme de tèrre'\n",
      " 'semence poivron' 'piment_hybride' 'semence cardan' 'semence radis'\n",
      " 'plantes olives' 'semence melon' 'semence choux' 'homs'\n",
      " 'plante fruité divers' 'sachet potageur' 'produit biostimulant'\n",
      " 'aliment de betail' 'semence potagère' 'semence potiron'\n",
      " 'aubergine_hybride' 'produit apiculture' 'des arbres' 'engrais soluble'\n",
      " 'semence basilic']\n"
     ]
    }
   ],
   "source": [
    "# Function to standardize families with \"matériel\" prefix\n",
    "def standardize_materiel(family):\n",
    "    words = family.split()  # Split the family name into words\n",
    "    # Check if the first or second word is similar to \"matériel\"\n",
    "    if len(words) > 0 and fuzz.ratio(\"matériel\", words[0]) >= threshold:\n",
    "        words[0] = \"matériel\"\n",
    "    if len(words) > 1 and fuzz.ratio(\"matériel\", words[1]) >= threshold:\n",
    "        words[1] = \"matériel\"\n",
    "    return ' '.join(words)\n",
    "\n",
    "# Apply the function to the 'FamilleArticle' column\n",
    "complete_data['FamilleArticle'] = complete_data['FamilleArticle'].apply(standardize_materiel)\n",
    "\n",
    "# Check the updated unique values\n",
    "updated_unique_famille_articles = complete_data['FamilleArticle'].unique()\n",
    "print(\"Updated unique values after standardizing 'matériel':\")\n",
    "print(updated_unique_famille_articles)"
   ]
  },
  {
   "cell_type": "markdown",
   "id": "c46d5dd5",
   "metadata": {},
   "source": [
    "### Standardize Families with \"produit\" Prefix"
   ]
  },
  {
   "cell_type": "code",
   "execution_count": 37,
   "id": "2fb598ff",
   "metadata": {},
   "outputs": [
    {
     "name": "stdout",
     "output_type": "stream",
     "text": [
      "Updated unique values after standardizing 'produit':\n",
      "['produit insecticides' 'matériel bovin' 'produit acaricides'\n",
      " 'produit raticide + anti insect' 'produit engrais'\n",
      " 'matériel de pompe 400 l' 'matériel apiculture' 'produit herbicides'\n",
      " 'produit fongicides' 'semence courgette' 'courgette_hybride'\n",
      " 'semence laitue' 'semence haricot' 'semence oignon' 'semence navet'\n",
      " 'semence fenouil' 'semence petit pois' 'semence persil'\n",
      " 'semence coriandre' 'semence celeri' 'semence artichaut'\n",
      " 'semence poirée verte' 'semence concombre' 'detail'\n",
      " \"matériel de l'arboriculture\" 'matériel divers' 'pastèque_hybride'\n",
      " 'matériel tronceneuses' 'matériel des moteur' 'poivron_hybride'\n",
      " 'matériel joints membrane' 'matériel joints spi ou ressort'\n",
      " 'matériel goûte à goûte' 'matériel du labour' \"matériel d'irrigation\"\n",
      " 'matériel pulvérisation' 'matériel jardinage'\n",
      " 'matériel outils de préparation de la terre' 'matériel avicole'\n",
      " 'matériel de taille' 'semence tomate' 'chou-fleur_hybride'\n",
      " 'semence pastèque' 'tomates_hybride' 'semence avoine' 'semence aubergine'\n",
      " 'semence piment' 'semence carottes' 'semence feve' 'semence mais'\n",
      " 'semence bettrave rouge' 'semence trefle' 'semence avesse( guerfala)'\n",
      " 'divers de hsen' 'grands sachets de ghazioui' 'semence sec'\n",
      " 'semence gazon' 'tourbe' 'produit molluscicides' 'melon_hybride'\n",
      " 'semence lisèrne' 'semence sorgho' 'semence pomme de tèrre'\n",
      " 'semence poivron' 'piment_hybride' 'semence cardan' 'semence radis'\n",
      " 'plantes olives' 'semence melon' 'semence choux' 'homs'\n",
      " 'plante fruité divers' 'sachet potageur' 'produit biostimulant'\n",
      " 'aliment de betail' 'semence potagère' 'semence potiron'\n",
      " 'aubergine_hybride' 'produit apiculture' 'des arbres' 'engrais soluble'\n",
      " 'semence basilic']\n"
     ]
    }
   ],
   "source": [
    "# Function to standardize families with \"produit\" prefix\n",
    "def standardize_produit(family):\n",
    "    words = family.split()  # Split the family name into words\n",
    "    # Check if the first or second word is similar to \"produit\"\n",
    "    if len(words) > 0 and fuzz.ratio(\"produit\", words[0]) >= threshold:\n",
    "        words[0] = \"produit\"\n",
    "    if len(words) > 1 and fuzz.ratio(\"produit\", words[1]) >= threshold:\n",
    "        words[1] = \"produit\"\n",
    "    return ' '.join(words)\n",
    "\n",
    "# Apply the function to the 'FamilleArticle' column\n",
    "complete_data['FamilleArticle'] = complete_data['FamilleArticle'].apply(standardize_produit)\n",
    "\n",
    "# Check the updated unique values\n",
    "updated_unique_famille_articles = complete_data['FamilleArticle'].unique()\n",
    "print(\"Updated unique values after standardizing 'produit':\")\n",
    "print(updated_unique_famille_articles)"
   ]
  },
  {
   "cell_type": "markdown",
   "id": "76dd1749",
   "metadata": {},
   "source": [
    "### After standardizing all prefixes, let’s verify the final unique values and their counts."
   ]
  },
  {
   "cell_type": "code",
   "execution_count": 38,
   "id": "4d8bd437",
   "metadata": {},
   "outputs": [
    {
     "name": "stdout",
     "output_type": "stream",
     "text": [
      "Final unique values in 'FamilleArticle':\n",
      "['produit insecticides' 'matériel bovin' 'produit acaricides'\n",
      " 'produit raticide + anti insect' 'produit engrais'\n",
      " 'matériel de pompe 400 l' 'matériel apiculture' 'produit herbicides'\n",
      " 'produit fongicides' 'semence courgette' 'courgette_hybride'\n",
      " 'semence laitue' 'semence haricot' 'semence oignon' 'semence navet'\n",
      " 'semence fenouil' 'semence petit pois' 'semence persil'\n",
      " 'semence coriandre' 'semence celeri' 'semence artichaut'\n",
      " 'semence poirée verte' 'semence concombre' 'detail'\n",
      " \"matériel de l'arboriculture\" 'matériel divers' 'pastèque_hybride'\n",
      " 'matériel tronceneuses' 'matériel des moteur' 'poivron_hybride'\n",
      " 'matériel joints membrane' 'matériel joints spi ou ressort'\n",
      " 'matériel goûte à goûte' 'matériel du labour' \"matériel d'irrigation\"\n",
      " 'matériel pulvérisation' 'matériel jardinage'\n",
      " 'matériel outils de préparation de la terre' 'matériel avicole'\n",
      " 'matériel de taille' 'semence tomate' 'chou-fleur_hybride'\n",
      " 'semence pastèque' 'tomates_hybride' 'semence avoine' 'semence aubergine'\n",
      " 'semence piment' 'semence carottes' 'semence feve' 'semence mais'\n",
      " 'semence bettrave rouge' 'semence trefle' 'semence avesse( guerfala)'\n",
      " 'divers de hsen' 'grands sachets de ghazioui' 'semence sec'\n",
      " 'semence gazon' 'tourbe' 'produit molluscicides' 'melon_hybride'\n",
      " 'semence lisèrne' 'semence sorgho' 'semence pomme de tèrre'\n",
      " 'semence poivron' 'piment_hybride' 'semence cardan' 'semence radis'\n",
      " 'plantes olives' 'semence melon' 'semence choux' 'homs'\n",
      " 'plante fruité divers' 'sachet potageur' 'produit biostimulant'\n",
      " 'aliment de betail' 'semence potagère' 'semence potiron'\n",
      " 'aubergine_hybride' 'produit apiculture' 'des arbres' 'engrais soluble'\n",
      " 'semence basilic']\n",
      "\n",
      "Final counts of each unique value in 'FamilleArticle':\n",
      "FamilleArticle\n",
      "detail                    20758\n",
      "matériel apiculture       18762\n",
      "matériel divers           11844\n",
      "matériel goûte à goûte    10609\n",
      "matériel d'irrigation     10402\n",
      "                          ...  \n",
      "semence basilic              13\n",
      "divers de hsen               12\n",
      "aliment de betail            10\n",
      "semence cardan                9\n",
      "semence lisèrne               7\n",
      "Name: count, Length: 82, dtype: int64\n"
     ]
    }
   ],
   "source": [
    "# Store the final unique values and counts\n",
    "final_unique_famille_articles = complete_data['FamilleArticle'].unique()\n",
    "final_famille_counts = complete_data['FamilleArticle'].value_counts()\n",
    "\n",
    "# Print the final unique values\n",
    "print(\"Final unique values in 'FamilleArticle':\")\n",
    "print(final_unique_famille_articles)\n",
    "\n",
    "# Print the final counts\n",
    "print(\"\\nFinal counts of each unique value in 'FamilleArticle':\")\n",
    "print(final_famille_counts)"
   ]
  },
  {
   "cell_type": "code",
   "execution_count": 40,
   "id": "45c6d0a7",
   "metadata": {
    "scrolled": true
   },
   "outputs": [
    {
     "name": "stdout",
     "output_type": "stream",
     "text": [
      "Final unique values in 'FamilleArticle' (sorted alphabetically):\n",
      "aliment de betail\n",
      "aubergine_hybride\n",
      "chou-fleur_hybride\n",
      "courgette_hybride\n",
      "des arbres\n",
      "detail\n",
      "divers de hsen\n",
      "engrais soluble\n",
      "grands sachets de ghazioui\n",
      "homs\n",
      "matériel apiculture\n",
      "matériel avicole\n",
      "matériel bovin\n",
      "matériel d'irrigation\n",
      "matériel de l'arboriculture\n",
      "matériel de pompe 400 l\n",
      "matériel de taille\n",
      "matériel des moteur\n",
      "matériel divers\n",
      "matériel du labour\n",
      "matériel goûte à goûte\n",
      "matériel jardinage\n",
      "matériel joints membrane\n",
      "matériel joints spi ou ressort\n",
      "matériel outils de préparation de la terre\n",
      "matériel pulvérisation\n",
      "matériel tronceneuses\n",
      "melon_hybride\n",
      "pastèque_hybride\n",
      "piment_hybride\n",
      "plante fruité divers\n",
      "plantes olives\n",
      "poivron_hybride\n",
      "produit acaricides\n",
      "produit apiculture\n",
      "produit biostimulant\n",
      "produit engrais\n",
      "produit fongicides\n",
      "produit herbicides\n",
      "produit insecticides\n",
      "produit molluscicides\n",
      "produit raticide + anti insect\n",
      "sachet potageur\n",
      "semence artichaut\n",
      "semence aubergine\n",
      "semence avesse( guerfala)\n",
      "semence avoine\n",
      "semence basilic\n",
      "semence bettrave rouge\n",
      "semence cardan\n",
      "semence carottes\n",
      "semence celeri\n",
      "semence choux\n",
      "semence concombre\n",
      "semence coriandre\n",
      "semence courgette\n",
      "semence fenouil\n",
      "semence feve\n",
      "semence gazon\n",
      "semence haricot\n",
      "semence laitue\n",
      "semence lisèrne\n",
      "semence mais\n",
      "semence melon\n",
      "semence navet\n",
      "semence oignon\n",
      "semence pastèque\n",
      "semence persil\n",
      "semence petit pois\n",
      "semence piment\n",
      "semence poirée verte\n",
      "semence poivron\n",
      "semence pomme de tèrre\n",
      "semence potagère\n",
      "semence potiron\n",
      "semence radis\n",
      "semence sec\n",
      "semence sorgho\n",
      "semence tomate\n",
      "semence trefle\n",
      "tomates_hybride\n",
      "tourbe\n"
     ]
    }
   ],
   "source": [
    "\n",
    "# Sort the unique values alphabetically\n",
    "sorted_unique_famille_articles = sorted(final_unique_famille_articles)\n",
    "\n",
    "# Print the sorted unique values\n",
    "print(\"Final unique values in 'FamilleArticle' (sorted alphabetically):\")\n",
    "for famille in sorted_unique_famille_articles:\n",
    "    print(famille)"
   ]
  },
  {
   "cell_type": "markdown",
   "id": "16bcff0e",
   "metadata": {},
   "source": [
    "### we still can notice other inconsistencies \n",
    "1.plantes olives vs. plante (plural and singular form)\n",
    "\n",
    "2.The parentheses and spacing in avesse( guerfala) are inconsistent. It should likely be avesse guerfala\n",
    "\n",
    "3.The word tèrre has an incorrect accent. It should be pomme de terre.\n",
    "\n",
    "4.The naming convention for hybrid products is inconsistent. Some use underscores (tomates_hybride), while others use spaces (courgette hybride). These should be standardized."
   ]
  },
  {
   "cell_type": "markdown",
   "id": "824444e4",
   "metadata": {},
   "source": [
    "### Fix plantes olives → plante olives"
   ]
  },
  {
   "cell_type": "code",
   "execution_count": 41,
   "id": "688e21f4",
   "metadata": {},
   "outputs": [],
   "source": [
    "complete_data['FamilleArticle'] = complete_data['FamilleArticle'].replace('plantes olives', 'plante olives')"
   ]
  },
  {
   "cell_type": "markdown",
   "id": "5b199b22",
   "metadata": {},
   "source": [
    "### Fix semence avesse( guerfala) → semence avesse guerfala"
   ]
  },
  {
   "cell_type": "code",
   "execution_count": 42,
   "id": "cbe39c71",
   "metadata": {},
   "outputs": [],
   "source": [
    "complete_data['FamilleArticle'] = complete_data['FamilleArticle'].replace('semence avesse( guerfala)', 'semence avesse guerfala')"
   ]
  },
  {
   "cell_type": "markdown",
   "id": "254be0ed",
   "metadata": {},
   "source": [
    "### Fix semence pomme de tèrre → semence pomme de terre"
   ]
  },
  {
   "cell_type": "code",
   "execution_count": 43,
   "id": "bd3e3fc9",
   "metadata": {},
   "outputs": [],
   "source": [
    "complete_data['FamilleArticle'] = complete_data['FamilleArticle'].replace('semence pomme de tèrre', 'semence pomme de terre')"
   ]
  },
  {
   "cell_type": "markdown",
   "id": "75080a98",
   "metadata": {},
   "source": [
    "### Fix Hybrid Naming Convention"
   ]
  },
  {
   "cell_type": "code",
   "execution_count": 51,
   "id": "76462c7a",
   "metadata": {},
   "outputs": [],
   "source": [
    "# Replace spaces with underscores in hybrid names\n",
    "complete_data['FamilleArticle'] = complete_data['FamilleArticle'].str.replace('_', ' ')"
   ]
  },
  {
   "cell_type": "markdown",
   "id": "89ee4eab",
   "metadata": {},
   "source": [
    "### Verify the Changes"
   ]
  },
  {
   "cell_type": "code",
   "execution_count": 52,
   "id": "a4274b4e",
   "metadata": {},
   "outputs": [
    {
     "name": "stdout",
     "output_type": "stream",
     "text": [
      "Final unique values in 'FamilleArticle' (sorted alphabetically):\n",
      "aliment de betail\n",
      "aubergine hybride\n",
      "chou-fleur hybride\n",
      "courgette hybride\n",
      "des arbres\n",
      "detail\n",
      "divers de hsen\n",
      "engrais soluble\n",
      "grands sachets de ghazioui\n",
      "homs\n",
      "matériel apiculture\n",
      "matériel avicole\n",
      "matériel bovin\n",
      "matériel d'irrigation\n",
      "matériel de l'arboriculture\n",
      "matériel de pompe 400 l\n",
      "matériel de taille\n",
      "matériel des moteur\n",
      "matériel divers\n",
      "matériel du labour\n",
      "matériel goûte à goûte\n",
      "matériel jardinage\n",
      "matériel joints membrane\n",
      "matériel joints spi ou ressort\n",
      "matériel outils de préparation de la terre\n",
      "matériel pulvérisation\n",
      "matériel tronceneuses\n",
      "melon hybride\n",
      "pastèque hybride\n",
      "piment hybride\n",
      "plante fruité divers\n",
      "plante olives\n",
      "poivron hybride\n",
      "produit acaricides\n",
      "produit apiculture\n",
      "produit biostimulant\n",
      "produit engrais\n",
      "produit fongicides\n",
      "produit herbicides\n",
      "produit insecticides\n",
      "produit molluscicides\n",
      "produit raticide + anti insect\n",
      "sachet potageur\n",
      "semence artichaut\n",
      "semence aubergine\n",
      "semence avesse guerfala\n",
      "semence avoine\n",
      "semence basilic\n",
      "semence bettrave rouge\n",
      "semence cardan\n",
      "semence carottes\n",
      "semence celeri\n",
      "semence choux\n",
      "semence concombre\n",
      "semence coriandre\n",
      "semence courgette\n",
      "semence fenouil\n",
      "semence feve\n",
      "semence gazon\n",
      "semence haricot\n",
      "semence laitue\n",
      "semence lisèrne\n",
      "semence mais\n",
      "semence melon\n",
      "semence navet\n",
      "semence oignon\n",
      "semence pastèque\n",
      "semence persil\n",
      "semence petit pois\n",
      "semence piment\n",
      "semence poirée verte\n",
      "semence poivron\n",
      "semence pomme de terre\n",
      "semence potagère\n",
      "semence potiron\n",
      "semence radis\n",
      "semence sec\n",
      "semence sorgho\n",
      "semence tomate\n",
      "semence trefle\n",
      "tomates hybride\n",
      "tourbe\n"
     ]
    }
   ],
   "source": [
    "# Get the updated unique values\n",
    "updated_unique_famille_articles = complete_data['FamilleArticle'].unique()\n",
    "\n",
    "# Sort the unique values alphabetically\n",
    "sorted_unique_famille_articles = sorted(updated_unique_famille_articles)\n",
    "\n",
    "# Print the sorted unique values\n",
    "print(\"Final unique values in 'FamilleArticle' (sorted alphabetically):\")\n",
    "for famille in sorted_unique_famille_articles:\n",
    "    print(famille)"
   ]
  },
  {
   "cell_type": "markdown",
   "id": "ae247c6e",
   "metadata": {},
   "source": [
    "### We notice that the produit families still have inconsistencies in singular and plural forms (e.g., produit acaricides vs. produit engrais) same for semance"
   ]
  },
  {
   "cell_type": "markdown",
   "id": "57189c8d",
   "metadata": {},
   "source": [
    "### fixing produit"
   ]
  },
  {
   "cell_type": "code",
   "execution_count": 53,
   "id": "c53173bc",
   "metadata": {
    "scrolled": true
   },
   "outputs": [
    {
     "name": "stdout",
     "output_type": "stream",
     "text": [
      "Final unique values in 'FamilleArticle' (sorted alphabetically):\n",
      "aliment de betail\n",
      "aubergine hybride\n",
      "chou-fleur hybride\n",
      "courgette hybride\n",
      "des arbres\n",
      "detail\n",
      "divers de hsen\n",
      "engrais soluble\n",
      "grands sachets de ghazioui\n",
      "homs\n",
      "matériel apiculture\n",
      "matériel avicole\n",
      "matériel bovin\n",
      "matériel d'irrigation\n",
      "matériel de l'arboriculture\n",
      "matériel de pompe 400 l\n",
      "matériel de taille\n",
      "matériel des moteur\n",
      "matériel divers\n",
      "matériel du labour\n",
      "matériel goûte à goûte\n",
      "matériel jardinage\n",
      "matériel joints membrane\n",
      "matériel joints spi ou ressort\n",
      "matériel outils de préparation de la terre\n",
      "matériel pulvérisation\n",
      "matériel tronceneuses\n",
      "melon hybride\n",
      "pastèque hybride\n",
      "piment hybride\n",
      "plante fruité divers\n",
      "plante olives\n",
      "poivron hybride\n",
      "produit acaricide\n",
      "produit apiculture\n",
      "produit biostimulant\n",
      "produit engrai\n",
      "produit fongicide\n",
      "produit herbicide\n",
      "produit insecticide\n",
      "produit molluscicide\n",
      "produit raticide + anti insect\n",
      "sachet potageur\n",
      "semence artichaut\n",
      "semence aubergine\n",
      "semence avesse guerfala\n",
      "semence avoine\n",
      "semence basilic\n",
      "semence bettrave rouge\n",
      "semence cardan\n",
      "semence carottes\n",
      "semence celeri\n",
      "semence choux\n",
      "semence concombre\n",
      "semence coriandre\n",
      "semence courgette\n",
      "semence fenouil\n",
      "semence feve\n",
      "semence gazon\n",
      "semence haricot\n",
      "semence laitue\n",
      "semence lisèrne\n",
      "semence mais\n",
      "semence melon\n",
      "semence navet\n",
      "semence oignon\n",
      "semence pastèque\n",
      "semence persil\n",
      "semence petit pois\n",
      "semence piment\n",
      "semence poirée verte\n",
      "semence poivron\n",
      "semence pomme de terre\n",
      "semence potagère\n",
      "semence potiron\n",
      "semence radis\n",
      "semence sec\n",
      "semence sorgho\n",
      "semence tomate\n",
      "semence trefle\n",
      "tomates hybride\n",
      "tourbe\n"
     ]
    }
   ],
   "source": [
    "# Function to standardize \"produit\" families\n",
    "def standardize_produit(family):\n",
    "    words = family.split()  # Split the family name into words\n",
    "    if len(words) > 1 and words[0] == \"produit\" and words[1].endswith('s'):\n",
    "        words[1] = words[1][:-1]  # Remove the trailing 's'\n",
    "    return ' '.join(words)\n",
    "\n",
    "# Apply the function to the 'FamilleArticle' column\n",
    "complete_data['FamilleArticle'] = complete_data['FamilleArticle'].apply(standardize_produit)\n",
    "\n",
    "# Check the updated unique values\n",
    "updated_unique_famille_articles = complete_data['FamilleArticle'].unique()\n",
    "\n",
    "# Sort the unique values alphabetically\n",
    "sorted_unique_famille_articles = sorted(updated_unique_famille_articles)\n",
    "\n",
    "# Print the sorted unique values\n",
    "print(\"Final unique values in 'FamilleArticle' (sorted alphabetically):\")\n",
    "for famille in sorted_unique_famille_articles:\n",
    "    print(famille)"
   ]
  },
  {
   "cell_type": "markdown",
   "id": "e599595d",
   "metadata": {},
   "source": [
    "### fixing semance"
   ]
  },
  {
   "cell_type": "code",
   "execution_count": 54,
   "id": "b73ef5ac",
   "metadata": {},
   "outputs": [
    {
     "name": "stdout",
     "output_type": "stream",
     "text": [
      "Updated unique values in 'FamilleArticle' starting with 'semence':\n",
      "semence artichaut\n",
      "semence aubergine\n",
      "semence avesse guerfala\n",
      "semence avoine\n",
      "semence basilic\n",
      "semence bettrave rouge\n",
      "semence cardan\n",
      "semence carotte\n",
      "semence celeri\n",
      "semence choux\n",
      "semence concombre\n",
      "semence coriandre\n",
      "semence courgette\n",
      "semence fenouil\n",
      "semence feve\n",
      "semence gazon\n",
      "semence haricot\n",
      "semence laitue\n",
      "semence lisèrne\n",
      "semence mai\n",
      "semence melon\n",
      "semence navet\n",
      "semence oignon\n",
      "semence pastèque\n",
      "semence persil\n",
      "semence petit pois\n",
      "semence piment\n",
      "semence poirée verte\n",
      "semence poivron\n",
      "semence pomme de terre\n",
      "semence potagère\n",
      "semence potiron\n",
      "semence radi\n",
      "semence sec\n",
      "semence sorgho\n",
      "semence tomate\n",
      "semence trefle\n"
     ]
    }
   ],
   "source": [
    "# Function to standardize \"semence\" categories\n",
    "def standardize_semence(family):\n",
    "    words = family.split()  # Split the family name into words\n",
    "    if len(words) > 1 and words[0] == \"semence\" and words[1].endswith('s'):\n",
    "        words[1] = words[1][:-1]  # Remove the trailing 's'\n",
    "    return ' '.join(words)\n",
    "\n",
    "# Apply the function to standardize \"semence\" entries\n",
    "complete_data['FamilleArticle'] = complete_data['FamilleArticle'].apply(standardize_semence)\n",
    "\n",
    "# Check updated unique values for \"semence\"\n",
    "updated_semence_values = complete_data[complete_data['FamilleArticle'].str.startswith('semence')]['FamilleArticle'].unique()\n",
    "sorted_updated_semence_values = sorted(updated_semence_values)\n",
    "\n",
    "# Print updated values\n",
    "print(\"Updated unique values in 'FamilleArticle' starting with 'semence':\")\n",
    "for value in sorted_updated_semence_values:\n",
    "    print(value)\n"
   ]
  }
 ],
 "metadata": {
  "kernelspec": {
   "display_name": "Python 3 (ipykernel)",
   "language": "python",
   "name": "python3"
  },
  "language_info": {
   "codemirror_mode": {
    "name": "ipython",
    "version": 3
   },
   "file_extension": ".py",
   "mimetype": "text/x-python",
   "name": "python",
   "nbconvert_exporter": "python",
   "pygments_lexer": "ipython3",
   "version": "3.11.5"
  }
 },
 "nbformat": 4,
 "nbformat_minor": 5
}
